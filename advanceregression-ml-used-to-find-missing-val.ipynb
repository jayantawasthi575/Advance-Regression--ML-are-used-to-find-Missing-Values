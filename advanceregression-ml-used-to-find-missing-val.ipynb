{
 "cells": [
  {
   "cell_type": "code",
   "execution_count": 1,
   "metadata": {
    "_cell_guid": "b1076dfc-b9ad-4769-8c92-a6c4dae69d19",
    "_uuid": "8f2839f25d086af736a60e9eeb907d3b93b6e0e5",
    "execution": {
     "iopub.execute_input": "2020-10-01T05:16:48.222872Z",
     "iopub.status.busy": "2020-10-01T05:16:48.222325Z",
     "iopub.status.idle": "2020-10-01T05:16:49.383747Z",
     "shell.execute_reply": "2020-10-01T05:16:49.383196Z"
    },
    "papermill": {
     "duration": 1.235062,
     "end_time": "2020-10-01T05:16:49.383859",
     "exception": false,
     "start_time": "2020-10-01T05:16:48.148797",
     "status": "completed"
    },
    "tags": []
   },
   "outputs": [
    {
     "name": "stdout",
     "output_type": "stream",
     "text": [
      "/kaggle/input/house-prices-advanced-regression-techniques/sample_submission.csv\n",
      "/kaggle/input/house-prices-advanced-regression-techniques/data_description.txt\n",
      "/kaggle/input/house-prices-advanced-regression-techniques/test.csv\n",
      "/kaggle/input/house-prices-advanced-regression-techniques/train.csv\n"
     ]
    }
   ],
   "source": [
    "# This Python 3 environment comes with many helpful analytics libraries installed\n",
    "# It is defined by the kaggle/python Docker image: https://github.com/kaggle/docker-python\n",
    "# For example, here's several helpful packages to load\n",
    "%matplotlib inline\n",
    "import numpy as np # linear algebra\n",
    "import pandas as pd # data processing, CSV file I/O (e.g. pd.read_csv)\n",
    "\n",
    "import matplotlib.pyplot as plt\n",
    "import seaborn as sns\n",
    "import numpy as np\n",
    "from sklearn import preprocessing\n",
    "from sklearn.preprocessing import StandardScaler\n",
    "from sklearn.model_selection import train_test_split\n",
    "from sklearn.ensemble import RandomForestClassifier\n",
    "from sklearn.model_selection import cross_val_score\n",
    "from sklearn.metrics import mean_squared_error\n",
    "from sklearn.linear_model import LinearRegression\n",
    "from sklearn.tree import DecisionTreeRegressor\n",
    "from sklearn.ensemble import RandomForestRegressor\n",
    "from sklearn.svm import SVR\n",
    "from sklearn.model_selection import GridSearchCV\n",
    "from sklearn.model_selection import RandomizedSearchCV\n",
    "# Input data files are available in the read-only \"../input/\" directory\n",
    "# For example, running this (by clicking run or pressing Shift+Enter) will list all files under the input directory\n",
    "\n",
    "import os\n",
    "for dirname, _, filenames in os.walk('/kaggle/input'):\n",
    "    for filename in filenames:\n",
    "        print(os.path.join(dirname, filename))\n",
    "\n",
    "# You can write up to 5GB to the current directory (/kaggle/working/) that gets preserved as output when you create a version using \"Save & Run All\" \n",
    "# You can also write temporary files to /kaggle/temp/, but they won't be saved outside of the current session"
   ]
  },
  {
   "cell_type": "code",
   "execution_count": 2,
   "metadata": {
    "_cell_guid": "79c7e3d0-c299-4dcb-8224-4455121ee9b0",
    "_uuid": "d629ff2d2480ee46fbb7e2d37f6b5fab8052498a",
    "execution": {
     "iopub.execute_input": "2020-10-01T05:16:49.532364Z",
     "iopub.status.busy": "2020-10-01T05:16:49.531802Z",
     "iopub.status.idle": "2020-10-01T05:16:49.562276Z",
     "shell.execute_reply": "2020-10-01T05:16:49.561772Z"
    },
    "papermill": {
     "duration": 0.106532,
     "end_time": "2020-10-01T05:16:49.562378",
     "exception": false,
     "start_time": "2020-10-01T05:16:49.455846",
     "status": "completed"
    },
    "tags": []
   },
   "outputs": [],
   "source": [
    "train=pd.read_csv(\"/kaggle/input/house-prices-advanced-regression-techniques/train.csv\")\n"
   ]
  },
  {
   "cell_type": "code",
   "execution_count": 3,
   "metadata": {
    "execution": {
     "iopub.execute_input": "2020-10-01T05:16:49.709443Z",
     "iopub.status.busy": "2020-10-01T05:16:49.708560Z",
     "iopub.status.idle": "2020-10-01T05:16:49.714248Z",
     "shell.execute_reply": "2020-10-01T05:16:49.713718Z"
    },
    "papermill": {
     "duration": 0.08158,
     "end_time": "2020-10-01T05:16:49.714350",
     "exception": false,
     "start_time": "2020-10-01T05:16:49.632770",
     "status": "completed"
    },
    "tags": []
   },
   "outputs": [],
   "source": [
    "fffff=pd.read_csv('/kaggle/input/house-prices-advanced-regression-techniques/sample_submission.csv')"
   ]
  },
  {
   "cell_type": "code",
   "execution_count": 4,
   "metadata": {
    "execution": {
     "iopub.execute_input": "2020-10-01T05:16:49.861916Z",
     "iopub.status.busy": "2020-10-01T05:16:49.861266Z",
     "iopub.status.idle": "2020-10-01T05:16:49.883595Z",
     "shell.execute_reply": "2020-10-01T05:16:49.884024Z"
    },
    "papermill": {
     "duration": 0.098231,
     "end_time": "2020-10-01T05:16:49.884170",
     "exception": false,
     "start_time": "2020-10-01T05:16:49.785939",
     "status": "completed"
    },
    "tags": []
   },
   "outputs": [],
   "source": [
    "test=pd.read_csv(\"/kaggle/input/house-prices-advanced-regression-techniques/test.csv\")"
   ]
  },
  {
   "cell_type": "code",
   "execution_count": 5,
   "metadata": {
    "execution": {
     "iopub.execute_input": "2020-10-01T05:16:50.028448Z",
     "iopub.status.busy": "2020-10-01T05:16:50.027941Z",
     "iopub.status.idle": "2020-10-01T05:16:50.036364Z",
     "shell.execute_reply": "2020-10-01T05:16:50.035931Z"
    },
    "papermill": {
     "duration": 0.081318,
     "end_time": "2020-10-01T05:16:50.036468",
     "exception": false,
     "start_time": "2020-10-01T05:16:49.955150",
     "status": "completed"
    },
    "tags": []
   },
   "outputs": [],
   "source": [
    "ty=test[\"LotFrontage\"]"
   ]
  },
  {
   "cell_type": "code",
   "execution_count": 6,
   "metadata": {
    "execution": {
     "iopub.execute_input": "2020-10-01T05:16:50.183328Z",
     "iopub.status.busy": "2020-10-01T05:16:50.182800Z",
     "iopub.status.idle": "2020-10-01T05:16:50.185324Z",
     "shell.execute_reply": "2020-10-01T05:16:50.184803Z"
    },
    "papermill": {
     "duration": 0.078338,
     "end_time": "2020-10-01T05:16:50.185418",
     "exception": false,
     "start_time": "2020-10-01T05:16:50.107080",
     "status": "completed"
    },
    "tags": []
   },
   "outputs": [],
   "source": [
    "ty=ty.to_dict()"
   ]
  },
  {
   "cell_type": "code",
   "execution_count": 7,
   "metadata": {
    "execution": {
     "iopub.execute_input": "2020-10-01T05:16:50.332072Z",
     "iopub.status.busy": "2020-10-01T05:16:50.331432Z",
     "iopub.status.idle": "2020-10-01T05:16:50.492662Z",
     "shell.execute_reply": "2020-10-01T05:16:50.493388Z"
    },
    "papermill": {
     "duration": 0.237841,
     "end_time": "2020-10-01T05:16:50.493566",
     "exception": false,
     "start_time": "2020-10-01T05:16:50.255725",
     "status": "completed"
    },
    "tags": []
   },
   "outputs": [
    {
     "name": "stderr",
     "output_type": "stream",
     "text": [
      "/opt/conda/lib/python3.7/site-packages/pandas/core/indexing.py:670: SettingWithCopyWarning: \n",
      "A value is trying to be set on a copy of a slice from a DataFrame\n",
      "\n",
      "See the caveats in the documentation: https://pandas.pydata.org/pandas-docs/stable/user_guide/indexing.html#returning-a-view-versus-a-copy\n",
      "  iloc._setitem_with_indexer(indexer, value)\n"
     ]
    }
   ],
   "source": [
    "for i,j in ty.items():\n",
    "    test[\"LotFrontage\"].iloc[i]=j"
   ]
  },
  {
   "cell_type": "code",
   "execution_count": 8,
   "metadata": {
    "execution": {
     "iopub.execute_input": "2020-10-01T05:16:50.655667Z",
     "iopub.status.busy": "2020-10-01T05:16:50.652494Z",
     "iopub.status.idle": "2020-10-01T05:16:50.667947Z",
     "shell.execute_reply": "2020-10-01T05:16:50.668362Z"
    },
    "papermill": {
     "duration": 0.103115,
     "end_time": "2020-10-01T05:16:50.668490",
     "exception": false,
     "start_time": "2020-10-01T05:16:50.565375",
     "status": "completed"
    },
    "tags": []
   },
   "outputs": [
    {
     "data": {
      "text/html": [
       "<div>\n",
       "<style scoped>\n",
       "    .dataframe tbody tr th:only-of-type {\n",
       "        vertical-align: middle;\n",
       "    }\n",
       "\n",
       "    .dataframe tbody tr th {\n",
       "        vertical-align: top;\n",
       "    }\n",
       "\n",
       "    .dataframe thead th {\n",
       "        text-align: right;\n",
       "    }\n",
       "</style>\n",
       "<table border=\"1\" class=\"dataframe\">\n",
       "  <thead>\n",
       "    <tr style=\"text-align: right;\">\n",
       "      <th></th>\n",
       "      <th>Id</th>\n",
       "      <th>MSSubClass</th>\n",
       "      <th>MSZoning</th>\n",
       "      <th>LotFrontage</th>\n",
       "      <th>LotArea</th>\n",
       "      <th>Street</th>\n",
       "      <th>Alley</th>\n",
       "      <th>LotShape</th>\n",
       "      <th>LandContour</th>\n",
       "      <th>Utilities</th>\n",
       "      <th>...</th>\n",
       "      <th>PoolArea</th>\n",
       "      <th>PoolQC</th>\n",
       "      <th>Fence</th>\n",
       "      <th>MiscFeature</th>\n",
       "      <th>MiscVal</th>\n",
       "      <th>MoSold</th>\n",
       "      <th>YrSold</th>\n",
       "      <th>SaleType</th>\n",
       "      <th>SaleCondition</th>\n",
       "      <th>SalePrice</th>\n",
       "    </tr>\n",
       "  </thead>\n",
       "  <tbody>\n",
       "    <tr>\n",
       "      <th>0</th>\n",
       "      <td>1</td>\n",
       "      <td>60</td>\n",
       "      <td>RL</td>\n",
       "      <td>65.0</td>\n",
       "      <td>8450</td>\n",
       "      <td>Pave</td>\n",
       "      <td>NaN</td>\n",
       "      <td>Reg</td>\n",
       "      <td>Lvl</td>\n",
       "      <td>AllPub</td>\n",
       "      <td>...</td>\n",
       "      <td>0</td>\n",
       "      <td>NaN</td>\n",
       "      <td>NaN</td>\n",
       "      <td>NaN</td>\n",
       "      <td>0</td>\n",
       "      <td>2</td>\n",
       "      <td>2008</td>\n",
       "      <td>WD</td>\n",
       "      <td>Normal</td>\n",
       "      <td>208500</td>\n",
       "    </tr>\n",
       "    <tr>\n",
       "      <th>1</th>\n",
       "      <td>2</td>\n",
       "      <td>20</td>\n",
       "      <td>RL</td>\n",
       "      <td>80.0</td>\n",
       "      <td>9600</td>\n",
       "      <td>Pave</td>\n",
       "      <td>NaN</td>\n",
       "      <td>Reg</td>\n",
       "      <td>Lvl</td>\n",
       "      <td>AllPub</td>\n",
       "      <td>...</td>\n",
       "      <td>0</td>\n",
       "      <td>NaN</td>\n",
       "      <td>NaN</td>\n",
       "      <td>NaN</td>\n",
       "      <td>0</td>\n",
       "      <td>5</td>\n",
       "      <td>2007</td>\n",
       "      <td>WD</td>\n",
       "      <td>Normal</td>\n",
       "      <td>181500</td>\n",
       "    </tr>\n",
       "    <tr>\n",
       "      <th>2</th>\n",
       "      <td>3</td>\n",
       "      <td>60</td>\n",
       "      <td>RL</td>\n",
       "      <td>68.0</td>\n",
       "      <td>11250</td>\n",
       "      <td>Pave</td>\n",
       "      <td>NaN</td>\n",
       "      <td>IR1</td>\n",
       "      <td>Lvl</td>\n",
       "      <td>AllPub</td>\n",
       "      <td>...</td>\n",
       "      <td>0</td>\n",
       "      <td>NaN</td>\n",
       "      <td>NaN</td>\n",
       "      <td>NaN</td>\n",
       "      <td>0</td>\n",
       "      <td>9</td>\n",
       "      <td>2008</td>\n",
       "      <td>WD</td>\n",
       "      <td>Normal</td>\n",
       "      <td>223500</td>\n",
       "    </tr>\n",
       "    <tr>\n",
       "      <th>3</th>\n",
       "      <td>4</td>\n",
       "      <td>70</td>\n",
       "      <td>RL</td>\n",
       "      <td>60.0</td>\n",
       "      <td>9550</td>\n",
       "      <td>Pave</td>\n",
       "      <td>NaN</td>\n",
       "      <td>IR1</td>\n",
       "      <td>Lvl</td>\n",
       "      <td>AllPub</td>\n",
       "      <td>...</td>\n",
       "      <td>0</td>\n",
       "      <td>NaN</td>\n",
       "      <td>NaN</td>\n",
       "      <td>NaN</td>\n",
       "      <td>0</td>\n",
       "      <td>2</td>\n",
       "      <td>2006</td>\n",
       "      <td>WD</td>\n",
       "      <td>Abnorml</td>\n",
       "      <td>140000</td>\n",
       "    </tr>\n",
       "    <tr>\n",
       "      <th>4</th>\n",
       "      <td>5</td>\n",
       "      <td>60</td>\n",
       "      <td>RL</td>\n",
       "      <td>84.0</td>\n",
       "      <td>14260</td>\n",
       "      <td>Pave</td>\n",
       "      <td>NaN</td>\n",
       "      <td>IR1</td>\n",
       "      <td>Lvl</td>\n",
       "      <td>AllPub</td>\n",
       "      <td>...</td>\n",
       "      <td>0</td>\n",
       "      <td>NaN</td>\n",
       "      <td>NaN</td>\n",
       "      <td>NaN</td>\n",
       "      <td>0</td>\n",
       "      <td>12</td>\n",
       "      <td>2008</td>\n",
       "      <td>WD</td>\n",
       "      <td>Normal</td>\n",
       "      <td>250000</td>\n",
       "    </tr>\n",
       "  </tbody>\n",
       "</table>\n",
       "<p>5 rows × 81 columns</p>\n",
       "</div>"
      ],
      "text/plain": [
       "   Id  MSSubClass MSZoning  LotFrontage  LotArea Street Alley LotShape  \\\n",
       "0   1          60       RL         65.0     8450   Pave   NaN      Reg   \n",
       "1   2          20       RL         80.0     9600   Pave   NaN      Reg   \n",
       "2   3          60       RL         68.0    11250   Pave   NaN      IR1   \n",
       "3   4          70       RL         60.0     9550   Pave   NaN      IR1   \n",
       "4   5          60       RL         84.0    14260   Pave   NaN      IR1   \n",
       "\n",
       "  LandContour Utilities  ... PoolArea PoolQC Fence MiscFeature MiscVal MoSold  \\\n",
       "0         Lvl    AllPub  ...        0    NaN   NaN         NaN       0      2   \n",
       "1         Lvl    AllPub  ...        0    NaN   NaN         NaN       0      5   \n",
       "2         Lvl    AllPub  ...        0    NaN   NaN         NaN       0      9   \n",
       "3         Lvl    AllPub  ...        0    NaN   NaN         NaN       0      2   \n",
       "4         Lvl    AllPub  ...        0    NaN   NaN         NaN       0     12   \n",
       "\n",
       "  YrSold  SaleType  SaleCondition  SalePrice  \n",
       "0   2008        WD         Normal     208500  \n",
       "1   2007        WD         Normal     181500  \n",
       "2   2008        WD         Normal     223500  \n",
       "3   2006        WD        Abnorml     140000  \n",
       "4   2008        WD         Normal     250000  \n",
       "\n",
       "[5 rows x 81 columns]"
      ]
     },
     "execution_count": 8,
     "metadata": {},
     "output_type": "execute_result"
    }
   ],
   "source": [
    "train.head()"
   ]
  },
  {
   "cell_type": "markdown",
   "metadata": {
    "papermill": {
     "duration": 0.07163,
     "end_time": "2020-10-01T05:16:50.811293",
     "exception": false,
     "start_time": "2020-10-01T05:16:50.739663",
     "status": "completed"
    },
    "tags": []
   },
   "source": [
    "Quite a huge dataset with 81 features"
   ]
  },
  {
   "cell_type": "code",
   "execution_count": 9,
   "metadata": {
    "execution": {
     "iopub.execute_input": "2020-10-01T05:16:50.968295Z",
     "iopub.status.busy": "2020-10-01T05:16:50.967600Z",
     "iopub.status.idle": "2020-10-01T05:16:50.985710Z",
     "shell.execute_reply": "2020-10-01T05:16:50.986298Z"
    },
    "papermill": {
     "duration": 0.099415,
     "end_time": "2020-10-01T05:16:50.986591",
     "exception": false,
     "start_time": "2020-10-01T05:16:50.887176",
     "status": "completed"
    },
    "tags": []
   },
   "outputs": [
    {
     "name": "stdout",
     "output_type": "stream",
     "text": [
      "<class 'pandas.core.frame.DataFrame'>\n",
      "RangeIndex: 1460 entries, 0 to 1459\n",
      "Data columns (total 81 columns):\n",
      " #   Column         Non-Null Count  Dtype  \n",
      "---  ------         --------------  -----  \n",
      " 0   Id             1460 non-null   int64  \n",
      " 1   MSSubClass     1460 non-null   int64  \n",
      " 2   MSZoning       1460 non-null   object \n",
      " 3   LotFrontage    1201 non-null   float64\n",
      " 4   LotArea        1460 non-null   int64  \n",
      " 5   Street         1460 non-null   object \n",
      " 6   Alley          91 non-null     object \n",
      " 7   LotShape       1460 non-null   object \n",
      " 8   LandContour    1460 non-null   object \n",
      " 9   Utilities      1460 non-null   object \n",
      " 10  LotConfig      1460 non-null   object \n",
      " 11  LandSlope      1460 non-null   object \n",
      " 12  Neighborhood   1460 non-null   object \n",
      " 13  Condition1     1460 non-null   object \n",
      " 14  Condition2     1460 non-null   object \n",
      " 15  BldgType       1460 non-null   object \n",
      " 16  HouseStyle     1460 non-null   object \n",
      " 17  OverallQual    1460 non-null   int64  \n",
      " 18  OverallCond    1460 non-null   int64  \n",
      " 19  YearBuilt      1460 non-null   int64  \n",
      " 20  YearRemodAdd   1460 non-null   int64  \n",
      " 21  RoofStyle      1460 non-null   object \n",
      " 22  RoofMatl       1460 non-null   object \n",
      " 23  Exterior1st    1460 non-null   object \n",
      " 24  Exterior2nd    1460 non-null   object \n",
      " 25  MasVnrType     1452 non-null   object \n",
      " 26  MasVnrArea     1452 non-null   float64\n",
      " 27  ExterQual      1460 non-null   object \n",
      " 28  ExterCond      1460 non-null   object \n",
      " 29  Foundation     1460 non-null   object \n",
      " 30  BsmtQual       1423 non-null   object \n",
      " 31  BsmtCond       1423 non-null   object \n",
      " 32  BsmtExposure   1422 non-null   object \n",
      " 33  BsmtFinType1   1423 non-null   object \n",
      " 34  BsmtFinSF1     1460 non-null   int64  \n",
      " 35  BsmtFinType2   1422 non-null   object \n",
      " 36  BsmtFinSF2     1460 non-null   int64  \n",
      " 37  BsmtUnfSF      1460 non-null   int64  \n",
      " 38  TotalBsmtSF    1460 non-null   int64  \n",
      " 39  Heating        1460 non-null   object \n",
      " 40  HeatingQC      1460 non-null   object \n",
      " 41  CentralAir     1460 non-null   object \n",
      " 42  Electrical     1459 non-null   object \n",
      " 43  1stFlrSF       1460 non-null   int64  \n",
      " 44  2ndFlrSF       1460 non-null   int64  \n",
      " 45  LowQualFinSF   1460 non-null   int64  \n",
      " 46  GrLivArea      1460 non-null   int64  \n",
      " 47  BsmtFullBath   1460 non-null   int64  \n",
      " 48  BsmtHalfBath   1460 non-null   int64  \n",
      " 49  FullBath       1460 non-null   int64  \n",
      " 50  HalfBath       1460 non-null   int64  \n",
      " 51  BedroomAbvGr   1460 non-null   int64  \n",
      " 52  KitchenAbvGr   1460 non-null   int64  \n",
      " 53  KitchenQual    1460 non-null   object \n",
      " 54  TotRmsAbvGrd   1460 non-null   int64  \n",
      " 55  Functional     1460 non-null   object \n",
      " 56  Fireplaces     1460 non-null   int64  \n",
      " 57  FireplaceQu    770 non-null    object \n",
      " 58  GarageType     1379 non-null   object \n",
      " 59  GarageYrBlt    1379 non-null   float64\n",
      " 60  GarageFinish   1379 non-null   object \n",
      " 61  GarageCars     1460 non-null   int64  \n",
      " 62  GarageArea     1460 non-null   int64  \n",
      " 63  GarageQual     1379 non-null   object \n",
      " 64  GarageCond     1379 non-null   object \n",
      " 65  PavedDrive     1460 non-null   object \n",
      " 66  WoodDeckSF     1460 non-null   int64  \n",
      " 67  OpenPorchSF    1460 non-null   int64  \n",
      " 68  EnclosedPorch  1460 non-null   int64  \n",
      " 69  3SsnPorch      1460 non-null   int64  \n",
      " 70  ScreenPorch    1460 non-null   int64  \n",
      " 71  PoolArea       1460 non-null   int64  \n",
      " 72  PoolQC         7 non-null      object \n",
      " 73  Fence          281 non-null    object \n",
      " 74  MiscFeature    54 non-null     object \n",
      " 75  MiscVal        1460 non-null   int64  \n",
      " 76  MoSold         1460 non-null   int64  \n",
      " 77  YrSold         1460 non-null   int64  \n",
      " 78  SaleType       1460 non-null   object \n",
      " 79  SaleCondition  1460 non-null   object \n",
      " 80  SalePrice      1460 non-null   int64  \n",
      "dtypes: float64(3), int64(35), object(43)\n",
      "memory usage: 924.0+ KB\n"
     ]
    }
   ],
   "source": [
    "train.info()"
   ]
  },
  {
   "cell_type": "markdown",
   "metadata": {
    "papermill": {
     "duration": 0.072454,
     "end_time": "2020-10-01T05:16:51.132648",
     "exception": false,
     "start_time": "2020-10-01T05:16:51.060194",
     "status": "completed"
    },
    "tags": []
   },
   "source": [
    "Lets see the feature contaning null values"
   ]
  },
  {
   "cell_type": "code",
   "execution_count": 10,
   "metadata": {
    "execution": {
     "iopub.execute_input": "2020-10-01T05:16:51.281810Z",
     "iopub.status.busy": "2020-10-01T05:16:51.281259Z",
     "iopub.status.idle": "2020-10-01T05:16:51.283326Z",
     "shell.execute_reply": "2020-10-01T05:16:51.283711Z"
    },
    "papermill": {
     "duration": 0.079393,
     "end_time": "2020-10-01T05:16:51.283849",
     "exception": false,
     "start_time": "2020-10-01T05:16:51.204456",
     "status": "completed"
    },
    "tags": []
   },
   "outputs": [],
   "source": [
    "a=[]\n",
    "def missvalue(t):\n",
    "    for i in t.columns:\n",
    "        if(t[i].isnull().sum()>0):\n",
    "              a.append(i)\n",
    "            "
   ]
  },
  {
   "cell_type": "code",
   "execution_count": 11,
   "metadata": {
    "execution": {
     "iopub.execute_input": "2020-10-01T05:16:51.461851Z",
     "iopub.status.busy": "2020-10-01T05:16:51.461225Z",
     "iopub.status.idle": "2020-10-01T05:16:51.465078Z",
     "shell.execute_reply": "2020-10-01T05:16:51.464543Z"
    },
    "papermill": {
     "duration": 0.102235,
     "end_time": "2020-10-01T05:16:51.465186",
     "exception": false,
     "start_time": "2020-10-01T05:16:51.362951",
     "status": "completed"
    },
    "tags": []
   },
   "outputs": [
    {
     "data": {
      "text/plain": [
       "['LotFrontage',\n",
       " 'Alley',\n",
       " 'MasVnrType',\n",
       " 'MasVnrArea',\n",
       " 'BsmtQual',\n",
       " 'BsmtCond',\n",
       " 'BsmtExposure',\n",
       " 'BsmtFinType1',\n",
       " 'BsmtFinType2',\n",
       " 'Electrical',\n",
       " 'FireplaceQu',\n",
       " 'GarageType',\n",
       " 'GarageYrBlt',\n",
       " 'GarageFinish',\n",
       " 'GarageQual',\n",
       " 'GarageCond',\n",
       " 'PoolQC',\n",
       " 'Fence',\n",
       " 'MiscFeature']"
      ]
     },
     "execution_count": 11,
     "metadata": {},
     "output_type": "execute_result"
    }
   ],
   "source": [
    "missvalue(train)\n",
    "a"
   ]
  },
  {
   "cell_type": "code",
   "execution_count": 12,
   "metadata": {
    "execution": {
     "iopub.execute_input": "2020-10-01T05:16:51.633670Z",
     "iopub.status.busy": "2020-10-01T05:16:51.633124Z",
     "iopub.status.idle": "2020-10-01T05:16:51.636380Z",
     "shell.execute_reply": "2020-10-01T05:16:51.635861Z"
    },
    "papermill": {
     "duration": 0.098947,
     "end_time": "2020-10-01T05:16:51.636479",
     "exception": false,
     "start_time": "2020-10-01T05:16:51.537532",
     "status": "completed"
    },
    "tags": []
   },
   "outputs": [
    {
     "data": {
      "text/plain": [
       "['MSZoning',\n",
       " 'LotFrontage',\n",
       " 'Alley',\n",
       " 'Utilities',\n",
       " 'Exterior1st',\n",
       " 'Exterior2nd',\n",
       " 'MasVnrType',\n",
       " 'MasVnrArea',\n",
       " 'BsmtQual',\n",
       " 'BsmtCond',\n",
       " 'BsmtExposure',\n",
       " 'BsmtFinType1',\n",
       " 'BsmtFinSF1',\n",
       " 'BsmtFinType2',\n",
       " 'BsmtFinSF2',\n",
       " 'BsmtUnfSF',\n",
       " 'TotalBsmtSF',\n",
       " 'BsmtFullBath',\n",
       " 'BsmtHalfBath',\n",
       " 'KitchenQual',\n",
       " 'Functional',\n",
       " 'FireplaceQu',\n",
       " 'GarageType',\n",
       " 'GarageYrBlt',\n",
       " 'GarageFinish',\n",
       " 'GarageCars',\n",
       " 'GarageArea',\n",
       " 'GarageQual',\n",
       " 'GarageCond',\n",
       " 'PoolQC',\n",
       " 'Fence',\n",
       " 'MiscFeature',\n",
       " 'SaleType']"
      ]
     },
     "execution_count": 12,
     "metadata": {},
     "output_type": "execute_result"
    }
   ],
   "source": [
    "a=[]\n",
    "missvalue(test)\n",
    "a"
   ]
  },
  {
   "cell_type": "markdown",
   "metadata": {
    "papermill": {
     "duration": 0.072902,
     "end_time": "2020-10-01T05:16:51.782909",
     "exception": false,
     "start_time": "2020-10-01T05:16:51.710007",
     "status": "completed"
    },
    "tags": []
   },
   "source": [
    "test dataset has more null value than train set(this observeation will be help us in future while dealing with missing value)"
   ]
  },
  {
   "cell_type": "markdown",
   "metadata": {
    "papermill": {
     "duration": 0.072599,
     "end_time": "2020-10-01T05:16:51.929426",
     "exception": false,
     "start_time": "2020-10-01T05:16:51.856827",
     "status": "completed"
    },
    "tags": []
   },
   "source": [
    "# Handling missing values"
   ]
  },
  {
   "cell_type": "code",
   "execution_count": 13,
   "metadata": {
    "execution": {
     "iopub.execute_input": "2020-10-01T05:16:52.126475Z",
     "iopub.status.busy": "2020-10-01T05:16:52.125921Z",
     "iopub.status.idle": "2020-10-01T05:16:52.142020Z",
     "shell.execute_reply": "2020-10-01T05:16:52.142440Z"
    },
    "papermill": {
     "duration": 0.094397,
     "end_time": "2020-10-01T05:16:52.142579",
     "exception": false,
     "start_time": "2020-10-01T05:16:52.048182",
     "status": "completed"
    },
    "tags": []
   },
   "outputs": [],
   "source": [
    "a=[]\n",
    "missvalue(train)\n"
   ]
  },
  {
   "cell_type": "markdown",
   "metadata": {
    "papermill": {
     "duration": 0.072191,
     "end_time": "2020-10-01T05:16:52.287436",
     "exception": false,
     "start_time": "2020-10-01T05:16:52.215245",
     "status": "completed"
    },
    "tags": []
   },
   "source": [
    "Lets do it for train dataset first\n",
    "1-separate categorical and numerical missing feature"
   ]
  },
  {
   "cell_type": "code",
   "execution_count": 14,
   "metadata": {
    "execution": {
     "iopub.execute_input": "2020-10-01T05:16:52.435618Z",
     "iopub.status.busy": "2020-10-01T05:16:52.435086Z",
     "iopub.status.idle": "2020-10-01T05:16:52.439282Z",
     "shell.execute_reply": "2020-10-01T05:16:52.439708Z"
    },
    "papermill": {
     "duration": 0.079451,
     "end_time": "2020-10-01T05:16:52.439834",
     "exception": false,
     "start_time": "2020-10-01T05:16:52.360383",
     "status": "completed"
    },
    "tags": []
   },
   "outputs": [],
   "source": [
    "num=[]\n",
    "cat=[]\n",
    "def separate(train,p):\n",
    "    for i in p:\n",
    "        if(train[i].dtypes=='O'):\n",
    "            cat.append(i)\n",
    "        else:\n",
    "            num.append(i)\n",
    "    "
   ]
  },
  {
   "cell_type": "code",
   "execution_count": 15,
   "metadata": {
    "execution": {
     "iopub.execute_input": "2020-10-01T05:16:52.588250Z",
     "iopub.status.busy": "2020-10-01T05:16:52.587717Z",
     "iopub.status.idle": "2020-10-01T05:16:52.590892Z",
     "shell.execute_reply": "2020-10-01T05:16:52.591318Z"
    },
    "papermill": {
     "duration": 0.078685,
     "end_time": "2020-10-01T05:16:52.591440",
     "exception": false,
     "start_time": "2020-10-01T05:16:52.512755",
     "status": "completed"
    },
    "tags": []
   },
   "outputs": [],
   "source": [
    "separate(train,a)"
   ]
  },
  {
   "cell_type": "code",
   "execution_count": 16,
   "metadata": {
    "execution": {
     "iopub.execute_input": "2020-10-01T05:16:52.742040Z",
     "iopub.status.busy": "2020-10-01T05:16:52.741449Z",
     "iopub.status.idle": "2020-10-01T05:16:52.745887Z",
     "shell.execute_reply": "2020-10-01T05:16:52.746298Z"
    },
    "papermill": {
     "duration": 0.080785,
     "end_time": "2020-10-01T05:16:52.746427",
     "exception": false,
     "start_time": "2020-10-01T05:16:52.665642",
     "status": "completed"
    },
    "tags": []
   },
   "outputs": [
    {
     "data": {
      "text/plain": [
       "['Alley',\n",
       " 'MasVnrType',\n",
       " 'BsmtQual',\n",
       " 'BsmtCond',\n",
       " 'BsmtExposure',\n",
       " 'BsmtFinType1',\n",
       " 'BsmtFinType2',\n",
       " 'Electrical',\n",
       " 'FireplaceQu',\n",
       " 'GarageType',\n",
       " 'GarageFinish',\n",
       " 'GarageQual',\n",
       " 'GarageCond',\n",
       " 'PoolQC',\n",
       " 'Fence',\n",
       " 'MiscFeature']"
      ]
     },
     "execution_count": 16,
     "metadata": {},
     "output_type": "execute_result"
    }
   ],
   "source": [
    "cat"
   ]
  },
  {
   "cell_type": "code",
   "execution_count": 17,
   "metadata": {
    "execution": {
     "iopub.execute_input": "2020-10-01T05:16:52.897839Z",
     "iopub.status.busy": "2020-10-01T05:16:52.897288Z",
     "iopub.status.idle": "2020-10-01T05:16:52.901408Z",
     "shell.execute_reply": "2020-10-01T05:16:52.901832Z"
    },
    "papermill": {
     "duration": 0.082065,
     "end_time": "2020-10-01T05:16:52.901958",
     "exception": false,
     "start_time": "2020-10-01T05:16:52.819893",
     "status": "completed"
    },
    "tags": []
   },
   "outputs": [
    {
     "data": {
      "text/plain": [
       "['LotFrontage', 'MasVnrArea', 'GarageYrBlt']"
      ]
     },
     "execution_count": 17,
     "metadata": {},
     "output_type": "execute_result"
    }
   ],
   "source": [
    "num"
   ]
  },
  {
   "cell_type": "markdown",
   "metadata": {
    "papermill": {
     "duration": 0.073909,
     "end_time": "2020-10-01T05:16:53.050200",
     "exception": false,
     "start_time": "2020-10-01T05:16:52.976291",
     "status": "completed"
    },
    "tags": []
   },
   "source": [
    "Lets deal with numerical attribute first\n",
    ",Here LotFrontage and MasVnrArea are continous Variable and GarageYrBlt is descrete Variable\n",
    ".Lets check that if these are correlated with some other variable"
   ]
  },
  {
   "cell_type": "code",
   "execution_count": 18,
   "metadata": {
    "execution": {
     "iopub.execute_input": "2020-10-01T05:16:53.206591Z",
     "iopub.status.busy": "2020-10-01T05:16:53.206067Z",
     "iopub.status.idle": "2020-10-01T05:16:53.208649Z",
     "shell.execute_reply": "2020-10-01T05:16:53.209053Z"
    },
    "papermill": {
     "duration": 0.084703,
     "end_time": "2020-10-01T05:16:53.209187",
     "exception": false,
     "start_time": "2020-10-01T05:16:53.124484",
     "status": "completed"
    },
    "tags": []
   },
   "outputs": [],
   "source": [
    "num2=[]\n",
    "num1=[]\n",
    "def cor(k):\n",
    "    corr=train.corr()\n",
    "    for l in k:\n",
    "        m=0\n",
    "        t=corr[l].sort_values(ascending=False)\n",
    "        t=t.to_dict()\n",
    "        for i,j in t.items():\n",
    "            if(j>0.5):\n",
    "                print(i,j)\n",
    "                m=m+1\n",
    "        if(m>1):\n",
    "            num1.append(l)\n",
    "        else:\n",
    "            num2.append(l)\n",
    "                \n",
    "           \n",
    "        print(\"*\"*40)"
   ]
  },
  {
   "cell_type": "code",
   "execution_count": 19,
   "metadata": {
    "execution": {
     "iopub.execute_input": "2020-10-01T05:16:53.365184Z",
     "iopub.status.busy": "2020-10-01T05:16:53.364532Z",
     "iopub.status.idle": "2020-10-01T05:16:53.379872Z",
     "shell.execute_reply": "2020-10-01T05:16:53.379362Z"
    },
    "papermill": {
     "duration": 0.096561,
     "end_time": "2020-10-01T05:16:53.379981",
     "exception": false,
     "start_time": "2020-10-01T05:16:53.283420",
     "status": "completed"
    },
    "tags": []
   },
   "outputs": [
    {
     "name": "stdout",
     "output_type": "stream",
     "text": [
      "LotFrontage 1.0\n",
      "****************************************\n",
      "MasVnrArea 1.0\n",
      "****************************************\n",
      "GarageYrBlt 1.0\n",
      "YearBuilt 0.8256674841743434\n",
      "YearRemodAdd 0.6422767797035414\n",
      "GarageCars 0.5889200070047019\n",
      "GarageArea 0.5645670607230588\n",
      "OverallQual 0.5477658448351637\n",
      "****************************************\n"
     ]
    }
   ],
   "source": [
    "cor(num)"
   ]
  },
  {
   "cell_type": "code",
   "execution_count": 20,
   "metadata": {
    "execution": {
     "iopub.execute_input": "2020-10-01T05:16:53.533707Z",
     "iopub.status.busy": "2020-10-01T05:16:53.533086Z",
     "iopub.status.idle": "2020-10-01T05:16:53.536142Z",
     "shell.execute_reply": "2020-10-01T05:16:53.535594Z"
    },
    "papermill": {
     "duration": 0.082242,
     "end_time": "2020-10-01T05:16:53.536253",
     "exception": false,
     "start_time": "2020-10-01T05:16:53.454011",
     "status": "completed"
    },
    "tags": []
   },
   "outputs": [
    {
     "data": {
      "text/plain": [
       "['GarageYrBlt']"
      ]
     },
     "execution_count": 20,
     "metadata": {},
     "output_type": "execute_result"
    }
   ],
   "source": [
    "num1"
   ]
  },
  {
   "cell_type": "code",
   "execution_count": 21,
   "metadata": {
    "execution": {
     "iopub.execute_input": "2020-10-01T05:16:53.728070Z",
     "iopub.status.busy": "2020-10-01T05:16:53.727049Z",
     "iopub.status.idle": "2020-10-01T05:16:53.730671Z",
     "shell.execute_reply": "2020-10-01T05:16:53.731449Z"
    },
    "papermill": {
     "duration": 0.116132,
     "end_time": "2020-10-01T05:16:53.731676",
     "exception": false,
     "start_time": "2020-10-01T05:16:53.615544",
     "status": "completed"
    },
    "tags": []
   },
   "outputs": [
    {
     "data": {
      "text/plain": [
       "['LotFrontage', 'MasVnrArea']"
      ]
     },
     "execution_count": 21,
     "metadata": {},
     "output_type": "execute_result"
    }
   ],
   "source": [
    "num2"
   ]
  },
  {
   "cell_type": "markdown",
   "metadata": {
    "papermill": {
     "duration": 0.074709,
     "end_time": "2020-10-01T05:16:53.898554",
     "exception": false,
     "start_time": "2020-10-01T05:16:53.823845",
     "status": "completed"
    },
    "tags": []
   },
   "source": [
    "LotFrontage and MasVnrArea are not so correlated but GarageYrBlt is highly correlated on other features"
   ]
  },
  {
   "cell_type": "markdown",
   "metadata": {
    "papermill": {
     "duration": 0.074908,
     "end_time": "2020-10-01T05:16:54.060146",
     "exception": false,
     "start_time": "2020-10-01T05:16:53.985238",
     "status": "completed"
    },
    "tags": []
   },
   "source": [
    "Lets Draw Boxplot of LotFrontage and MasVnrArea to understand whether mean or median to be used to fill null values"
   ]
  },
  {
   "cell_type": "code",
   "execution_count": 22,
   "metadata": {
    "execution": {
     "iopub.execute_input": "2020-10-01T05:16:54.214852Z",
     "iopub.status.busy": "2020-10-01T05:16:54.214321Z",
     "iopub.status.idle": "2020-10-01T05:16:54.218608Z",
     "shell.execute_reply": "2020-10-01T05:16:54.219004Z"
    },
    "papermill": {
     "duration": 0.083331,
     "end_time": "2020-10-01T05:16:54.219139",
     "exception": false,
     "start_time": "2020-10-01T05:16:54.135808",
     "status": "completed"
    },
    "tags": []
   },
   "outputs": [],
   "source": [
    "def fig(k,c):\n",
    "     for i in k:\n",
    "        sns.boxplot(i,data=train)\n",
    "        plt.show()\n",
    "        \n",
    "\n"
   ]
  },
  {
   "cell_type": "code",
   "execution_count": 23,
   "metadata": {
    "execution": {
     "iopub.execute_input": "2020-10-01T05:16:54.374256Z",
     "iopub.status.busy": "2020-10-01T05:16:54.373651Z",
     "iopub.status.idle": "2020-10-01T05:16:54.593166Z",
     "shell.execute_reply": "2020-10-01T05:16:54.592492Z"
    },
    "papermill": {
     "duration": 0.299048,
     "end_time": "2020-10-01T05:16:54.593284",
     "exception": false,
     "start_time": "2020-10-01T05:16:54.294236",
     "status": "completed"
    },
    "tags": []
   },
   "outputs": [
    {
     "data": {
      "image/png": "[encoded data removed]",
      "text/plain": [
       "<Figure size 432x288 with 1 Axes>"
      ]
     },
     "metadata": {
      "needs_background": "light"
     },
     "output_type": "display_data"
    },
    {
     "data": {
      "image/png": "[encoded data removed]",
      "text/plain": [
       "<Figure size 432x288 with 1 Axes>"
      ]
     },
     "metadata": {
      "needs_background": "light"
     },
     "output_type": "display_data"
    }
   ],
   "source": [
    "fig(num2,train)"
   ]
  },
  {
   "cell_type": "markdown",
   "metadata": {
    "papermill": {
     "duration": 0.078217,
     "end_time": "2020-10-01T05:16:54.749183",
     "exception": false,
     "start_time": "2020-10-01T05:16:54.670966",
     "status": "completed"
    },
    "tags": []
   },
   "source": [
    "There r too many outliers so we should stick with median"
   ]
  },
  {
   "cell_type": "code",
   "execution_count": 24,
   "metadata": {
    "execution": {
     "iopub.execute_input": "2020-10-01T05:16:54.910243Z",
     "iopub.status.busy": "2020-10-01T05:16:54.907112Z",
     "iopub.status.idle": "2020-10-01T05:16:55.118062Z",
     "shell.execute_reply": "2020-10-01T05:16:55.117541Z"
    },
    "papermill": {
     "duration": 0.292451,
     "end_time": "2020-10-01T05:16:55.118170",
     "exception": false,
     "start_time": "2020-10-01T05:16:54.825719",
     "status": "completed"
    },
    "tags": []
   },
   "outputs": [
    {
     "data": {
      "text/plain": [
       "<matplotlib.collections.PathCollection at 0x7fafbf244150>"
      ]
     },
     "execution_count": 24,
     "metadata": {},
     "output_type": "execute_result"
    },
    {
     "data": {
      "image/png": "[encoded data removed]",
      "text/plain": [
       "<Figure size 432x288 with 1 Axes>"
      ]
     },
     "metadata": {
      "needs_background": "light"
     },
     "output_type": "display_data"
    }
   ],
   "source": [
    "plt.scatter(train['GarageYrBlt'],train['YearBuilt'])"
   ]
  },
  {
   "cell_type": "markdown",
   "metadata": {
    "papermill": {
     "duration": 0.076545,
     "end_time": "2020-10-01T05:16:55.272845",
     "exception": false,
     "start_time": "2020-10-01T05:16:55.196300",
     "status": "completed"
    },
    "tags": []
   },
   "source": [
    "We clearly see a line btw these two variable we will use linear regression model to predict those null values"
   ]
  },
  {
   "cell_type": "markdown",
   "metadata": {
    "papermill": {
     "duration": 0.076395,
     "end_time": "2020-10-01T05:16:55.425990",
     "exception": false,
     "start_time": "2020-10-01T05:16:55.349595",
     "status": "completed"
    },
    "tags": []
   },
   "source": [
    "Dealing with discrete numerical attribute(using linear regression)"
   ]
  },
  {
   "cell_type": "code",
   "execution_count": 25,
   "metadata": {
    "execution": {
     "iopub.execute_input": "2020-10-01T05:16:55.589456Z",
     "iopub.status.busy": "2020-10-01T05:16:55.588912Z",
     "iopub.status.idle": "2020-10-01T05:16:55.591632Z",
     "shell.execute_reply": "2020-10-01T05:16:55.591089Z"
    },
    "papermill": {
     "duration": 0.088825,
     "end_time": "2020-10-01T05:16:55.591746",
     "exception": false,
     "start_time": "2020-10-01T05:16:55.502921",
     "status": "completed"
    },
    "tags": []
   },
   "outputs": [],
   "source": [
    "def discrete(a,b,c):\n",
    "    t=b[a].isnull()\n",
    "    t=t.to_dict()\n",
    "    k=[]\n",
    "    for i,j in t.items():\n",
    "        if j==True:\n",
    "            k.append(i)\n",
    "    p=pd.read_csv(\"/kaggle/input/house-prices-advanced-regression-techniques/train.csv\")\n",
    "    m=pd.DataFrame(p[c].loc[k])\n",
    "    p.drop(k,inplace=True)\n",
    "    u=p[c].mode()\n",
    "    p.fillna(u,inplace=True)\n",
    "    t1=p[c].values\n",
    "    t2=p[a].values\n",
    "    t1=t1.reshape(-1,1)\n",
    "    from sklearn.linear_model import LinearRegression\n",
    "    lin_reg=LinearRegression()\n",
    "    lin_reg.fit(t1,t2)\n",
    "    l=m.values\n",
    "    y=lin_reg.predict(l)\n",
    "    y = [round(x) for x in y]\n",
    "    q=0\n",
    "    for i,j in t.items():\n",
    "        if j==True:\n",
    "               b[a].iloc[i]=y[q]\n",
    "               q=q+1  "
   ]
  },
  {
   "cell_type": "code",
   "execution_count": 26,
   "metadata": {
    "execution": {
     "iopub.execute_input": "2020-10-01T05:16:55.755130Z",
     "iopub.status.busy": "2020-10-01T05:16:55.754508Z",
     "iopub.status.idle": "2020-10-01T05:16:55.815812Z",
     "shell.execute_reply": "2020-10-01T05:16:55.816345Z"
    },
    "papermill": {
     "duration": 0.146395,
     "end_time": "2020-10-01T05:16:55.816478",
     "exception": false,
     "start_time": "2020-10-01T05:16:55.670083",
     "status": "completed"
    },
    "tags": []
   },
   "outputs": [
    {
     "name": "stderr",
     "output_type": "stream",
     "text": [
      "/opt/conda/lib/python3.7/site-packages/pandas/core/indexing.py:670: SettingWithCopyWarning: \n",
      "A value is trying to be set on a copy of a slice from a DataFrame\n",
      "\n",
      "See the caveats in the documentation: https://pandas.pydata.org/pandas-docs/stable/user_guide/indexing.html#returning-a-view-versus-a-copy\n",
      "  iloc._setitem_with_indexer(indexer, value)\n"
     ]
    }
   ],
   "source": [
    "discrete(\"GarageYrBlt\",train,\"YearBuilt\")"
   ]
  },
  {
   "cell_type": "code",
   "execution_count": 27,
   "metadata": {
    "execution": {
     "iopub.execute_input": "2020-10-01T05:16:55.979233Z",
     "iopub.status.busy": "2020-10-01T05:16:55.978359Z",
     "iopub.status.idle": "2020-10-01T05:16:55.984280Z",
     "shell.execute_reply": "2020-10-01T05:16:55.984666Z"
    },
    "papermill": {
     "duration": 0.089955,
     "end_time": "2020-10-01T05:16:55.984816",
     "exception": false,
     "start_time": "2020-10-01T05:16:55.894861",
     "status": "completed"
    },
    "tags": []
   },
   "outputs": [
    {
     "data": {
      "text/plain": [
       "0"
      ]
     },
     "execution_count": 27,
     "metadata": {},
     "output_type": "execute_result"
    }
   ],
   "source": [
    "train[\"GarageYrBlt\"].isnull().sum()"
   ]
  },
  {
   "cell_type": "code",
   "execution_count": 28,
   "metadata": {
    "execution": {
     "iopub.execute_input": "2020-10-01T05:16:56.144185Z",
     "iopub.status.busy": "2020-10-01T05:16:56.143333Z",
     "iopub.status.idle": "2020-10-01T05:16:56.149113Z",
     "shell.execute_reply": "2020-10-01T05:16:56.149508Z"
    },
    "papermill": {
     "duration": 0.086376,
     "end_time": "2020-10-01T05:16:56.149638",
     "exception": false,
     "start_time": "2020-10-01T05:16:56.063262",
     "status": "completed"
    },
    "tags": []
   },
   "outputs": [
    {
     "data": {
      "text/plain": [
       "0"
      ]
     },
     "execution_count": 28,
     "metadata": {},
     "output_type": "execute_result"
    }
   ],
   "source": [
    "train['LotFrontage'].fillna(69,inplace=True)\n",
    "train['LotFrontage'].isnull().sum()"
   ]
  },
  {
   "cell_type": "code",
   "execution_count": 29,
   "metadata": {
    "execution": {
     "iopub.execute_input": "2020-10-01T05:16:56.310486Z",
     "iopub.status.busy": "2020-10-01T05:16:56.309626Z",
     "iopub.status.idle": "2020-10-01T05:16:56.314591Z",
     "shell.execute_reply": "2020-10-01T05:16:56.314978Z"
    },
    "papermill": {
     "duration": 0.086622,
     "end_time": "2020-10-01T05:16:56.315112",
     "exception": false,
     "start_time": "2020-10-01T05:16:56.228490",
     "status": "completed"
    },
    "tags": []
   },
   "outputs": [
    {
     "data": {
      "text/plain": [
       "103.68526170798899"
      ]
     },
     "execution_count": 29,
     "metadata": {},
     "output_type": "execute_result"
    }
   ],
   "source": [
    "train['MasVnrArea'].mean()"
   ]
  },
  {
   "cell_type": "code",
   "execution_count": 30,
   "metadata": {
    "execution": {
     "iopub.execute_input": "2020-10-01T05:16:56.475036Z",
     "iopub.status.busy": "2020-10-01T05:16:56.474186Z",
     "iopub.status.idle": "2020-10-01T05:16:56.478303Z",
     "shell.execute_reply": "2020-10-01T05:16:56.478769Z"
    },
    "papermill": {
     "duration": 0.085552,
     "end_time": "2020-10-01T05:16:56.478897",
     "exception": false,
     "start_time": "2020-10-01T05:16:56.393345",
     "status": "completed"
    },
    "tags": []
   },
   "outputs": [],
   "source": [
    "train['MasVnrArea'].fillna(0,inplace=True)"
   ]
  },
  {
   "cell_type": "markdown",
   "metadata": {
    "papermill": {
     "duration": 0.078438,
     "end_time": "2020-10-01T05:16:56.635788",
     "exception": false,
     "start_time": "2020-10-01T05:16:56.557350",
     "status": "completed"
    },
    "tags": []
   },
   "source": [
    "Dealing with missing categorical attributes"
   ]
  },
  {
   "cell_type": "code",
   "execution_count": 31,
   "metadata": {
    "execution": {
     "iopub.execute_input": "2020-10-01T05:16:56.796143Z",
     "iopub.status.busy": "2020-10-01T05:16:56.795240Z",
     "iopub.status.idle": "2020-10-01T05:16:56.800628Z",
     "shell.execute_reply": "2020-10-01T05:16:56.801080Z"
    },
    "papermill": {
     "duration": 0.086996,
     "end_time": "2020-10-01T05:16:56.801208",
     "exception": false,
     "start_time": "2020-10-01T05:16:56.714212",
     "status": "completed"
    },
    "tags": []
   },
   "outputs": [
    {
     "data": {
      "text/plain": [
       "['Alley',\n",
       " 'MasVnrType',\n",
       " 'BsmtQual',\n",
       " 'BsmtCond',\n",
       " 'BsmtExposure',\n",
       " 'BsmtFinType1',\n",
       " 'BsmtFinType2',\n",
       " 'Electrical',\n",
       " 'FireplaceQu',\n",
       " 'GarageType',\n",
       " 'GarageFinish',\n",
       " 'GarageQual',\n",
       " 'GarageCond',\n",
       " 'PoolQC',\n",
       " 'Fence',\n",
       " 'MiscFeature']"
      ]
     },
     "execution_count": 31,
     "metadata": {},
     "output_type": "execute_result"
    }
   ],
   "source": [
    "cat"
   ]
  },
  {
   "cell_type": "code",
   "execution_count": 32,
   "metadata": {
    "execution": {
     "iopub.execute_input": "2020-10-01T05:16:56.963393Z",
     "iopub.status.busy": "2020-10-01T05:16:56.962476Z",
     "iopub.status.idle": "2020-10-01T05:16:58.589659Z",
     "shell.execute_reply": "2020-10-01T05:16:58.589182Z"
    },
    "papermill": {
     "duration": 1.709699,
     "end_time": "2020-10-01T05:16:58.589779",
     "exception": false,
     "start_time": "2020-10-01T05:16:56.880080",
     "status": "completed"
    },
    "tags": []
   },
   "outputs": [
    {
     "data": {
      "image/png": "[encoded data removed]",
      "text/plain": [
       "<Figure size 432x288 with 1 Axes>"
      ]
     },
     "metadata": {
      "needs_background": "light"
     },
     "output_type": "display_data"
    },
    {
     "name": "stdout",
     "output_type": "stream",
     "text": [
      "1369\n"
     ]
    },
    {
     "data": {
      "image/png": "[encoded data removed]",
      "text/plain": [
       "<Figure size 432x288 with 1 Axes>"
      ]
     },
     "metadata": {
      "needs_background": "light"
     },
     "output_type": "display_data"
    },
    {
     "name": "stdout",
     "output_type": "stream",
     "text": [
      "8\n"
     ]
    },
    {
     "data": {
      "image/png": "[encoded data removed]",
      "text/plain": [
       "<Figure size 432x288 with 1 Axes>"
      ]
     },
     "metadata": {
      "needs_background": "light"
     },
     "output_type": "display_data"
    },
    {
     "name": "stdout",
     "output_type": "stream",
     "text": [
      "37\n"
     ]
    },
    {
     "data": {
      "image/png": "[encoded data removed]",
      "text/plain": [
       "<Figure size 432x288 with 1 Axes>"
      ]
     },
     "metadata": {
      "needs_background": "light"
     },
     "output_type": "display_data"
    },
    {
     "name": "stdout",
     "output_type": "stream",
     "text": [
      "37\n"
     ]
    },
    {
     "data": {
      "image/png": "[encoded data removed]",
      "text/plain": [
       "<Figure size 432x288 with 1 Axes>"
      ]
     },
     "metadata": {
      "needs_background": "light"
     },
     "output_type": "display_data"
    },
    {
     "name": "stdout",
     "output_type": "stream",
     "text": [
      "38\n"
     ]
    },
    {
     "data": {
      "image/png": "[encoded data removed]",
      "text/plain": [
       "<Figure size 432x288 with 1 Axes>"
      ]
     },
     "metadata": {
      "needs_background": "light"
     },
     "output_type": "display_data"
    },
    {
     "name": "stdout",
     "output_type": "stream",
     "text": [
      "37\n"
     ]
    },
    {
     "data": {
      "image/png": "[encoded data removed]",
      "text/plain": [
       "<Figure size 432x288 with 1 Axes>"
      ]
     },
     "metadata": {
      "needs_background": "light"
     },
     "output_type": "display_data"
    },
    {
     "name": "stdout",
     "output_type": "stream",
     "text": [
      "38\n"
     ]
    },
    {
     "data": {
      "image/png": "[encoded data removed]",
      "text/plain": [
       "<Figure size 432x288 with 1 Axes>"
      ]
     },
     "metadata": {
      "needs_background": "light"
     },
     "output_type": "display_data"
    },
    {
     "name": "stdout",
     "output_type": "stream",
     "text": [
      "1\n"
     ]
    },
    {
     "data": {
      "image/png": "[encoded data removed]",
      "text/plain": [
       "<Figure size 432x288 with 1 Axes>"
      ]
     },
     "metadata": {
      "needs_background": "light"
     },
     "output_type": "display_data"
    },
    {
     "name": "stdout",
     "output_type": "stream",
     "text": [
      "690\n"
     ]
    },
    {
     "data": {
      "image/png": "[encoded data removed]",
      "text/plain": [
       "<Figure size 432x288 with 1 Axes>"
      ]
     },
     "metadata": {
      "needs_background": "light"
     },
     "output_type": "display_data"
    },
    {
     "name": "stdout",
     "output_type": "stream",
     "text": [
      "81\n"
     ]
    },
    {
     "data": {
      "image/png": "[encoded data removed]",
      "text/plain": [
       "<Figure size 432x288 with 1 Axes>"
      ]
     },
     "metadata": {
      "needs_background": "light"
     },
     "output_type": "display_data"
    },
    {
     "name": "stdout",
     "output_type": "stream",
     "text": [
      "81\n"
     ]
    },
    {
     "data": {
      "image/png": "[encoded data removed]",
      "text/plain": [
       "<Figure size 432x288 with 1 Axes>"
      ]
     },
     "metadata": {
      "needs_background": "light"
     },
     "output_type": "display_data"
    },
    {
     "name": "stdout",
     "output_type": "stream",
     "text": [
      "81\n"
     ]
    },
    {
     "data": {
      "image/png": "[encoded data removed]",
      "text/plain": [
       "<Figure size 432x288 with 1 Axes>"
      ]
     },
     "metadata": {
      "needs_background": "light"
     },
     "output_type": "display_data"
    },
    {
     "name": "stdout",
     "output_type": "stream",
     "text": [
      "81\n"
     ]
    },
    {
     "data": {
      "image/png": "[encoded data removed]",
      "text/plain": [
       "<Figure size 432x288 with 1 Axes>"
      ]
     },
     "metadata": {
      "needs_background": "light"
     },
     "output_type": "display_data"
    },
    {
     "name": "stdout",
     "output_type": "stream",
     "text": [
      "1453\n"
     ]
    },
    {
     "data": {
      "image/png": "[encoded data removed]",
      "text/plain": [
       "<Figure size 432x288 with 1 Axes>"
      ]
     },
     "metadata": {
      "needs_background": "light"
     },
     "output_type": "display_data"
    },
    {
     "name": "stdout",
     "output_type": "stream",
     "text": [
      "1179\n"
     ]
    },
    {
     "data": {
      "image/png": "[encoded data removed]",
      "text/plain": [
       "<Figure size 432x288 with 1 Axes>"
      ]
     },
     "metadata": {
      "needs_background": "light"
     },
     "output_type": "display_data"
    },
    {
     "name": "stdout",
     "output_type": "stream",
     "text": [
      "1406\n"
     ]
    }
   ],
   "source": [
    "for i in cat:\n",
    "    sns.countplot(i,data=train)\n",
    "    plt.show()\n",
    "    t=train[i].isnull().sum()\n",
    "    print(t)"
   ]
  },
  {
   "cell_type": "markdown",
   "metadata": {
    "papermill": {
     "duration": 0.090319,
     "end_time": "2020-10-01T05:16:58.772631",
     "exception": false,
     "start_time": "2020-10-01T05:16:58.682312",
     "status": "completed"
    },
    "tags": []
   },
   "source": [
    "Its better to use ML models to predict missing value(we r gonna use knearest neighbours)"
   ]
  },
  {
   "cell_type": "code",
   "execution_count": 33,
   "metadata": {
    "execution": {
     "iopub.execute_input": "2020-10-01T05:16:58.960867Z",
     "iopub.status.busy": "2020-10-01T05:16:58.960275Z",
     "iopub.status.idle": "2020-10-01T05:16:58.963991Z",
     "shell.execute_reply": "2020-10-01T05:16:58.963461Z"
    },
    "papermill": {
     "duration": 0.099647,
     "end_time": "2020-10-01T05:16:58.964101",
     "exception": false,
     "start_time": "2020-10-01T05:16:58.864454",
     "status": "completed"
    },
    "tags": []
   },
   "outputs": [],
   "source": [
    "train.drop(['MiscFeature','Fence','PoolQC','Alley'],axis=1,inplace=True)"
   ]
  },
  {
   "cell_type": "code",
   "execution_count": 34,
   "metadata": {
    "execution": {
     "iopub.execute_input": "2020-10-01T05:16:59.153580Z",
     "iopub.status.busy": "2020-10-01T05:16:59.152667Z",
     "iopub.status.idle": "2020-10-01T05:16:59.154807Z",
     "shell.execute_reply": "2020-10-01T05:16:59.155218Z"
    },
    "papermill": {
     "duration": 0.097677,
     "end_time": "2020-10-01T05:16:59.155340",
     "exception": false,
     "start_time": "2020-10-01T05:16:59.057663",
     "status": "completed"
    },
    "tags": []
   },
   "outputs": [],
   "source": [
    "k=['MiscFeature','Fence','PoolQC','Alley']\n",
    "\n",
    "cat = [element for element in cat if element not in k]"
   ]
  },
  {
   "cell_type": "code",
   "execution_count": 35,
   "metadata": {
    "execution": {
     "iopub.execute_input": "2020-10-01T05:16:59.343386Z",
     "iopub.status.busy": "2020-10-01T05:16:59.342604Z",
     "iopub.status.idle": "2020-10-01T05:16:59.346462Z",
     "shell.execute_reply": "2020-10-01T05:16:59.346011Z"
    },
    "papermill": {
     "duration": 0.099024,
     "end_time": "2020-10-01T05:16:59.346565",
     "exception": false,
     "start_time": "2020-10-01T05:16:59.247541",
     "status": "completed"
    },
    "tags": []
   },
   "outputs": [
    {
     "data": {
      "text/plain": [
       "['MasVnrType',\n",
       " 'BsmtQual',\n",
       " 'BsmtCond',\n",
       " 'BsmtExposure',\n",
       " 'BsmtFinType1',\n",
       " 'BsmtFinType2',\n",
       " 'Electrical',\n",
       " 'FireplaceQu',\n",
       " 'GarageType',\n",
       " 'GarageFinish',\n",
       " 'GarageQual',\n",
       " 'GarageCond']"
      ]
     },
     "execution_count": 35,
     "metadata": {},
     "output_type": "execute_result"
    }
   ],
   "source": [
    "cat"
   ]
  },
  {
   "cell_type": "code",
   "execution_count": 36,
   "metadata": {
    "execution": {
     "iopub.execute_input": "2020-10-01T05:16:59.532247Z",
     "iopub.status.busy": "2020-10-01T05:16:59.531718Z",
     "iopub.status.idle": "2020-10-01T05:16:59.537531Z",
     "shell.execute_reply": "2020-10-01T05:16:59.537063Z"
    },
    "papermill": {
     "duration": 0.099486,
     "end_time": "2020-10-01T05:16:59.537637",
     "exception": false,
     "start_time": "2020-10-01T05:16:59.438151",
     "status": "completed"
    },
    "tags": []
   },
   "outputs": [
    {
     "data": {
      "text/plain": [
       "77"
      ]
     },
     "execution_count": 36,
     "metadata": {},
     "output_type": "execute_result"
    }
   ],
   "source": [
    "len(train.columns)"
   ]
  },
  {
   "cell_type": "code",
   "execution_count": 37,
   "metadata": {
    "execution": {
     "iopub.execute_input": "2020-10-01T05:16:59.743953Z",
     "iopub.status.busy": "2020-10-01T05:16:59.730335Z",
     "iopub.status.idle": "2020-10-01T05:16:59.747075Z",
     "shell.execute_reply": "2020-10-01T05:16:59.746577Z"
    },
    "papermill": {
     "duration": 0.117001,
     "end_time": "2020-10-01T05:16:59.747189",
     "exception": false,
     "start_time": "2020-10-01T05:16:59.630188",
     "status": "completed"
    },
    "tags": []
   },
   "outputs": [],
   "source": [
    "def categorical(ca,tttt):\n",
    "    for al in ca:\n",
    "        t=tttt[al].isnull()\n",
    "        t=t.to_dict()  \n",
    "        k=[]\n",
    "        for i,j in t.items():\n",
    "            if j==True:\n",
    "                 k.append(i)\n",
    "        p=pd.read_csv(\"/kaggle/input/house-prices-advanced-regression-techniques/train.csv\")\n",
    "        p.drop(['MiscFeature','Fence','PoolQC','Alley'],axis=1,inplace=True)\n",
    "        z=pd.DataFrame(p.iloc[k])\n",
    "        z.drop([al],axis=1,inplace=True)\n",
    "        p.drop(k,inplace=True)\n",
    "        q=p[al].value_counts()\n",
    "        q=q.to_dict()\n",
    "        m=1\n",
    "        for i,j in q.items():\n",
    "            q[i]=m\n",
    "            m=m+1\n",
    "        p.replace({al:q},inplace=True)\n",
    "        t1=p[al].values\n",
    "        p.drop([al],axis=1,inplace=True)\n",
    "        p.fillna(0,inplace=True)\n",
    "        def split(a):\n",
    "            num=a.select_dtypes(include=[np.number]) \n",
    "            cat=a.select_dtypes(exclude=[np.number])\n",
    "            cat=pd.get_dummies(cat)\n",
    "            return num,cat\n",
    "         \n",
    "        x,y=split(p)\n",
    "        scaler = preprocessing.StandardScaler()\n",
    "        def scaling(x,y):\n",
    "             features_scaled=scaler.fit_transform(x.values)\n",
    "             q=y.values\n",
    "             vk=np.concatenate((q,features_scaled),axis=1)\n",
    "             return vk\n",
    "        features=scaling(x,y)\n",
    "        (x_train,x_test,y_train,y_test) = train_test_split(features,t1, train_size=0.75, random_state=42)\n",
    "        rnd_clf = RandomForestClassifier(n_estimators=500, max_leaf_nodes=100, random_state=42)\n",
    "        rnd_clf.fit(x_train,y_train)\n",
    "        z.fillna(0,inplace=True)\n",
    "        r,s=split(z)\n",
    "        for w in y.columns:\n",
    "            for o in s.columns:\n",
    "                if(w==o):\n",
    "                    c=1\n",
    "                    break\n",
    "                else:\n",
    "                    c=2\n",
    "            if(c==2):\n",
    "                s[w]=0\n",
    "        for o in s.columns:\n",
    "                for w in y.columns:\n",
    "                    if(o==w):\n",
    "                        c=1\n",
    "                        break\n",
    "                    else:\n",
    "                        c=2\n",
    "                if(c==2):\n",
    "                    s.drop(o,axis=1,inplace=True)\n",
    "     \n",
    "        for oe in r.columns:\n",
    "            for we in x.columns:\n",
    "                if(we==oe):\n",
    "                    c=1\n",
    "                    break\n",
    "                else:\n",
    "                    c=2\n",
    "            if(c==2):\n",
    "                r.drop(oe,axis=1,inplace=True)\n",
    "        for we in x.columns:\n",
    "            for oe in r.columns:\n",
    "                if(we==oe):\n",
    "                    c=1\n",
    "                    break\n",
    "                else:\n",
    "                    c=2\n",
    "            if(c==2):\n",
    "                r[we]=0\n",
    "            \n",
    "                    \n",
    "       \n",
    "        features=scaling(r,s)\n",
    "        y_pred=rnd_clf.predict(features)\n",
    "        h=[]\n",
    "        for l in range(len(y_pred)):\n",
    "                u=[i for i,j in q.items() if j==y_pred[l]]\n",
    "                for tyyy in u:\n",
    "                    h.append(tyyy)\n",
    "        x=0\n",
    "        for i,j in t.items():\n",
    "                if j==True:\n",
    "                       tttt[al].iloc[i]=h[x]\n",
    "                       x=x+1  \n",
    "        "
   ]
  },
  {
   "cell_type": "code",
   "execution_count": 38,
   "metadata": {
    "execution": {
     "iopub.execute_input": "2020-10-01T05:16:59.936293Z",
     "iopub.status.busy": "2020-10-01T05:16:59.935736Z",
     "iopub.status.idle": "2020-10-01T05:17:17.624620Z",
     "shell.execute_reply": "2020-10-01T05:17:17.624009Z"
    },
    "papermill": {
     "duration": 17.785135,
     "end_time": "2020-10-01T05:17:17.624749",
     "exception": false,
     "start_time": "2020-10-01T05:16:59.839614",
     "status": "completed"
    },
    "tags": []
   },
   "outputs": [
    {
     "name": "stderr",
     "output_type": "stream",
     "text": [
      "/opt/conda/lib/python3.7/site-packages/pandas/core/indexing.py:670: SettingWithCopyWarning: \n",
      "A value is trying to be set on a copy of a slice from a DataFrame\n",
      "\n",
      "See the caveats in the documentation: https://pandas.pydata.org/pandas-docs/stable/user_guide/indexing.html#returning-a-view-versus-a-copy\n",
      "  iloc._setitem_with_indexer(indexer, value)\n",
      "/opt/conda/lib/python3.7/site-packages/pandas/core/frame.py:4169: SettingWithCopyWarning: \n",
      "A value is trying to be set on a copy of a slice from a DataFrame\n",
      "\n",
      "See the caveats in the documentation: https://pandas.pydata.org/pandas-docs/stable/user_guide/indexing.html#returning-a-view-versus-a-copy\n",
      "  errors=errors,\n",
      "/opt/conda/lib/python3.7/site-packages/pandas/core/indexing.py:670: SettingWithCopyWarning: \n",
      "A value is trying to be set on a copy of a slice from a DataFrame\n",
      "\n",
      "See the caveats in the documentation: https://pandas.pydata.org/pandas-docs/stable/user_guide/indexing.html#returning-a-view-versus-a-copy\n",
      "  iloc._setitem_with_indexer(indexer, value)\n",
      "/opt/conda/lib/python3.7/site-packages/pandas/core/frame.py:4169: SettingWithCopyWarning: \n",
      "A value is trying to be set on a copy of a slice from a DataFrame\n",
      "\n",
      "See the caveats in the documentation: https://pandas.pydata.org/pandas-docs/stable/user_guide/indexing.html#returning-a-view-versus-a-copy\n",
      "  errors=errors,\n",
      "/opt/conda/lib/python3.7/site-packages/pandas/core/indexing.py:670: SettingWithCopyWarning: \n",
      "A value is trying to be set on a copy of a slice from a DataFrame\n",
      "\n",
      "See the caveats in the documentation: https://pandas.pydata.org/pandas-docs/stable/user_guide/indexing.html#returning-a-view-versus-a-copy\n",
      "  iloc._setitem_with_indexer(indexer, value)\n",
      "/opt/conda/lib/python3.7/site-packages/pandas/core/indexing.py:670: SettingWithCopyWarning: \n",
      "A value is trying to be set on a copy of a slice from a DataFrame\n",
      "\n",
      "See the caveats in the documentation: https://pandas.pydata.org/pandas-docs/stable/user_guide/indexing.html#returning-a-view-versus-a-copy\n",
      "  iloc._setitem_with_indexer(indexer, value)\n",
      "/opt/conda/lib/python3.7/site-packages/pandas/core/frame.py:4169: SettingWithCopyWarning: \n",
      "A value is trying to be set on a copy of a slice from a DataFrame\n",
      "\n",
      "See the caveats in the documentation: https://pandas.pydata.org/pandas-docs/stable/user_guide/indexing.html#returning-a-view-versus-a-copy\n",
      "  errors=errors,\n",
      "/opt/conda/lib/python3.7/site-packages/pandas/core/indexing.py:670: SettingWithCopyWarning: \n",
      "A value is trying to be set on a copy of a slice from a DataFrame\n",
      "\n",
      "See the caveats in the documentation: https://pandas.pydata.org/pandas-docs/stable/user_guide/indexing.html#returning-a-view-versus-a-copy\n",
      "  iloc._setitem_with_indexer(indexer, value)\n",
      "/opt/conda/lib/python3.7/site-packages/pandas/core/indexing.py:670: SettingWithCopyWarning: \n",
      "A value is trying to be set on a copy of a slice from a DataFrame\n",
      "\n",
      "See the caveats in the documentation: https://pandas.pydata.org/pandas-docs/stable/user_guide/indexing.html#returning-a-view-versus-a-copy\n",
      "  iloc._setitem_with_indexer(indexer, value)\n",
      "/opt/conda/lib/python3.7/site-packages/pandas/core/frame.py:4169: SettingWithCopyWarning: \n",
      "A value is trying to be set on a copy of a slice from a DataFrame\n",
      "\n",
      "See the caveats in the documentation: https://pandas.pydata.org/pandas-docs/stable/user_guide/indexing.html#returning-a-view-versus-a-copy\n",
      "  errors=errors,\n",
      "/opt/conda/lib/python3.7/site-packages/pandas/core/indexing.py:670: SettingWithCopyWarning: \n",
      "A value is trying to be set on a copy of a slice from a DataFrame\n",
      "\n",
      "See the caveats in the documentation: https://pandas.pydata.org/pandas-docs/stable/user_guide/indexing.html#returning-a-view-versus-a-copy\n",
      "  iloc._setitem_with_indexer(indexer, value)\n",
      "/opt/conda/lib/python3.7/site-packages/pandas/core/indexing.py:670: SettingWithCopyWarning: \n",
      "A value is trying to be set on a copy of a slice from a DataFrame\n",
      "\n",
      "See the caveats in the documentation: https://pandas.pydata.org/pandas-docs/stable/user_guide/indexing.html#returning-a-view-versus-a-copy\n",
      "  iloc._setitem_with_indexer(indexer, value)\n",
      "/opt/conda/lib/python3.7/site-packages/pandas/core/frame.py:4169: SettingWithCopyWarning: \n",
      "A value is trying to be set on a copy of a slice from a DataFrame\n",
      "\n",
      "See the caveats in the documentation: https://pandas.pydata.org/pandas-docs/stable/user_guide/indexing.html#returning-a-view-versus-a-copy\n",
      "  errors=errors,\n",
      "/opt/conda/lib/python3.7/site-packages/pandas/core/indexing.py:670: SettingWithCopyWarning: \n",
      "A value is trying to be set on a copy of a slice from a DataFrame\n",
      "\n",
      "See the caveats in the documentation: https://pandas.pydata.org/pandas-docs/stable/user_guide/indexing.html#returning-a-view-versus-a-copy\n",
      "  iloc._setitem_with_indexer(indexer, value)\n",
      "/opt/conda/lib/python3.7/site-packages/pandas/core/frame.py:4169: SettingWithCopyWarning: \n",
      "A value is trying to be set on a copy of a slice from a DataFrame\n",
      "\n",
      "See the caveats in the documentation: https://pandas.pydata.org/pandas-docs/stable/user_guide/indexing.html#returning-a-view-versus-a-copy\n",
      "  errors=errors,\n",
      "/opt/conda/lib/python3.7/site-packages/pandas/core/indexing.py:670: SettingWithCopyWarning: \n",
      "A value is trying to be set on a copy of a slice from a DataFrame\n",
      "\n",
      "See the caveats in the documentation: https://pandas.pydata.org/pandas-docs/stable/user_guide/indexing.html#returning-a-view-versus-a-copy\n",
      "  iloc._setitem_with_indexer(indexer, value)\n",
      "/opt/conda/lib/python3.7/site-packages/pandas/core/frame.py:4169: SettingWithCopyWarning: \n",
      "A value is trying to be set on a copy of a slice from a DataFrame\n",
      "\n",
      "See the caveats in the documentation: https://pandas.pydata.org/pandas-docs/stable/user_guide/indexing.html#returning-a-view-versus-a-copy\n",
      "  errors=errors,\n",
      "/opt/conda/lib/python3.7/site-packages/pandas/core/indexing.py:670: SettingWithCopyWarning: \n",
      "A value is trying to be set on a copy of a slice from a DataFrame\n",
      "\n",
      "See the caveats in the documentation: https://pandas.pydata.org/pandas-docs/stable/user_guide/indexing.html#returning-a-view-versus-a-copy\n",
      "  iloc._setitem_with_indexer(indexer, value)\n",
      "/opt/conda/lib/python3.7/site-packages/pandas/core/frame.py:4169: SettingWithCopyWarning: \n",
      "A value is trying to be set on a copy of a slice from a DataFrame\n",
      "\n",
      "See the caveats in the documentation: https://pandas.pydata.org/pandas-docs/stable/user_guide/indexing.html#returning-a-view-versus-a-copy\n",
      "  errors=errors,\n",
      "/opt/conda/lib/python3.7/site-packages/pandas/core/indexing.py:670: SettingWithCopyWarning: \n",
      "A value is trying to be set on a copy of a slice from a DataFrame\n",
      "\n",
      "See the caveats in the documentation: https://pandas.pydata.org/pandas-docs/stable/user_guide/indexing.html#returning-a-view-versus-a-copy\n",
      "  iloc._setitem_with_indexer(indexer, value)\n"
     ]
    }
   ],
   "source": [
    "categorical(cat,train)"
   ]
  },
  {
   "cell_type": "code",
   "execution_count": 39,
   "metadata": {
    "execution": {
     "iopub.execute_input": "2020-10-01T05:17:17.821977Z",
     "iopub.status.busy": "2020-10-01T05:17:17.821131Z",
     "iopub.status.idle": "2020-10-01T05:17:17.825022Z",
     "shell.execute_reply": "2020-10-01T05:17:17.825406Z"
    },
    "papermill": {
     "duration": 0.104377,
     "end_time": "2020-10-01T05:17:17.825545",
     "exception": false,
     "start_time": "2020-10-01T05:17:17.721168",
     "status": "completed"
    },
    "tags": []
   },
   "outputs": [
    {
     "data": {
      "text/plain": [
       "77"
      ]
     },
     "execution_count": 39,
     "metadata": {},
     "output_type": "execute_result"
    }
   ],
   "source": [
    "len(train.columns)"
   ]
  },
  {
   "cell_type": "code",
   "execution_count": 40,
   "metadata": {
    "execution": {
     "iopub.execute_input": "2020-10-01T05:17:18.047793Z",
     "iopub.status.busy": "2020-10-01T05:17:18.036979Z",
     "iopub.status.idle": "2020-10-01T05:17:18.051767Z",
     "shell.execute_reply": "2020-10-01T05:17:18.051264Z"
    },
    "papermill": {
     "duration": 0.131723,
     "end_time": "2020-10-01T05:17:18.051868",
     "exception": false,
     "start_time": "2020-10-01T05:17:17.920145",
     "status": "completed"
    },
    "tags": []
   },
   "outputs": [
    {
     "data": {
      "text/html": [
       "<div>\n",
       "<style scoped>\n",
       "    .dataframe tbody tr th:only-of-type {\n",
       "        vertical-align: middle;\n",
       "    }\n",
       "\n",
       "    .dataframe tbody tr th {\n",
       "        vertical-align: top;\n",
       "    }\n",
       "\n",
       "    .dataframe thead th {\n",
       "        text-align: right;\n",
       "    }\n",
       "</style>\n",
       "<table border=\"1\" class=\"dataframe\">\n",
       "  <thead>\n",
       "    <tr style=\"text-align: right;\">\n",
       "      <th></th>\n",
       "      <th>Id</th>\n",
       "      <th>MSSubClass</th>\n",
       "      <th>MSZoning</th>\n",
       "      <th>LotFrontage</th>\n",
       "      <th>LotArea</th>\n",
       "      <th>Street</th>\n",
       "      <th>LotShape</th>\n",
       "      <th>LandContour</th>\n",
       "      <th>Utilities</th>\n",
       "      <th>LotConfig</th>\n",
       "      <th>...</th>\n",
       "      <th>EnclosedPorch</th>\n",
       "      <th>3SsnPorch</th>\n",
       "      <th>ScreenPorch</th>\n",
       "      <th>PoolArea</th>\n",
       "      <th>MiscVal</th>\n",
       "      <th>MoSold</th>\n",
       "      <th>YrSold</th>\n",
       "      <th>SaleType</th>\n",
       "      <th>SaleCondition</th>\n",
       "      <th>SalePrice</th>\n",
       "    </tr>\n",
       "  </thead>\n",
       "  <tbody>\n",
       "    <tr>\n",
       "      <th>0</th>\n",
       "      <td>False</td>\n",
       "      <td>False</td>\n",
       "      <td>False</td>\n",
       "      <td>False</td>\n",
       "      <td>False</td>\n",
       "      <td>False</td>\n",
       "      <td>False</td>\n",
       "      <td>False</td>\n",
       "      <td>False</td>\n",
       "      <td>False</td>\n",
       "      <td>...</td>\n",
       "      <td>False</td>\n",
       "      <td>False</td>\n",
       "      <td>False</td>\n",
       "      <td>False</td>\n",
       "      <td>False</td>\n",
       "      <td>False</td>\n",
       "      <td>False</td>\n",
       "      <td>False</td>\n",
       "      <td>False</td>\n",
       "      <td>False</td>\n",
       "    </tr>\n",
       "    <tr>\n",
       "      <th>1</th>\n",
       "      <td>False</td>\n",
       "      <td>False</td>\n",
       "      <td>False</td>\n",
       "      <td>False</td>\n",
       "      <td>False</td>\n",
       "      <td>False</td>\n",
       "      <td>False</td>\n",
       "      <td>False</td>\n",
       "      <td>False</td>\n",
       "      <td>False</td>\n",
       "      <td>...</td>\n",
       "      <td>False</td>\n",
       "      <td>False</td>\n",
       "      <td>False</td>\n",
       "      <td>False</td>\n",
       "      <td>False</td>\n",
       "      <td>False</td>\n",
       "      <td>False</td>\n",
       "      <td>False</td>\n",
       "      <td>False</td>\n",
       "      <td>False</td>\n",
       "    </tr>\n",
       "    <tr>\n",
       "      <th>2</th>\n",
       "      <td>False</td>\n",
       "      <td>False</td>\n",
       "      <td>False</td>\n",
       "      <td>False</td>\n",
       "      <td>False</td>\n",
       "      <td>False</td>\n",
       "      <td>False</td>\n",
       "      <td>False</td>\n",
       "      <td>False</td>\n",
       "      <td>False</td>\n",
       "      <td>...</td>\n",
       "      <td>False</td>\n",
       "      <td>False</td>\n",
       "      <td>False</td>\n",
       "      <td>False</td>\n",
       "      <td>False</td>\n",
       "      <td>False</td>\n",
       "      <td>False</td>\n",
       "      <td>False</td>\n",
       "      <td>False</td>\n",
       "      <td>False</td>\n",
       "    </tr>\n",
       "    <tr>\n",
       "      <th>3</th>\n",
       "      <td>False</td>\n",
       "      <td>False</td>\n",
       "      <td>False</td>\n",
       "      <td>False</td>\n",
       "      <td>False</td>\n",
       "      <td>False</td>\n",
       "      <td>False</td>\n",
       "      <td>False</td>\n",
       "      <td>False</td>\n",
       "      <td>False</td>\n",
       "      <td>...</td>\n",
       "      <td>False</td>\n",
       "      <td>False</td>\n",
       "      <td>False</td>\n",
       "      <td>False</td>\n",
       "      <td>False</td>\n",
       "      <td>False</td>\n",
       "      <td>False</td>\n",
       "      <td>False</td>\n",
       "      <td>False</td>\n",
       "      <td>False</td>\n",
       "    </tr>\n",
       "    <tr>\n",
       "      <th>4</th>\n",
       "      <td>False</td>\n",
       "      <td>False</td>\n",
       "      <td>False</td>\n",
       "      <td>False</td>\n",
       "      <td>False</td>\n",
       "      <td>False</td>\n",
       "      <td>False</td>\n",
       "      <td>False</td>\n",
       "      <td>False</td>\n",
       "      <td>False</td>\n",
       "      <td>...</td>\n",
       "      <td>False</td>\n",
       "      <td>False</td>\n",
       "      <td>False</td>\n",
       "      <td>False</td>\n",
       "      <td>False</td>\n",
       "      <td>False</td>\n",
       "      <td>False</td>\n",
       "      <td>False</td>\n",
       "      <td>False</td>\n",
       "      <td>False</td>\n",
       "    </tr>\n",
       "    <tr>\n",
       "      <th>...</th>\n",
       "      <td>...</td>\n",
       "      <td>...</td>\n",
       "      <td>...</td>\n",
       "      <td>...</td>\n",
       "      <td>...</td>\n",
       "      <td>...</td>\n",
       "      <td>...</td>\n",
       "      <td>...</td>\n",
       "      <td>...</td>\n",
       "      <td>...</td>\n",
       "      <td>...</td>\n",
       "      <td>...</td>\n",
       "      <td>...</td>\n",
       "      <td>...</td>\n",
       "      <td>...</td>\n",
       "      <td>...</td>\n",
       "      <td>...</td>\n",
       "      <td>...</td>\n",
       "      <td>...</td>\n",
       "      <td>...</td>\n",
       "      <td>...</td>\n",
       "    </tr>\n",
       "    <tr>\n",
       "      <th>1455</th>\n",
       "      <td>False</td>\n",
       "      <td>False</td>\n",
       "      <td>False</td>\n",
       "      <td>False</td>\n",
       "      <td>False</td>\n",
       "      <td>False</td>\n",
       "      <td>False</td>\n",
       "      <td>False</td>\n",
       "      <td>False</td>\n",
       "      <td>False</td>\n",
       "      <td>...</td>\n",
       "      <td>False</td>\n",
       "      <td>False</td>\n",
       "      <td>False</td>\n",
       "      <td>False</td>\n",
       "      <td>False</td>\n",
       "      <td>False</td>\n",
       "      <td>False</td>\n",
       "      <td>False</td>\n",
       "      <td>False</td>\n",
       "      <td>False</td>\n",
       "    </tr>\n",
       "    <tr>\n",
       "      <th>1456</th>\n",
       "      <td>False</td>\n",
       "      <td>False</td>\n",
       "      <td>False</td>\n",
       "      <td>False</td>\n",
       "      <td>False</td>\n",
       "      <td>False</td>\n",
       "      <td>False</td>\n",
       "      <td>False</td>\n",
       "      <td>False</td>\n",
       "      <td>False</td>\n",
       "      <td>...</td>\n",
       "      <td>False</td>\n",
       "      <td>False</td>\n",
       "      <td>False</td>\n",
       "      <td>False</td>\n",
       "      <td>False</td>\n",
       "      <td>False</td>\n",
       "      <td>False</td>\n",
       "      <td>False</td>\n",
       "      <td>False</td>\n",
       "      <td>False</td>\n",
       "    </tr>\n",
       "    <tr>\n",
       "      <th>1457</th>\n",
       "      <td>False</td>\n",
       "      <td>False</td>\n",
       "      <td>False</td>\n",
       "      <td>False</td>\n",
       "      <td>False</td>\n",
       "      <td>False</td>\n",
       "      <td>False</td>\n",
       "      <td>False</td>\n",
       "      <td>False</td>\n",
       "      <td>False</td>\n",
       "      <td>...</td>\n",
       "      <td>False</td>\n",
       "      <td>False</td>\n",
       "      <td>False</td>\n",
       "      <td>False</td>\n",
       "      <td>False</td>\n",
       "      <td>False</td>\n",
       "      <td>False</td>\n",
       "      <td>False</td>\n",
       "      <td>False</td>\n",
       "      <td>False</td>\n",
       "    </tr>\n",
       "    <tr>\n",
       "      <th>1458</th>\n",
       "      <td>False</td>\n",
       "      <td>False</td>\n",
       "      <td>False</td>\n",
       "      <td>False</td>\n",
       "      <td>False</td>\n",
       "      <td>False</td>\n",
       "      <td>False</td>\n",
       "      <td>False</td>\n",
       "      <td>False</td>\n",
       "      <td>False</td>\n",
       "      <td>...</td>\n",
       "      <td>False</td>\n",
       "      <td>False</td>\n",
       "      <td>False</td>\n",
       "      <td>False</td>\n",
       "      <td>False</td>\n",
       "      <td>False</td>\n",
       "      <td>False</td>\n",
       "      <td>False</td>\n",
       "      <td>False</td>\n",
       "      <td>False</td>\n",
       "    </tr>\n",
       "    <tr>\n",
       "      <th>1459</th>\n",
       "      <td>False</td>\n",
       "      <td>False</td>\n",
       "      <td>False</td>\n",
       "      <td>False</td>\n",
       "      <td>False</td>\n",
       "      <td>False</td>\n",
       "      <td>False</td>\n",
       "      <td>False</td>\n",
       "      <td>False</td>\n",
       "      <td>False</td>\n",
       "      <td>...</td>\n",
       "      <td>False</td>\n",
       "      <td>False</td>\n",
       "      <td>False</td>\n",
       "      <td>False</td>\n",
       "      <td>False</td>\n",
       "      <td>False</td>\n",
       "      <td>False</td>\n",
       "      <td>False</td>\n",
       "      <td>False</td>\n",
       "      <td>False</td>\n",
       "    </tr>\n",
       "  </tbody>\n",
       "</table>\n",
       "<p>1460 rows × 77 columns</p>\n",
       "</div>"
      ],
      "text/plain": [
       "         Id  MSSubClass  MSZoning  LotFrontage  LotArea  Street  LotShape  \\\n",
       "0     False       False     False        False    False   False     False   \n",
       "1     False       False     False        False    False   False     False   \n",
       "2     False       False     False        False    False   False     False   \n",
       "3     False       False     False        False    False   False     False   \n",
       "4     False       False     False        False    False   False     False   \n",
       "...     ...         ...       ...          ...      ...     ...       ...   \n",
       "1455  False       False     False        False    False   False     False   \n",
       "1456  False       False     False        False    False   False     False   \n",
       "1457  False       False     False        False    False   False     False   \n",
       "1458  False       False     False        False    False   False     False   \n",
       "1459  False       False     False        False    False   False     False   \n",
       "\n",
       "      LandContour  Utilities  LotConfig  ...  EnclosedPorch  3SsnPorch  \\\n",
       "0           False      False      False  ...          False      False   \n",
       "1           False      False      False  ...          False      False   \n",
       "2           False      False      False  ...          False      False   \n",
       "3           False      False      False  ...          False      False   \n",
       "4           False      False      False  ...          False      False   \n",
       "...           ...        ...        ...  ...            ...        ...   \n",
       "1455        False      False      False  ...          False      False   \n",
       "1456        False      False      False  ...          False      False   \n",
       "1457        False      False      False  ...          False      False   \n",
       "1458        False      False      False  ...          False      False   \n",
       "1459        False      False      False  ...          False      False   \n",
       "\n",
       "      ScreenPorch  PoolArea  MiscVal  MoSold  YrSold  SaleType  SaleCondition  \\\n",
       "0           False     False    False   False   False     False          False   \n",
       "1           False     False    False   False   False     False          False   \n",
       "2           False     False    False   False   False     False          False   \n",
       "3           False     False    False   False   False     False          False   \n",
       "4           False     False    False   False   False     False          False   \n",
       "...           ...       ...      ...     ...     ...       ...            ...   \n",
       "1455        False     False    False   False   False     False          False   \n",
       "1456        False     False    False   False   False     False          False   \n",
       "1457        False     False    False   False   False     False          False   \n",
       "1458        False     False    False   False   False     False          False   \n",
       "1459        False     False    False   False   False     False          False   \n",
       "\n",
       "      SalePrice  \n",
       "0         False  \n",
       "1         False  \n",
       "2         False  \n",
       "3         False  \n",
       "4         False  \n",
       "...         ...  \n",
       "1455      False  \n",
       "1456      False  \n",
       "1457      False  \n",
       "1458      False  \n",
       "1459      False  \n",
       "\n",
       "[1460 rows x 77 columns]"
      ]
     },
     "execution_count": 40,
     "metadata": {},
     "output_type": "execute_result"
    }
   ],
   "source": [
    "train.isnull()"
   ]
  },
  {
   "cell_type": "code",
   "execution_count": 41,
   "metadata": {
    "execution": {
     "iopub.execute_input": "2020-10-01T05:17:18.252457Z",
     "iopub.status.busy": "2020-10-01T05:17:18.251885Z",
     "iopub.status.idle": "2020-10-01T05:17:18.262707Z",
     "shell.execute_reply": "2020-10-01T05:17:18.263956Z"
    },
    "papermill": {
     "duration": 0.117077,
     "end_time": "2020-10-01T05:17:18.264133",
     "exception": false,
     "start_time": "2020-10-01T05:17:18.147056",
     "status": "completed"
    },
    "tags": []
   },
   "outputs": [
    {
     "name": "stdout",
     "output_type": "stream",
     "text": [
      "<class 'pandas.core.frame.DataFrame'>\n",
      "RangeIndex: 1459 entries, 0 to 1458\n",
      "Data columns (total 80 columns):\n",
      " #   Column         Non-Null Count  Dtype  \n",
      "---  ------         --------------  -----  \n",
      " 0   Id             1459 non-null   int64  \n",
      " 1   MSSubClass     1459 non-null   int64  \n",
      " 2   MSZoning       1455 non-null   object \n",
      " 3   LotFrontage    1232 non-null   float64\n",
      " 4   LotArea        1459 non-null   int64  \n",
      " 5   Street         1459 non-null   object \n",
      " 6   Alley          107 non-null    object \n",
      " 7   LotShape       1459 non-null   object \n",
      " 8   LandContour    1459 non-null   object \n",
      " 9   Utilities      1457 non-null   object \n",
      " 10  LotConfig      1459 non-null   object \n",
      " 11  LandSlope      1459 non-null   object \n",
      " 12  Neighborhood   1459 non-null   object \n",
      " 13  Condition1     1459 non-null   object \n",
      " 14  Condition2     1459 non-null   object \n",
      " 15  BldgType       1459 non-null   object \n",
      " 16  HouseStyle     1459 non-null   object \n",
      " 17  OverallQual    1459 non-null   int64  \n",
      " 18  OverallCond    1459 non-null   int64  \n",
      " 19  YearBuilt      1459 non-null   int64  \n",
      " 20  YearRemodAdd   1459 non-null   int64  \n",
      " 21  RoofStyle      1459 non-null   object \n",
      " 22  RoofMatl       1459 non-null   object \n",
      " 23  Exterior1st    1458 non-null   object \n",
      " 24  Exterior2nd    1458 non-null   object \n",
      " 25  MasVnrType     1443 non-null   object \n",
      " 26  MasVnrArea     1444 non-null   float64\n",
      " 27  ExterQual      1459 non-null   object \n",
      " 28  ExterCond      1459 non-null   object \n",
      " 29  Foundation     1459 non-null   object \n",
      " 30  BsmtQual       1415 non-null   object \n",
      " 31  BsmtCond       1414 non-null   object \n",
      " 32  BsmtExposure   1415 non-null   object \n",
      " 33  BsmtFinType1   1417 non-null   object \n",
      " 34  BsmtFinSF1     1458 non-null   float64\n",
      " 35  BsmtFinType2   1417 non-null   object \n",
      " 36  BsmtFinSF2     1458 non-null   float64\n",
      " 37  BsmtUnfSF      1458 non-null   float64\n",
      " 38  TotalBsmtSF    1458 non-null   float64\n",
      " 39  Heating        1459 non-null   object \n",
      " 40  HeatingQC      1459 non-null   object \n",
      " 41  CentralAir     1459 non-null   object \n",
      " 42  Electrical     1459 non-null   object \n",
      " 43  1stFlrSF       1459 non-null   int64  \n",
      " 44  2ndFlrSF       1459 non-null   int64  \n",
      " 45  LowQualFinSF   1459 non-null   int64  \n",
      " 46  GrLivArea      1459 non-null   int64  \n",
      " 47  BsmtFullBath   1457 non-null   float64\n",
      " 48  BsmtHalfBath   1457 non-null   float64\n",
      " 49  FullBath       1459 non-null   int64  \n",
      " 50  HalfBath       1459 non-null   int64  \n",
      " 51  BedroomAbvGr   1459 non-null   int64  \n",
      " 52  KitchenAbvGr   1459 non-null   int64  \n",
      " 53  KitchenQual    1458 non-null   object \n",
      " 54  TotRmsAbvGrd   1459 non-null   int64  \n",
      " 55  Functional     1457 non-null   object \n",
      " 56  Fireplaces     1459 non-null   int64  \n",
      " 57  FireplaceQu    729 non-null    object \n",
      " 58  GarageType     1383 non-null   object \n",
      " 59  GarageYrBlt    1381 non-null   float64\n",
      " 60  GarageFinish   1381 non-null   object \n",
      " 61  GarageCars     1458 non-null   float64\n",
      " 62  GarageArea     1458 non-null   float64\n",
      " 63  GarageQual     1381 non-null   object \n",
      " 64  GarageCond     1381 non-null   object \n",
      " 65  PavedDrive     1459 non-null   object \n",
      " 66  WoodDeckSF     1459 non-null   int64  \n",
      " 67  OpenPorchSF    1459 non-null   int64  \n",
      " 68  EnclosedPorch  1459 non-null   int64  \n",
      " 69  3SsnPorch      1459 non-null   int64  \n",
      " 70  ScreenPorch    1459 non-null   int64  \n",
      " 71  PoolArea       1459 non-null   int64  \n",
      " 72  PoolQC         3 non-null      object \n",
      " 73  Fence          290 non-null    object \n",
      " 74  MiscFeature    51 non-null     object \n",
      " 75  MiscVal        1459 non-null   int64  \n",
      " 76  MoSold         1459 non-null   int64  \n",
      " 77  YrSold         1459 non-null   int64  \n",
      " 78  SaleType       1458 non-null   object \n",
      " 79  SaleCondition  1459 non-null   object \n",
      "dtypes: float64(11), int64(26), object(43)\n",
      "memory usage: 912.0+ KB\n"
     ]
    }
   ],
   "source": [
    "test.info()"
   ]
  },
  {
   "cell_type": "code",
   "execution_count": 42,
   "metadata": {
    "execution": {
     "iopub.execute_input": "2020-10-01T05:17:18.477092Z",
     "iopub.status.busy": "2020-10-01T05:17:18.476344Z",
     "iopub.status.idle": "2020-10-01T05:17:18.524455Z",
     "shell.execute_reply": "2020-10-01T05:17:18.523540Z"
    },
    "papermill": {
     "duration": 0.164054,
     "end_time": "2020-10-01T05:17:18.524612",
     "exception": false,
     "start_time": "2020-10-01T05:17:18.360558",
     "status": "completed"
    },
    "tags": []
   },
   "outputs": [
    {
     "name": "stdout",
     "output_type": "stream",
     "text": [
      "LotFrontage 1.0\n",
      "****************************************\n",
      "MasVnrArea 1.0\n",
      "****************************************\n",
      "BsmtFinSF1 1.0\n",
      "BsmtFullBath 0.6492117535742737\n",
      "TotalBsmtSF 0.5223960519923907\n",
      "****************************************\n",
      "BsmtFinSF2 1.0\n",
      "****************************************\n",
      "BsmtUnfSF 1.0\n",
      "****************************************\n",
      "TotalBsmtSF 1.0\n",
      "1stFlrSF 0.8195299750050355\n",
      "SalePrice 0.6135805515591944\n",
      "OverallQual 0.5378084986123927\n",
      "BsmtFinSF1 0.5223960519923907\n",
      "****************************************\n",
      "BsmtFullBath 1.0\n",
      "BsmtFinSF1 0.6492117535742737\n",
      "****************************************\n",
      "BsmtHalfBath 1.0\n",
      "****************************************\n",
      "GarageYrBlt 1.0\n",
      "YearBuilt 0.839921822645958\n",
      "YearRemodAdd 0.6201816577663517\n",
      "GarageCars 0.5754223568749822\n",
      "GarageArea 0.562445403098254\n",
      "OverallQual 0.5494242757237608\n",
      "SalePrice 0.5018468404018182\n",
      "****************************************\n",
      "GarageCars 1.0\n",
      "GarageArea 0.8824754142814603\n",
      "SalePrice 0.640409197258349\n",
      "OverallQual 0.6006707165907189\n",
      "GarageYrBlt 0.5754223568749822\n",
      "YearBuilt 0.5378500917111045\n",
      "****************************************\n",
      "GarageArea 1.0\n",
      "GarageCars 0.8824754142814603\n",
      "SalePrice 0.6234314389183598\n",
      "GarageYrBlt 0.562445403098254\n",
      "OverallQual 0.5620217566126064\n",
      "****************************************\n"
     ]
    }
   ],
   "source": [
    "a=[]\n",
    "missvalue(test)\n",
    "num=[]\n",
    "cat=[]\n",
    "separate(test,a)\n",
    "num2=[]\n",
    "num1=[]\n",
    "cor(num)\n"
   ]
  },
  {
   "cell_type": "code",
   "execution_count": 43,
   "metadata": {
    "execution": {
     "iopub.execute_input": "2020-10-01T05:17:18.750337Z",
     "iopub.status.busy": "2020-10-01T05:17:18.749719Z",
     "iopub.status.idle": "2020-10-01T05:17:18.785900Z",
     "shell.execute_reply": "2020-10-01T05:17:18.785174Z"
    },
    "papermill": {
     "duration": 0.140496,
     "end_time": "2020-10-01T05:17:18.786049",
     "exception": false,
     "start_time": "2020-10-01T05:17:18.645553",
     "status": "completed"
    },
    "tags": []
   },
   "outputs": [
    {
     "name": "stderr",
     "output_type": "stream",
     "text": [
      "/opt/conda/lib/python3.7/site-packages/pandas/core/indexing.py:670: SettingWithCopyWarning: \n",
      "A value is trying to be set on a copy of a slice from a DataFrame\n",
      "\n",
      "See the caveats in the documentation: https://pandas.pydata.org/pandas-docs/stable/user_guide/indexing.html#returning-a-view-versus-a-copy\n",
      "  iloc._setitem_with_indexer(indexer, value)\n"
     ]
    }
   ],
   "source": [
    "discrete('BsmtFinSF1',test,\"BsmtFullBath\")\n"
   ]
  },
  {
   "cell_type": "code",
   "execution_count": 44,
   "metadata": {
    "execution": {
     "iopub.execute_input": "2020-10-01T05:17:19.033248Z",
     "iopub.status.busy": "2020-10-01T05:17:19.032622Z",
     "iopub.status.idle": "2020-10-01T05:17:19.084583Z",
     "shell.execute_reply": "2020-10-01T05:17:19.085133Z"
    },
    "papermill": {
     "duration": 0.157951,
     "end_time": "2020-10-01T05:17:19.085270",
     "exception": false,
     "start_time": "2020-10-01T05:17:18.927319",
     "status": "completed"
    },
    "tags": []
   },
   "outputs": [
    {
     "name": "stderr",
     "output_type": "stream",
     "text": [
      "/opt/conda/lib/python3.7/site-packages/pandas/core/indexing.py:670: SettingWithCopyWarning: \n",
      "A value is trying to be set on a copy of a slice from a DataFrame\n",
      "\n",
      "See the caveats in the documentation: https://pandas.pydata.org/pandas-docs/stable/user_guide/indexing.html#returning-a-view-versus-a-copy\n",
      "  iloc._setitem_with_indexer(indexer, value)\n",
      "/opt/conda/lib/python3.7/site-packages/pandas/core/indexing.py:670: SettingWithCopyWarning: \n",
      "A value is trying to be set on a copy of a slice from a DataFrame\n",
      "\n",
      "See the caveats in the documentation: https://pandas.pydata.org/pandas-docs/stable/user_guide/indexing.html#returning-a-view-versus-a-copy\n",
      "  iloc._setitem_with_indexer(indexer, value)\n"
     ]
    }
   ],
   "source": [
    "discrete('TotalBsmtSF',test,\"1stFlrSF\")\n",
    "discrete('BsmtFullBath',test,\"BsmtFinSF1\")"
   ]
  },
  {
   "cell_type": "code",
   "execution_count": 45,
   "metadata": {
    "execution": {
     "iopub.execute_input": "2020-10-01T05:17:19.291289Z",
     "iopub.status.busy": "2020-10-01T05:17:19.290447Z",
     "iopub.status.idle": "2020-10-01T05:17:19.294412Z",
     "shell.execute_reply": "2020-10-01T05:17:19.293939Z"
    },
    "papermill": {
     "duration": 0.10943,
     "end_time": "2020-10-01T05:17:19.294523",
     "exception": false,
     "start_time": "2020-10-01T05:17:19.185093",
     "status": "completed"
    },
    "tags": []
   },
   "outputs": [
    {
     "data": {
      "text/plain": [
       "0    2005\n",
       "dtype: int64"
      ]
     },
     "execution_count": 45,
     "metadata": {},
     "output_type": "execute_result"
    }
   ],
   "source": [
    "test[\"YearBuilt\"].mode()"
   ]
  },
  {
   "cell_type": "code",
   "execution_count": 46,
   "metadata": {
    "execution": {
     "iopub.execute_input": "2020-10-01T05:17:19.495758Z",
     "iopub.status.busy": "2020-10-01T05:17:19.494769Z",
     "iopub.status.idle": "2020-10-01T05:17:19.521562Z",
     "shell.execute_reply": "2020-10-01T05:17:19.522050Z"
    },
    "papermill": {
     "duration": 0.130314,
     "end_time": "2020-10-01T05:17:19.522242",
     "exception": false,
     "start_time": "2020-10-01T05:17:19.391928",
     "status": "completed"
    },
    "tags": []
   },
   "outputs": [
    {
     "name": "stderr",
     "output_type": "stream",
     "text": [
      "/opt/conda/lib/python3.7/site-packages/pandas/core/indexing.py:670: SettingWithCopyWarning: \n",
      "A value is trying to be set on a copy of a slice from a DataFrame\n",
      "\n",
      "See the caveats in the documentation: https://pandas.pydata.org/pandas-docs/stable/user_guide/indexing.html#returning-a-view-versus-a-copy\n",
      "  iloc._setitem_with_indexer(indexer, value)\n"
     ]
    }
   ],
   "source": [
    "\n",
    "discrete('GarageCars',test,\"GarageArea\")"
   ]
  },
  {
   "cell_type": "code",
   "execution_count": 47,
   "metadata": {
    "execution": {
     "iopub.execute_input": "2020-10-01T05:17:19.763674Z",
     "iopub.status.busy": "2020-10-01T05:17:19.763125Z",
     "iopub.status.idle": "2020-10-01T05:17:19.789671Z",
     "shell.execute_reply": "2020-10-01T05:17:19.790276Z"
    },
    "papermill": {
     "duration": 0.164668,
     "end_time": "2020-10-01T05:17:19.790437",
     "exception": false,
     "start_time": "2020-10-01T05:17:19.625769",
     "status": "completed"
    },
    "tags": []
   },
   "outputs": [
    {
     "name": "stderr",
     "output_type": "stream",
     "text": [
      "/opt/conda/lib/python3.7/site-packages/pandas/core/indexing.py:670: SettingWithCopyWarning: \n",
      "A value is trying to be set on a copy of a slice from a DataFrame\n",
      "\n",
      "See the caveats in the documentation: https://pandas.pydata.org/pandas-docs/stable/user_guide/indexing.html#returning-a-view-versus-a-copy\n",
      "  iloc._setitem_with_indexer(indexer, value)\n"
     ]
    }
   ],
   "source": [
    "discrete('GarageArea',test,\"GarageCars\")"
   ]
  },
  {
   "cell_type": "code",
   "execution_count": 48,
   "metadata": {
    "execution": {
     "iopub.execute_input": "2020-10-01T05:17:20.002359Z",
     "iopub.status.busy": "2020-10-01T05:17:20.001754Z",
     "iopub.status.idle": "2020-10-01T05:17:20.004010Z",
     "shell.execute_reply": "2020-10-01T05:17:20.004483Z"
    },
    "papermill": {
     "duration": 0.109041,
     "end_time": "2020-10-01T05:17:20.004615",
     "exception": false,
     "start_time": "2020-10-01T05:17:19.895574",
     "status": "completed"
    },
    "tags": []
   },
   "outputs": [
    {
     "data": {
      "text/plain": [
       "0"
      ]
     },
     "execution_count": 48,
     "metadata": {},
     "output_type": "execute_result"
    }
   ],
   "source": [
    "test[\"YearBuilt\"].isnull().sum()"
   ]
  },
  {
   "cell_type": "code",
   "execution_count": 49,
   "metadata": {
    "execution": {
     "iopub.execute_input": "2020-10-01T05:17:20.205806Z",
     "iopub.status.busy": "2020-10-01T05:17:20.205275Z",
     "iopub.status.idle": "2020-10-01T05:17:20.211419Z",
     "shell.execute_reply": "2020-10-01T05:17:20.210983Z"
    },
    "papermill": {
     "duration": 0.107494,
     "end_time": "2020-10-01T05:17:20.211519",
     "exception": false,
     "start_time": "2020-10-01T05:17:20.104025",
     "status": "completed"
    },
    "tags": []
   },
   "outputs": [
    {
     "data": {
      "text/plain": [
       "78"
      ]
     },
     "execution_count": 49,
     "metadata": {},
     "output_type": "execute_result"
    }
   ],
   "source": [
    "test[\"GarageYrBlt\"].isnull().sum()"
   ]
  },
  {
   "cell_type": "code",
   "execution_count": 50,
   "metadata": {
    "execution": {
     "iopub.execute_input": "2020-10-01T05:17:20.411749Z",
     "iopub.status.busy": "2020-10-01T05:17:20.410866Z",
     "iopub.status.idle": "2020-10-01T05:17:20.417888Z",
     "shell.execute_reply": "2020-10-01T05:17:20.417400Z"
    },
    "papermill": {
     "duration": 0.108185,
     "end_time": "2020-10-01T05:17:20.417990",
     "exception": false,
     "start_time": "2020-10-01T05:17:20.309805",
     "status": "completed"
    },
    "tags": []
   },
   "outputs": [
    {
     "data": {
      "text/plain": [
       "array([2003., 1976., 2001., 1998., 2000., 1993., 2004., 1973., 1931.,\n",
       "       1939., 1965., 2005., 1962., 2006., 1960., 1991., 1970., 1967.,\n",
       "       1958., 1930., 2002., 1968., 2007., 2008., 1957., 1920., 1966.,\n",
       "       1959., 1995., 1954., 1953., 1983., 1977., 1942., 1997., 1985.,\n",
       "       1963., 1981., 1964., 1999., 1935., 1990., 1945., 1987., 1989.,\n",
       "       1915., 1956., 1948., 1975., 1974., 2009., 1938., 1950., 1961.,\n",
       "       1921., 1900., 1969., 1979., 1951., 1941., 1952., 1949., 1936.,\n",
       "       1971., 1923., 1984., 1926., 1955., 1986., 1988., 1916., 1932.,\n",
       "       1972., 1918., 1980., 1924., 1996., 1940., 1994., 1910., 1978.,\n",
       "       1982., 1992., 1925., 1943., 2010., 1927., 1947., 1937., 1928.,\n",
       "       1922., 1934., 1906., 1914., 1946., 1908., 1944., 1911., 1929.,\n",
       "       1933.])"
      ]
     },
     "execution_count": 50,
     "metadata": {},
     "output_type": "execute_result"
    }
   ],
   "source": [
    "train[\"GarageYrBlt\"].unique()"
   ]
  },
  {
   "cell_type": "code",
   "execution_count": 51,
   "metadata": {
    "execution": {
     "iopub.execute_input": "2020-10-01T05:17:20.626088Z",
     "iopub.status.busy": "2020-10-01T05:17:20.625520Z",
     "iopub.status.idle": "2020-10-01T05:17:20.630384Z",
     "shell.execute_reply": "2020-10-01T05:17:20.630830Z"
    },
    "papermill": {
     "duration": 0.114122,
     "end_time": "2020-10-01T05:17:20.630961",
     "exception": false,
     "start_time": "2020-10-01T05:17:20.516839",
     "status": "completed"
    },
    "tags": []
   },
   "outputs": [
    {
     "data": {
      "text/plain": [
       "array([2003, 1976, 2001, 1915, 2000, 1993, 2004, 1973, 1931, 1939, 1965,\n",
       "       2005, 1962, 2006, 1960, 1929, 1970, 1967, 1958, 1930, 2002, 1968,\n",
       "       2007, 1951, 1957, 1927, 1920, 1966, 1959, 1994, 1954, 1953, 1955,\n",
       "       1983, 1975, 1997, 1934, 1963, 1981, 1964, 1999, 1972, 1921, 1945,\n",
       "       1982, 1998, 1956, 1948, 1910, 1995, 1991, 2009, 1950, 1961, 1977,\n",
       "       1985, 1979, 1885, 1919, 1990, 1969, 1935, 1988, 1971, 1952, 1936,\n",
       "       1923, 1924, 1984, 1926, 1940, 1941, 1987, 1986, 2008, 1908, 1892,\n",
       "       1916, 1932, 1918, 1912, 1947, 1925, 1900, 1980, 1989, 1992, 1949,\n",
       "       1880, 1928, 1978, 1922, 1996, 2010, 1946, 1913, 1937, 1942, 1938,\n",
       "       1974, 1893, 1914, 1906, 1890, 1898, 1904, 1882, 1875, 1911, 1917,\n",
       "       1872, 1905])"
      ]
     },
     "execution_count": 51,
     "metadata": {},
     "output_type": "execute_result"
    }
   ],
   "source": [
    "train[\"YearBuilt\"].unique()"
   ]
  },
  {
   "cell_type": "code",
   "execution_count": 52,
   "metadata": {
    "execution": {
     "iopub.execute_input": "2020-10-01T05:17:20.833778Z",
     "iopub.status.busy": "2020-10-01T05:17:20.833250Z",
     "iopub.status.idle": "2020-10-01T05:17:20.837225Z",
     "shell.execute_reply": "2020-10-01T05:17:20.837669Z"
    },
    "papermill": {
     "duration": 0.106556,
     "end_time": "2020-10-01T05:17:20.837812",
     "exception": false,
     "start_time": "2020-10-01T05:17:20.731256",
     "status": "completed"
    },
    "tags": []
   },
   "outputs": [],
   "source": [
    "test[\"GarageYrBlt\"].fillna(2005,inplace=True)"
   ]
  },
  {
   "cell_type": "code",
   "execution_count": 53,
   "metadata": {
    "execution": {
     "iopub.execute_input": "2020-10-01T05:17:21.041951Z",
     "iopub.status.busy": "2020-10-01T05:17:21.041423Z",
     "iopub.status.idle": "2020-10-01T05:17:21.476697Z",
     "shell.execute_reply": "2020-10-01T05:17:21.476178Z"
    },
    "papermill": {
     "duration": 0.539075,
     "end_time": "2020-10-01T05:17:21.476797",
     "exception": false,
     "start_time": "2020-10-01T05:17:20.937722",
     "status": "completed"
    },
    "tags": []
   },
   "outputs": [
    {
     "data": {
      "image/png": "[encoded data removed]",
      "text/plain": [
       "<Figure size 432x288 with 1 Axes>"
      ]
     },
     "metadata": {
      "needs_background": "light"
     },
     "output_type": "display_data"
    },
    {
     "data": {
      "image/png": "[encoded data removed]",
      "text/plain": [
       "<Figure size 432x288 with 1 Axes>"
      ]
     },
     "metadata": {
      "needs_background": "light"
     },
     "output_type": "display_data"
    },
    {
     "data": {
      "image/png": "[encoded data removed]",
      "text/plain": [
       "<Figure size 432x288 with 1 Axes>"
      ]
     },
     "metadata": {
      "needs_background": "light"
     },
     "output_type": "display_data"
    },
    {
     "data": {
      "image/png": "[encoded data removed]",
      "text/plain": [
       "<Figure size 432x288 with 1 Axes>"
      ]
     },
     "metadata": {
      "needs_background": "light"
     },
     "output_type": "display_data"
    },
    {
     "data": {
      "image/png": "[encoded data removed]",
      "text/plain": [
       "<Figure size 432x288 with 1 Axes>"
      ]
     },
     "metadata": {
      "needs_background": "light"
     },
     "output_type": "display_data"
    }
   ],
   "source": [
    "fig(num2,train)"
   ]
  },
  {
   "cell_type": "code",
   "execution_count": 54,
   "metadata": {
    "execution": {
     "iopub.execute_input": "2020-10-01T05:17:21.694934Z",
     "iopub.status.busy": "2020-10-01T05:17:21.694391Z",
     "iopub.status.idle": "2020-10-01T05:17:21.698581Z",
     "shell.execute_reply": "2020-10-01T05:17:21.697986Z"
    },
    "papermill": {
     "duration": 0.119796,
     "end_time": "2020-10-01T05:17:21.698705",
     "exception": false,
     "start_time": "2020-10-01T05:17:21.578909",
     "status": "completed"
    },
    "tags": []
   },
   "outputs": [
    {
     "data": {
      "text/plain": [
       "0        80.0\n",
       "1        81.0\n",
       "2        74.0\n",
       "3        78.0\n",
       "4        43.0\n",
       "        ...  \n",
       "1454     21.0\n",
       "1455     21.0\n",
       "1456    160.0\n",
       "1457     62.0\n",
       "1458     74.0\n",
       "Name: LotFrontage, Length: 1459, dtype: float64"
      ]
     },
     "execution_count": 54,
     "metadata": {},
     "output_type": "execute_result"
    }
   ],
   "source": [
    "test[\"LotFrontage\"]"
   ]
  },
  {
   "cell_type": "code",
   "execution_count": 55,
   "metadata": {
    "execution": {
     "iopub.execute_input": "2020-10-01T05:17:21.909457Z",
     "iopub.status.busy": "2020-10-01T05:17:21.908530Z",
     "iopub.status.idle": "2020-10-01T05:17:21.911164Z",
     "shell.execute_reply": "2020-10-01T05:17:21.910621Z"
    },
    "papermill": {
     "duration": 0.110595,
     "end_time": "2020-10-01T05:17:21.911267",
     "exception": false,
     "start_time": "2020-10-01T05:17:21.800672",
     "status": "completed"
    },
    "tags": []
   },
   "outputs": [],
   "source": [
    "test[\"LotFrontage\"].fillna(test[\"LotFrontage\"].median(),inplace=True)"
   ]
  },
  {
   "cell_type": "code",
   "execution_count": 56,
   "metadata": {
    "execution": {
     "iopub.execute_input": "2020-10-01T05:17:22.122481Z",
     "iopub.status.busy": "2020-10-01T05:17:22.121901Z",
     "iopub.status.idle": "2020-10-01T05:17:22.124941Z",
     "shell.execute_reply": "2020-10-01T05:17:22.124422Z"
    },
    "papermill": {
     "duration": 0.110509,
     "end_time": "2020-10-01T05:17:22.125088",
     "exception": false,
     "start_time": "2020-10-01T05:17:22.014579",
     "status": "completed"
    },
    "tags": []
   },
   "outputs": [],
   "source": [
    "test[\"MasVnrArea\"].fillna(test[\"MasVnrArea\"].median(),inplace=True)"
   ]
  },
  {
   "cell_type": "code",
   "execution_count": 57,
   "metadata": {
    "execution": {
     "iopub.execute_input": "2020-10-01T05:17:22.336847Z",
     "iopub.status.busy": "2020-10-01T05:17:22.336267Z",
     "iopub.status.idle": "2020-10-01T05:17:22.340169Z",
     "shell.execute_reply": "2020-10-01T05:17:22.340525Z"
    },
    "papermill": {
     "duration": 0.111796,
     "end_time": "2020-10-01T05:17:22.340670",
     "exception": false,
     "start_time": "2020-10-01T05:17:22.228874",
     "status": "completed"
    },
    "tags": []
   },
   "outputs": [],
   "source": [
    "test[\"BsmtFinSF2\"].fillna(test[\"BsmtFinSF2\"].mode(),inplace=True)\n",
    "test[\"BsmtUnfSF\"].fillna(test[\"BsmtUnfSF\"].median(),inplace=True)\n"
   ]
  },
  {
   "cell_type": "code",
   "execution_count": 58,
   "metadata": {
    "execution": {
     "iopub.execute_input": "2020-10-01T05:17:22.552133Z",
     "iopub.status.busy": "2020-10-01T05:17:22.551611Z",
     "iopub.status.idle": "2020-10-01T05:17:22.553713Z",
     "shell.execute_reply": "2020-10-01T05:17:22.554193Z"
    },
    "papermill": {
     "duration": 0.109886,
     "end_time": "2020-10-01T05:17:22.554310",
     "exception": false,
     "start_time": "2020-10-01T05:17:22.444424",
     "status": "completed"
    },
    "tags": []
   },
   "outputs": [],
   "source": [
    "test[\"BsmtHalfBath\"].fillna(test[\"BsmtHalfBath\"].mode(),inplace=True)"
   ]
  },
  {
   "cell_type": "code",
   "execution_count": 59,
   "metadata": {
    "execution": {
     "iopub.execute_input": "2020-10-01T05:17:22.768304Z",
     "iopub.status.busy": "2020-10-01T05:17:22.767641Z",
     "iopub.status.idle": "2020-10-01T05:17:22.771284Z",
     "shell.execute_reply": "2020-10-01T05:17:22.770799Z"
    },
    "papermill": {
     "duration": 0.11358,
     "end_time": "2020-10-01T05:17:22.771401",
     "exception": false,
     "start_time": "2020-10-01T05:17:22.657821",
     "status": "completed"
    },
    "tags": []
   },
   "outputs": [
    {
     "data": {
      "text/plain": [
       "['MSZoning',\n",
       " 'Alley',\n",
       " 'Utilities',\n",
       " 'Exterior1st',\n",
       " 'Exterior2nd',\n",
       " 'MasVnrType',\n",
       " 'BsmtQual',\n",
       " 'BsmtCond',\n",
       " 'BsmtExposure',\n",
       " 'BsmtFinType1',\n",
       " 'BsmtFinType2',\n",
       " 'KitchenQual',\n",
       " 'Functional',\n",
       " 'FireplaceQu',\n",
       " 'GarageType',\n",
       " 'GarageFinish',\n",
       " 'GarageQual',\n",
       " 'GarageCond',\n",
       " 'PoolQC',\n",
       " 'Fence',\n",
       " 'MiscFeature',\n",
       " 'SaleType']"
      ]
     },
     "execution_count": 59,
     "metadata": {},
     "output_type": "execute_result"
    }
   ],
   "source": [
    "cat"
   ]
  },
  {
   "cell_type": "code",
   "execution_count": 60,
   "metadata": {
    "execution": {
     "iopub.execute_input": "2020-10-01T05:17:22.995283Z",
     "iopub.status.busy": "2020-10-01T05:17:22.991860Z",
     "iopub.status.idle": "2020-10-01T05:17:25.447252Z",
     "shell.execute_reply": "2020-10-01T05:17:25.447653Z"
    },
    "papermill": {
     "duration": 2.571674,
     "end_time": "2020-10-01T05:17:25.447813",
     "exception": false,
     "start_time": "2020-10-01T05:17:22.876139",
     "status": "completed"
    },
    "tags": []
   },
   "outputs": [
    {
     "data": {
      "image/png": "[encoded data removed]",
      "text/plain": [
       "<Figure size 432x288 with 1 Axes>"
      ]
     },
     "metadata": {
      "needs_background": "light"
     },
     "output_type": "display_data"
    },
    {
     "name": "stdout",
     "output_type": "stream",
     "text": [
      "4\n"
     ]
    },
    {
     "data": {
      "image/png": "[encoded data removed]",
      "text/plain": [
       "<Figure size 432x288 with 1 Axes>"
      ]
     },
     "metadata": {
      "needs_background": "light"
     },
     "output_type": "display_data"
    },
    {
     "name": "stdout",
     "output_type": "stream",
     "text": [
      "1352\n"
     ]
    },
    {
     "data": {
      "image/png": "[encoded data removed]",
      "text/plain": [
       "<Figure size 432x288 with 1 Axes>"
      ]
     },
     "metadata": {
      "needs_background": "light"
     },
     "output_type": "display_data"
    },
    {
     "name": "stdout",
     "output_type": "stream",
     "text": [
      "2\n"
     ]
    },
    {
     "data": {
      "image/png": "[encoded data removed]",
      "text/plain": [
       "<Figure size 432x288 with 1 Axes>"
      ]
     },
     "metadata": {
      "needs_background": "light"
     },
     "output_type": "display_data"
    },
    {
     "name": "stdout",
     "output_type": "stream",
     "text": [
      "1\n"
     ]
    },
    {
     "data": {
      "image/png": "[encoded data removed]",
      "text/plain": [
       "<Figure size 432x288 with 1 Axes>"
      ]
     },
     "metadata": {
      "needs_background": "light"
     },
     "output_type": "display_data"
    },
    {
     "name": "stdout",
     "output_type": "stream",
     "text": [
      "1\n"
     ]
    },
    {
     "data": {
      "image/png": "[encoded data removed]",
      "text/plain": [
       "<Figure size 432x288 with 1 Axes>"
      ]
     },
     "metadata": {
      "needs_background": "light"
     },
     "output_type": "display_data"
    },
    {
     "name": "stdout",
     "output_type": "stream",
     "text": [
      "16\n"
     ]
    },
    {
     "data": {
      "image/png": "[encoded data removed]",
      "text/plain": [
       "<Figure size 432x288 with 1 Axes>"
      ]
     },
     "metadata": {
      "needs_background": "light"
     },
     "output_type": "display_data"
    },
    {
     "name": "stdout",
     "output_type": "stream",
     "text": [
      "44\n"
     ]
    },
    {
     "data": {
      "image/png": "[encoded data removed]",
      "text/plain": [
       "<Figure size 432x288 with 1 Axes>"
      ]
     },
     "metadata": {
      "needs_background": "light"
     },
     "output_type": "display_data"
    },
    {
     "name": "stdout",
     "output_type": "stream",
     "text": [
      "45\n"
     ]
    },
    {
     "data": {
      "image/png": "[encoded data removed]",
      "text/plain": [
       "<Figure size 432x288 with 1 Axes>"
      ]
     },
     "metadata": {
      "needs_background": "light"
     },
     "output_type": "display_data"
    },
    {
     "name": "stdout",
     "output_type": "stream",
     "text": [
      "44\n"
     ]
    },
    {
     "data": {
      "image/png": "[encoded data removed]",
      "text/plain": [
       "<Figure size 432x288 with 1 Axes>"
      ]
     },
     "metadata": {
      "needs_background": "light"
     },
     "output_type": "display_data"
    },
    {
     "name": "stdout",
     "output_type": "stream",
     "text": [
      "42\n"
     ]
    },
    {
     "data": {
      "image/png": "[encoded data removed]",
      "text/plain": [
       "<Figure size 432x288 with 1 Axes>"
      ]
     },
     "metadata": {
      "needs_background": "light"
     },
     "output_type": "display_data"
    },
    {
     "name": "stdout",
     "output_type": "stream",
     "text": [
      "42\n"
     ]
    },
    {
     "data": {
      "image/png": "[encoded data removed]",
      "text/plain": [
       "<Figure size 432x288 with 1 Axes>"
      ]
     },
     "metadata": {
      "needs_background": "light"
     },
     "output_type": "display_data"
    },
    {
     "name": "stdout",
     "output_type": "stream",
     "text": [
      "1\n"
     ]
    },
    {
     "data": {
      "image/png": "[encoded data removed]",
      "text/plain": [
       "<Figure size 432x288 with 1 Axes>"
      ]
     },
     "metadata": {
      "needs_background": "light"
     },
     "output_type": "display_data"
    },
    {
     "name": "stdout",
     "output_type": "stream",
     "text": [
      "2\n"
     ]
    },
    {
     "data": {
      "image/png": "[encoded data removed]",
      "text/plain": [
       "<Figure size 432x288 with 1 Axes>"
      ]
     },
     "metadata": {
      "needs_background": "light"
     },
     "output_type": "display_data"
    },
    {
     "name": "stdout",
     "output_type": "stream",
     "text": [
      "730\n"
     ]
    },
    {
     "data": {
      "image/png": "[encoded data removed]",
      "text/plain": [
       "<Figure size 432x288 with 1 Axes>"
      ]
     },
     "metadata": {
      "needs_background": "light"
     },
     "output_type": "display_data"
    },
    {
     "name": "stdout",
     "output_type": "stream",
     "text": [
      "76\n"
     ]
    },
    {
     "data": {
      "image/png": "[encoded data removed]",
      "text/plain": [
       "<Figure size 432x288 with 1 Axes>"
      ]
     },
     "metadata": {
      "needs_background": "light"
     },
     "output_type": "display_data"
    },
    {
     "name": "stdout",
     "output_type": "stream",
     "text": [
      "78\n"
     ]
    },
    {
     "data": {
      "image/png": "[encoded data removed]",
      "text/plain": [
       "<Figure size 432x288 with 1 Axes>"
      ]
     },
     "metadata": {
      "needs_background": "light"
     },
     "output_type": "display_data"
    },
    {
     "name": "stdout",
     "output_type": "stream",
     "text": [
      "78\n"
     ]
    },
    {
     "data": {
      "image/png": "[encoded data removed]",
      "text/plain": [
       "<Figure size 432x288 with 1 Axes>"
      ]
     },
     "metadata": {
      "needs_background": "light"
     },
     "output_type": "display_data"
    },
    {
     "name": "stdout",
     "output_type": "stream",
     "text": [
      "78\n"
     ]
    },
    {
     "data": {
      "image/png": "[encoded data removed]",
      "text/plain": [
       "<Figure size 432x288 with 1 Axes>"
      ]
     },
     "metadata": {
      "needs_background": "light"
     },
     "output_type": "display_data"
    },
    {
     "name": "stdout",
     "output_type": "stream",
     "text": [
      "1456\n"
     ]
    },
    {
     "data": {
      "image/png": "[encoded data removed]",
      "text/plain": [
       "<Figure size 432x288 with 1 Axes>"
      ]
     },
     "metadata": {
      "needs_background": "light"
     },
     "output_type": "display_data"
    },
    {
     "name": "stdout",
     "output_type": "stream",
     "text": [
      "1169\n"
     ]
    },
    {
     "data": {
      "image/png": "[encoded data removed]",
      "text/plain": [
       "<Figure size 432x288 with 1 Axes>"
      ]
     },
     "metadata": {
      "needs_background": "light"
     },
     "output_type": "display_data"
    },
    {
     "name": "stdout",
     "output_type": "stream",
     "text": [
      "1408\n"
     ]
    },
    {
     "data": {
      "image/png": "[encoded data removed]",
      "text/plain": [
       "<Figure size 432x288 with 1 Axes>"
      ]
     },
     "metadata": {
      "needs_background": "light"
     },
     "output_type": "display_data"
    },
    {
     "name": "stdout",
     "output_type": "stream",
     "text": [
      "1\n"
     ]
    }
   ],
   "source": [
    "for i in cat:\n",
    "    sns.countplot(i,data=test)\n",
    "    plt.show()\n",
    "    t=test[i].isnull().sum()\n",
    "    print(t)"
   ]
  },
  {
   "cell_type": "code",
   "execution_count": 61,
   "metadata": {
    "execution": {
     "iopub.execute_input": "2020-10-01T05:17:25.701521Z",
     "iopub.status.busy": "2020-10-01T05:17:25.700633Z",
     "iopub.status.idle": "2020-10-01T05:17:25.703628Z",
     "shell.execute_reply": "2020-10-01T05:17:25.703194Z"
    },
    "papermill": {
     "duration": 0.137042,
     "end_time": "2020-10-01T05:17:25.703751",
     "exception": false,
     "start_time": "2020-10-01T05:17:25.566709",
     "status": "completed"
    },
    "tags": []
   },
   "outputs": [],
   "source": [
    "test.drop(['MiscFeature','Fence','PoolQC','Alley'],axis=1,inplace=True)\n"
   ]
  },
  {
   "cell_type": "code",
   "execution_count": 62,
   "metadata": {
    "execution": {
     "iopub.execute_input": "2020-10-01T05:17:25.947550Z",
     "iopub.status.busy": "2020-10-01T05:17:25.946972Z",
     "iopub.status.idle": "2020-10-01T05:17:25.949517Z",
     "shell.execute_reply": "2020-10-01T05:17:25.948987Z"
    },
    "papermill": {
     "duration": 0.127064,
     "end_time": "2020-10-01T05:17:25.949617",
     "exception": false,
     "start_time": "2020-10-01T05:17:25.822553",
     "status": "completed"
    },
    "tags": []
   },
   "outputs": [],
   "source": [
    "k=['MiscFeature','Fence','PoolQC','Alley']\n",
    "\n",
    "cat = [element for element in cat if element not in k]"
   ]
  },
  {
   "cell_type": "code",
   "execution_count": 63,
   "metadata": {
    "execution": {
     "iopub.execute_input": "2020-10-01T05:17:26.227212Z",
     "iopub.status.busy": "2020-10-01T05:17:26.226666Z",
     "iopub.status.idle": "2020-10-01T05:17:26.229923Z",
     "shell.execute_reply": "2020-10-01T05:17:26.230290Z"
    },
    "papermill": {
     "duration": 0.161053,
     "end_time": "2020-10-01T05:17:26.230432",
     "exception": false,
     "start_time": "2020-10-01T05:17:26.069379",
     "status": "completed"
    },
    "tags": []
   },
   "outputs": [
    {
     "data": {
      "text/plain": [
       "['MSZoning',\n",
       " 'Utilities',\n",
       " 'Exterior1st',\n",
       " 'Exterior2nd',\n",
       " 'MasVnrType',\n",
       " 'BsmtQual',\n",
       " 'BsmtCond',\n",
       " 'BsmtExposure',\n",
       " 'BsmtFinType1',\n",
       " 'BsmtFinType2',\n",
       " 'KitchenQual',\n",
       " 'Functional',\n",
       " 'FireplaceQu',\n",
       " 'GarageType',\n",
       " 'GarageFinish',\n",
       " 'GarageQual',\n",
       " 'GarageCond',\n",
       " 'SaleType']"
      ]
     },
     "execution_count": 63,
     "metadata": {},
     "output_type": "execute_result"
    }
   ],
   "source": [
    "cat"
   ]
  },
  {
   "cell_type": "code",
   "execution_count": 64,
   "metadata": {
    "execution": {
     "iopub.execute_input": "2020-10-01T05:17:26.470295Z",
     "iopub.status.busy": "2020-10-01T05:17:26.469730Z",
     "iopub.status.idle": "2020-10-01T05:17:26.473619Z",
     "shell.execute_reply": "2020-10-01T05:17:26.473998Z"
    },
    "papermill": {
     "duration": 0.125309,
     "end_time": "2020-10-01T05:17:26.474136",
     "exception": false,
     "start_time": "2020-10-01T05:17:26.348827",
     "status": "completed"
    },
    "tags": []
   },
   "outputs": [
    {
     "data": {
      "text/plain": [
       "76"
      ]
     },
     "execution_count": 64,
     "metadata": {},
     "output_type": "execute_result"
    }
   ],
   "source": [
    "len(test.columns)"
   ]
  },
  {
   "cell_type": "code",
   "execution_count": 65,
   "metadata": {
    "execution": {
     "iopub.execute_input": "2020-10-01T05:17:26.728972Z",
     "iopub.status.busy": "2020-10-01T05:17:26.725666Z",
     "iopub.status.idle": "2020-10-01T05:17:26.735120Z",
     "shell.execute_reply": "2020-10-01T05:17:26.735827Z"
    },
    "papermill": {
     "duration": 0.143637,
     "end_time": "2020-10-01T05:17:26.736017",
     "exception": false,
     "start_time": "2020-10-01T05:17:26.592380",
     "status": "completed"
    },
    "tags": []
   },
   "outputs": [
    {
     "data": {
      "text/plain": [
       "None       878\n",
       "BrkFace    434\n",
       "Stone      121\n",
       "BrkCmn      10\n",
       "Name: MasVnrType, dtype: int64"
      ]
     },
     "execution_count": 65,
     "metadata": {},
     "output_type": "execute_result"
    }
   ],
   "source": [
    "test['MasVnrType'].value_counts()\n"
   ]
  },
  {
   "cell_type": "code",
   "execution_count": 66,
   "metadata": {
    "execution": {
     "iopub.execute_input": "2020-10-01T05:17:27.024207Z",
     "iopub.status.busy": "2020-10-01T05:17:27.023622Z",
     "iopub.status.idle": "2020-10-01T05:17:27.044212Z",
     "shell.execute_reply": "2020-10-01T05:17:27.043659Z"
    },
    "papermill": {
     "duration": 0.159061,
     "end_time": "2020-10-01T05:17:27.044312",
     "exception": false,
     "start_time": "2020-10-01T05:17:26.885251",
     "status": "completed"
    },
    "tags": []
   },
   "outputs": [],
   "source": [
    "def categori(ca,tttt):\n",
    "    for al in ca:\n",
    "        t=tttt[al].isnull()\n",
    "        t=t.to_dict()  \n",
    "        k=[]\n",
    "        for i,j in t.items():\n",
    "            if j==True:\n",
    "                 k.append(i)\n",
    "        p=pd.read_csv(\"/kaggle/input/house-prices-advanced-regression-techniques/test.csv\")\n",
    "        p.drop(['MiscFeature','Fence','PoolQC','Alley'],axis=1,inplace=True)\n",
    "        z=pd.DataFrame(p.iloc[k])\n",
    "        z.drop([al],axis=1,inplace=True)\n",
    "        p.drop(k,inplace=True)\n",
    "        q=p[al].value_counts()\n",
    "        q=q.to_dict()\n",
    "        m=1\n",
    "        for i,j in q.items():\n",
    "            q[i]=m\n",
    "            m=m+1\n",
    "        p.replace({al:q},inplace=True)\n",
    "        t1=p[al].values\n",
    "        p.drop([al],axis=1,inplace=True)\n",
    "        p.fillna(0,inplace=True)\n",
    "        def split(a):\n",
    "            num=a.select_dtypes(include=[np.number]) \n",
    "            cat=a.select_dtypes(exclude=[np.number])\n",
    "            cat=pd.get_dummies(cat)\n",
    "            return num,cat\n",
    "         \n",
    "        x,y=split(p)\n",
    "        scaler = preprocessing.StandardScaler()\n",
    "        def scaling(x,y):\n",
    "             features_scaled=scaler.fit_transform(x.values)\n",
    "             q=y.values\n",
    "             vk=np.concatenate((q,features_scaled),axis=1)\n",
    "             return vk\n",
    "        features=scaling(x,y)\n",
    "        (x_train,x_test,y_train,y_test) = train_test_split(features,t1, train_size=0.75, random_state=42)\n",
    "        rnd_clf = RandomForestClassifier(n_estimators=500, max_leaf_nodes=100, random_state=42)\n",
    "        rnd_clf.fit(x_train,y_train)\n",
    "        z.fillna(0,inplace=True)\n",
    "        r,s=split(z)\n",
    "        for w in y.columns:\n",
    "            for o in s.columns:\n",
    "                if(w==o):\n",
    "                    c=1\n",
    "                    break\n",
    "                else:\n",
    "                    c=2\n",
    "            if(c==2):\n",
    "                s[w]=0\n",
    "        for o in s.columns:\n",
    "                for w in y.columns:\n",
    "                    if(o==w):\n",
    "                        c=1\n",
    "                        break\n",
    "                    else:\n",
    "                        c=2\n",
    "                if(c==2):\n",
    "                    s.drop(o,axis=1,inplace=True)\n",
    "     \n",
    "        for oe in r.columns:\n",
    "            for we in x.columns:\n",
    "                if(we==oe):\n",
    "                    c=1\n",
    "                    break\n",
    "                else:\n",
    "                    c=2\n",
    "            if(c==2):\n",
    "                r.drop(oe,axis=1,inplace=True)\n",
    "        for we in x.columns:\n",
    "            for oe in r.columns:\n",
    "                if(we==oe):\n",
    "                    c=1\n",
    "                    break\n",
    "                else:\n",
    "                    c=2\n",
    "            if(c==2):\n",
    "                r[we]=0\n",
    "            \n",
    "                    \n",
    "       \n",
    "        features=scaling(r,s)\n",
    "        y_pred=rnd_clf.predict(features)\n",
    "        h=[]\n",
    "        for l in range(len(y_pred)):\n",
    "                u=[i for i,j in q.items() if j==y_pred[l]]  \n",
    "                for tyyy in u:\n",
    "                    h.append(tyyy)\n",
    "        x=0\n",
    "        for i,j in t.items():\n",
    "                if j==True:\n",
    "                       tttt[al].iloc[i]=h[x]\n",
    "                       x=x+1  \n",
    "        "
   ]
  },
  {
   "cell_type": "code",
   "execution_count": 67,
   "metadata": {
    "execution": {
     "iopub.execute_input": "2020-10-01T05:17:27.290245Z",
     "iopub.status.busy": "2020-10-01T05:17:27.289620Z",
     "iopub.status.idle": "2020-10-01T05:17:53.873309Z",
     "shell.execute_reply": "2020-10-01T05:17:53.874452Z"
    },
    "papermill": {
     "duration": 26.711172,
     "end_time": "2020-10-01T05:17:53.874604",
     "exception": false,
     "start_time": "2020-10-01T05:17:27.163432",
     "status": "completed"
    },
    "tags": []
   },
   "outputs": [
    {
     "name": "stderr",
     "output_type": "stream",
     "text": [
      "/opt/conda/lib/python3.7/site-packages/pandas/core/frame.py:4169: SettingWithCopyWarning: \n",
      "A value is trying to be set on a copy of a slice from a DataFrame\n",
      "\n",
      "See the caveats in the documentation: https://pandas.pydata.org/pandas-docs/stable/user_guide/indexing.html#returning-a-view-versus-a-copy\n",
      "  errors=errors,\n",
      "/opt/conda/lib/python3.7/site-packages/pandas/core/indexing.py:670: SettingWithCopyWarning: \n",
      "A value is trying to be set on a copy of a slice from a DataFrame\n",
      "\n",
      "See the caveats in the documentation: https://pandas.pydata.org/pandas-docs/stable/user_guide/indexing.html#returning-a-view-versus-a-copy\n",
      "  iloc._setitem_with_indexer(indexer, value)\n",
      "/opt/conda/lib/python3.7/site-packages/pandas/core/indexing.py:670: SettingWithCopyWarning: \n",
      "A value is trying to be set on a copy of a slice from a DataFrame\n",
      "\n",
      "See the caveats in the documentation: https://pandas.pydata.org/pandas-docs/stable/user_guide/indexing.html#returning-a-view-versus-a-copy\n",
      "  iloc._setitem_with_indexer(indexer, value)\n",
      "/opt/conda/lib/python3.7/site-packages/pandas/core/frame.py:4169: SettingWithCopyWarning: \n",
      "A value is trying to be set on a copy of a slice from a DataFrame\n",
      "\n",
      "See the caveats in the documentation: https://pandas.pydata.org/pandas-docs/stable/user_guide/indexing.html#returning-a-view-versus-a-copy\n",
      "  errors=errors,\n",
      "/opt/conda/lib/python3.7/site-packages/pandas/core/indexing.py:670: SettingWithCopyWarning: \n",
      "A value is trying to be set on a copy of a slice from a DataFrame\n",
      "\n",
      "See the caveats in the documentation: https://pandas.pydata.org/pandas-docs/stable/user_guide/indexing.html#returning-a-view-versus-a-copy\n",
      "  iloc._setitem_with_indexer(indexer, value)\n",
      "/opt/conda/lib/python3.7/site-packages/pandas/core/frame.py:4169: SettingWithCopyWarning: \n",
      "A value is trying to be set on a copy of a slice from a DataFrame\n",
      "\n",
      "See the caveats in the documentation: https://pandas.pydata.org/pandas-docs/stable/user_guide/indexing.html#returning-a-view-versus-a-copy\n",
      "  errors=errors,\n",
      "/opt/conda/lib/python3.7/site-packages/pandas/core/indexing.py:670: SettingWithCopyWarning: \n",
      "A value is trying to be set on a copy of a slice from a DataFrame\n",
      "\n",
      "See the caveats in the documentation: https://pandas.pydata.org/pandas-docs/stable/user_guide/indexing.html#returning-a-view-versus-a-copy\n",
      "  iloc._setitem_with_indexer(indexer, value)\n",
      "/opt/conda/lib/python3.7/site-packages/pandas/core/indexing.py:670: SettingWithCopyWarning: \n",
      "A value is trying to be set on a copy of a slice from a DataFrame\n",
      "\n",
      "See the caveats in the documentation: https://pandas.pydata.org/pandas-docs/stable/user_guide/indexing.html#returning-a-view-versus-a-copy\n",
      "  iloc._setitem_with_indexer(indexer, value)\n",
      "/opt/conda/lib/python3.7/site-packages/pandas/core/indexing.py:670: SettingWithCopyWarning: \n",
      "A value is trying to be set on a copy of a slice from a DataFrame\n",
      "\n",
      "See the caveats in the documentation: https://pandas.pydata.org/pandas-docs/stable/user_guide/indexing.html#returning-a-view-versus-a-copy\n",
      "  iloc._setitem_with_indexer(indexer, value)\n",
      "/opt/conda/lib/python3.7/site-packages/pandas/core/indexing.py:670: SettingWithCopyWarning: \n",
      "A value is trying to be set on a copy of a slice from a DataFrame\n",
      "\n",
      "See the caveats in the documentation: https://pandas.pydata.org/pandas-docs/stable/user_guide/indexing.html#returning-a-view-versus-a-copy\n",
      "  iloc._setitem_with_indexer(indexer, value)\n",
      "/opt/conda/lib/python3.7/site-packages/pandas/core/indexing.py:670: SettingWithCopyWarning: \n",
      "A value is trying to be set on a copy of a slice from a DataFrame\n",
      "\n",
      "See the caveats in the documentation: https://pandas.pydata.org/pandas-docs/stable/user_guide/indexing.html#returning-a-view-versus-a-copy\n",
      "  iloc._setitem_with_indexer(indexer, value)\n",
      "/opt/conda/lib/python3.7/site-packages/pandas/core/frame.py:4169: SettingWithCopyWarning: \n",
      "A value is trying to be set on a copy of a slice from a DataFrame\n",
      "\n",
      "See the caveats in the documentation: https://pandas.pydata.org/pandas-docs/stable/user_guide/indexing.html#returning-a-view-versus-a-copy\n",
      "  errors=errors,\n",
      "/opt/conda/lib/python3.7/site-packages/pandas/core/indexing.py:670: SettingWithCopyWarning: \n",
      "A value is trying to be set on a copy of a slice from a DataFrame\n",
      "\n",
      "See the caveats in the documentation: https://pandas.pydata.org/pandas-docs/stable/user_guide/indexing.html#returning-a-view-versus-a-copy\n",
      "  iloc._setitem_with_indexer(indexer, value)\n",
      "/opt/conda/lib/python3.7/site-packages/pandas/core/frame.py:4169: SettingWithCopyWarning: \n",
      "A value is trying to be set on a copy of a slice from a DataFrame\n",
      "\n",
      "See the caveats in the documentation: https://pandas.pydata.org/pandas-docs/stable/user_guide/indexing.html#returning-a-view-versus-a-copy\n",
      "  errors=errors,\n",
      "/opt/conda/lib/python3.7/site-packages/pandas/core/indexing.py:670: SettingWithCopyWarning: \n",
      "A value is trying to be set on a copy of a slice from a DataFrame\n",
      "\n",
      "See the caveats in the documentation: https://pandas.pydata.org/pandas-docs/stable/user_guide/indexing.html#returning-a-view-versus-a-copy\n",
      "  iloc._setitem_with_indexer(indexer, value)\n",
      "/opt/conda/lib/python3.7/site-packages/pandas/core/frame.py:4169: SettingWithCopyWarning: \n",
      "A value is trying to be set on a copy of a slice from a DataFrame\n",
      "\n",
      "See the caveats in the documentation: https://pandas.pydata.org/pandas-docs/stable/user_guide/indexing.html#returning-a-view-versus-a-copy\n",
      "  errors=errors,\n",
      "/opt/conda/lib/python3.7/site-packages/pandas/core/indexing.py:670: SettingWithCopyWarning: \n",
      "A value is trying to be set on a copy of a slice from a DataFrame\n",
      "\n",
      "See the caveats in the documentation: https://pandas.pydata.org/pandas-docs/stable/user_guide/indexing.html#returning-a-view-versus-a-copy\n",
      "  iloc._setitem_with_indexer(indexer, value)\n",
      "/opt/conda/lib/python3.7/site-packages/pandas/core/frame.py:4169: SettingWithCopyWarning: \n",
      "A value is trying to be set on a copy of a slice from a DataFrame\n",
      "\n",
      "See the caveats in the documentation: https://pandas.pydata.org/pandas-docs/stable/user_guide/indexing.html#returning-a-view-versus-a-copy\n",
      "  errors=errors,\n",
      "/opt/conda/lib/python3.7/site-packages/pandas/core/indexing.py:670: SettingWithCopyWarning: \n",
      "A value is trying to be set on a copy of a slice from a DataFrame\n",
      "\n",
      "See the caveats in the documentation: https://pandas.pydata.org/pandas-docs/stable/user_guide/indexing.html#returning-a-view-versus-a-copy\n",
      "  iloc._setitem_with_indexer(indexer, value)\n",
      "/opt/conda/lib/python3.7/site-packages/pandas/core/indexing.py:670: SettingWithCopyWarning: \n",
      "A value is trying to be set on a copy of a slice from a DataFrame\n",
      "\n",
      "See the caveats in the documentation: https://pandas.pydata.org/pandas-docs/stable/user_guide/indexing.html#returning-a-view-versus-a-copy\n",
      "  iloc._setitem_with_indexer(indexer, value)\n",
      "/opt/conda/lib/python3.7/site-packages/pandas/core/frame.py:4169: SettingWithCopyWarning: \n",
      "A value is trying to be set on a copy of a slice from a DataFrame\n",
      "\n",
      "See the caveats in the documentation: https://pandas.pydata.org/pandas-docs/stable/user_guide/indexing.html#returning-a-view-versus-a-copy\n",
      "  errors=errors,\n",
      "/opt/conda/lib/python3.7/site-packages/pandas/core/indexing.py:670: SettingWithCopyWarning: \n",
      "A value is trying to be set on a copy of a slice from a DataFrame\n",
      "\n",
      "See the caveats in the documentation: https://pandas.pydata.org/pandas-docs/stable/user_guide/indexing.html#returning-a-view-versus-a-copy\n",
      "  iloc._setitem_with_indexer(indexer, value)\n",
      "/opt/conda/lib/python3.7/site-packages/pandas/core/frame.py:4169: SettingWithCopyWarning: \n",
      "A value is trying to be set on a copy of a slice from a DataFrame\n",
      "\n",
      "See the caveats in the documentation: https://pandas.pydata.org/pandas-docs/stable/user_guide/indexing.html#returning-a-view-versus-a-copy\n",
      "  errors=errors,\n",
      "/opt/conda/lib/python3.7/site-packages/pandas/core/indexing.py:670: SettingWithCopyWarning: \n",
      "A value is trying to be set on a copy of a slice from a DataFrame\n",
      "\n",
      "See the caveats in the documentation: https://pandas.pydata.org/pandas-docs/stable/user_guide/indexing.html#returning-a-view-versus-a-copy\n",
      "  iloc._setitem_with_indexer(indexer, value)\n",
      "/opt/conda/lib/python3.7/site-packages/pandas/core/frame.py:4169: SettingWithCopyWarning: \n",
      "A value is trying to be set on a copy of a slice from a DataFrame\n",
      "\n",
      "See the caveats in the documentation: https://pandas.pydata.org/pandas-docs/stable/user_guide/indexing.html#returning-a-view-versus-a-copy\n",
      "  errors=errors,\n",
      "/opt/conda/lib/python3.7/site-packages/pandas/core/indexing.py:670: SettingWithCopyWarning: \n",
      "A value is trying to be set on a copy of a slice from a DataFrame\n",
      "\n",
      "See the caveats in the documentation: https://pandas.pydata.org/pandas-docs/stable/user_guide/indexing.html#returning-a-view-versus-a-copy\n",
      "  iloc._setitem_with_indexer(indexer, value)\n",
      "/opt/conda/lib/python3.7/site-packages/pandas/core/frame.py:4169: SettingWithCopyWarning: \n",
      "A value is trying to be set on a copy of a slice from a DataFrame\n",
      "\n",
      "See the caveats in the documentation: https://pandas.pydata.org/pandas-docs/stable/user_guide/indexing.html#returning-a-view-versus-a-copy\n",
      "  errors=errors,\n",
      "/opt/conda/lib/python3.7/site-packages/pandas/core/indexing.py:670: SettingWithCopyWarning: \n",
      "A value is trying to be set on a copy of a slice from a DataFrame\n",
      "\n",
      "See the caveats in the documentation: https://pandas.pydata.org/pandas-docs/stable/user_guide/indexing.html#returning-a-view-versus-a-copy\n",
      "  iloc._setitem_with_indexer(indexer, value)\n",
      "/opt/conda/lib/python3.7/site-packages/pandas/core/indexing.py:670: SettingWithCopyWarning: \n",
      "A value is trying to be set on a copy of a slice from a DataFrame\n",
      "\n",
      "See the caveats in the documentation: https://pandas.pydata.org/pandas-docs/stable/user_guide/indexing.html#returning-a-view-versus-a-copy\n",
      "  iloc._setitem_with_indexer(indexer, value)\n"
     ]
    }
   ],
   "source": [
    "categori(cat,test)"
   ]
  },
  {
   "cell_type": "code",
   "execution_count": 68,
   "metadata": {
    "execution": {
     "iopub.execute_input": "2020-10-01T05:17:54.127526Z",
     "iopub.status.busy": "2020-10-01T05:17:54.126985Z",
     "iopub.status.idle": "2020-10-01T05:17:54.130447Z",
     "shell.execute_reply": "2020-10-01T05:17:54.129877Z"
    },
    "papermill": {
     "duration": 0.131975,
     "end_time": "2020-10-01T05:17:54.130551",
     "exception": false,
     "start_time": "2020-10-01T05:17:53.998576",
     "status": "completed"
    },
    "tags": []
   },
   "outputs": [
    {
     "data": {
      "text/plain": [
       "76"
      ]
     },
     "execution_count": 68,
     "metadata": {},
     "output_type": "execute_result"
    }
   ],
   "source": [
    "len(test.columns)"
   ]
  },
  {
   "cell_type": "markdown",
   "metadata": {
    "papermill": {
     "duration": 0.126321,
     "end_time": "2020-10-01T05:17:54.382671",
     "exception": false,
     "start_time": "2020-10-01T05:17:54.256350",
     "status": "completed"
    },
    "tags": []
   },
   "source": [
    "# Continuos Data Visulization And Transformation\n"
   ]
  },
  {
   "cell_type": "code",
   "execution_count": 69,
   "metadata": {
    "execution": {
     "iopub.execute_input": "2020-10-01T05:17:54.637714Z",
     "iopub.status.busy": "2020-10-01T05:17:54.637167Z",
     "iopub.status.idle": "2020-10-01T05:17:54.640444Z",
     "shell.execute_reply": "2020-10-01T05:17:54.639949Z"
    },
    "papermill": {
     "duration": 0.131778,
     "end_time": "2020-10-01T05:17:54.640542",
     "exception": false,
     "start_time": "2020-10-01T05:17:54.508764",
     "status": "completed"
    },
    "tags": []
   },
   "outputs": [],
   "source": [
    "num=[]\n",
    "cat=[]\n",
    "def sep(tv):\n",
    "    for i in tv.columns:\n",
    "        if(tv[i].dtypes=='O'):\n",
    "            cat.append(i)\n",
    "        else:\n",
    "            num.append(i)"
   ]
  },
  {
   "cell_type": "code",
   "execution_count": 70,
   "metadata": {
    "execution": {
     "iopub.execute_input": "2020-10-01T05:17:54.894865Z",
     "iopub.status.busy": "2020-10-01T05:17:54.894238Z",
     "iopub.status.idle": "2020-10-01T05:17:54.897004Z",
     "shell.execute_reply": "2020-10-01T05:17:54.896460Z"
    },
    "papermill": {
     "duration": 0.132119,
     "end_time": "2020-10-01T05:17:54.897102",
     "exception": false,
     "start_time": "2020-10-01T05:17:54.764983",
     "status": "completed"
    },
    "tags": []
   },
   "outputs": [],
   "source": [
    "sep(train)"
   ]
  },
  {
   "cell_type": "markdown",
   "metadata": {
    "papermill": {
     "duration": 0.124433,
     "end_time": "2020-10-01T05:17:55.147699",
     "exception": false,
     "start_time": "2020-10-01T05:17:55.023266",
     "status": "completed"
    },
    "tags": []
   },
   "source": [
    "Lets Separate Continous and discrete numerical variables"
   ]
  },
  {
   "cell_type": "code",
   "execution_count": 71,
   "metadata": {
    "execution": {
     "iopub.execute_input": "2020-10-01T05:17:55.399059Z",
     "iopub.status.busy": "2020-10-01T05:17:55.398513Z",
     "iopub.status.idle": "2020-10-01T05:17:55.402778Z",
     "shell.execute_reply": "2020-10-01T05:17:55.403199Z"
    },
    "papermill": {
     "duration": 0.131,
     "end_time": "2020-10-01T05:17:55.403315",
     "exception": false,
     "start_time": "2020-10-01T05:17:55.272315",
     "status": "completed"
    },
    "tags": []
   },
   "outputs": [],
   "source": [
    "cont=[]\n",
    "disc=[]\n",
    "def numsep():\n",
    "    for i in num:\n",
    "        t=train[i].value_counts()\n",
    "        qw=len(t)\n",
    "        if qw>20:\n",
    "            cont.append(i)\n",
    "        else:\n",
    "            disc.append(i)\n",
    "        "
   ]
  },
  {
   "cell_type": "code",
   "execution_count": 72,
   "metadata": {
    "execution": {
     "iopub.execute_input": "2020-10-01T05:17:55.653936Z",
     "iopub.status.busy": "2020-10-01T05:17:55.653315Z",
     "iopub.status.idle": "2020-10-01T05:17:55.675405Z",
     "shell.execute_reply": "2020-10-01T05:17:55.675943Z"
    },
    "papermill": {
     "duration": 0.148822,
     "end_time": "2020-10-01T05:17:55.676085",
     "exception": false,
     "start_time": "2020-10-01T05:17:55.527263",
     "status": "completed"
    },
    "tags": []
   },
   "outputs": [],
   "source": [
    "\n",
    "numsep()"
   ]
  },
  {
   "cell_type": "code",
   "execution_count": 73,
   "metadata": {
    "execution": {
     "iopub.execute_input": "2020-10-01T05:17:55.928422Z",
     "iopub.status.busy": "2020-10-01T05:17:55.927880Z",
     "iopub.status.idle": "2020-10-01T05:17:55.932464Z",
     "shell.execute_reply": "2020-10-01T05:17:55.932994Z"
    },
    "papermill": {
     "duration": 0.133427,
     "end_time": "2020-10-01T05:17:55.933122",
     "exception": false,
     "start_time": "2020-10-01T05:17:55.799695",
     "status": "completed"
    },
    "tags": []
   },
   "outputs": [
    {
     "data": {
      "text/plain": [
       "['Id',\n",
       " 'LotFrontage',\n",
       " 'LotArea',\n",
       " 'YearBuilt',\n",
       " 'YearRemodAdd',\n",
       " 'MasVnrArea',\n",
       " 'BsmtFinSF1',\n",
       " 'BsmtFinSF2',\n",
       " 'BsmtUnfSF',\n",
       " 'TotalBsmtSF',\n",
       " '1stFlrSF',\n",
       " '2ndFlrSF',\n",
       " 'LowQualFinSF',\n",
       " 'GrLivArea',\n",
       " 'GarageYrBlt',\n",
       " 'GarageArea',\n",
       " 'WoodDeckSF',\n",
       " 'OpenPorchSF',\n",
       " 'EnclosedPorch',\n",
       " 'ScreenPorch',\n",
       " 'MiscVal',\n",
       " 'SalePrice']"
      ]
     },
     "execution_count": 73,
     "metadata": {},
     "output_type": "execute_result"
    }
   ],
   "source": [
    "cont"
   ]
  },
  {
   "cell_type": "code",
   "execution_count": 74,
   "metadata": {
    "execution": {
     "iopub.execute_input": "2020-10-01T05:17:56.186441Z",
     "iopub.status.busy": "2020-10-01T05:17:56.185950Z",
     "iopub.status.idle": "2020-10-01T05:17:56.190086Z",
     "shell.execute_reply": "2020-10-01T05:17:56.190603Z"
    },
    "papermill": {
     "duration": 0.133115,
     "end_time": "2020-10-01T05:17:56.190772",
     "exception": false,
     "start_time": "2020-10-01T05:17:56.057657",
     "status": "completed"
    },
    "tags": []
   },
   "outputs": [
    {
     "data": {
      "text/plain": [
       "['MSSubClass',\n",
       " 'OverallQual',\n",
       " 'OverallCond',\n",
       " 'BsmtFullBath',\n",
       " 'BsmtHalfBath',\n",
       " 'FullBath',\n",
       " 'HalfBath',\n",
       " 'BedroomAbvGr',\n",
       " 'KitchenAbvGr',\n",
       " 'TotRmsAbvGrd',\n",
       " 'Fireplaces',\n",
       " 'GarageCars',\n",
       " '3SsnPorch',\n",
       " 'PoolArea',\n",
       " 'MoSold',\n",
       " 'YrSold']"
      ]
     },
     "execution_count": 74,
     "metadata": {},
     "output_type": "execute_result"
    }
   ],
   "source": [
    "disc"
   ]
  },
  {
   "cell_type": "markdown",
   "metadata": {
    "papermill": {
     "duration": 0.124517,
     "end_time": "2020-10-01T05:17:56.440926",
     "exception": false,
     "start_time": "2020-10-01T05:17:56.316409",
     "status": "completed"
    },
    "tags": []
   },
   "source": [
    "Lets Plot hist graph of continous curve"
   ]
  },
  {
   "cell_type": "code",
   "execution_count": 75,
   "metadata": {
    "execution": {
     "iopub.execute_input": "2020-10-01T05:17:56.697452Z",
     "iopub.status.busy": "2020-10-01T05:17:56.696921Z",
     "iopub.status.idle": "2020-10-01T05:17:59.752350Z",
     "shell.execute_reply": "2020-10-01T05:17:59.751760Z"
    },
    "papermill": {
     "duration": 3.182819,
     "end_time": "2020-10-01T05:17:59.752450",
     "exception": false,
     "start_time": "2020-10-01T05:17:56.569631",
     "status": "completed"
    },
    "tags": []
   },
   "outputs": [
    {
     "data": {
      "image/png": "[encoded data removed]",
      "text/plain": [
       "<Figure size 432x288 with 1 Axes>"
      ]
     },
     "metadata": {
      "needs_background": "light"
     },
     "output_type": "display_data"
    },
    {
     "data": {
      "image/png": "[encoded data removed]",
      "text/plain": [
       "<Figure size 432x288 with 1 Axes>"
      ]
     },
     "metadata": {
      "needs_background": "light"
     },
     "output_type": "display_data"
    },
    {
     "data": {
      "image/png": "[encoded data removed]",
      "text/plain": [
       "<Figure size 432x288 with 1 Axes>"
      ]
     },
     "metadata": {
      "needs_background": "light"
     },
     "output_type": "display_data"
    },
    {
     "data": {
      "image/png": "[encoded data removed]",
      "text/plain": [
       "<Figure size 432x288 with 1 Axes>"
      ]
     },
     "metadata": {
      "needs_background": "light"
     },
     "output_type": "display_data"
    },
    {
     "data": {
      "image/png": "[encoded data removed]",
      "text/plain": [
       "<Figure size 432x288 with 1 Axes>"
      ]
     },
     "metadata": {
      "needs_background": "light"
     },
     "output_type": "display_data"
    },
    {
     "data": {
      "image/png": "[encoded data removed]",
      "text/plain": [
       "<Figure size 432x288 with 1 Axes>"
      ]
     },
     "metadata": {
      "needs_background": "light"
     },
     "output_type": "display_data"
    },
    {
     "data": {
      "image/png": "[encoded data removed]",
      "text/plain": [
       "<Figure size 432x288 with 1 Axes>"
      ]
     },
     "metadata": {
      "needs_background": "light"
     },
     "output_type": "display_data"
    },
    {
     "data": {
      "image/png": "[encoded data removed]",
      "text/plain": [
       "<Figure size 432x288 with 1 Axes>"
      ]
     },
     "metadata": {
      "needs_background": "light"
     },
     "output_type": "display_data"
    },
    {
     "data": {
      "image/png": "[encoded data removed]",
      "text/plain": [
       "<Figure size 432x288 with 1 Axes>"
      ]
     },
     "metadata": {
      "needs_background": "light"
     },
     "output_type": "display_data"
    },
    {
     "data": {
      "image/png": "[encoded data removed]",
      "text/plain": [
       "<Figure size 432x288 with 1 Axes>"
      ]
     },
     "metadata": {
      "needs_background": "light"
     },
     "output_type": "display_data"
    },
    {
     "data": {
      "image/png": "[encoded data removed]",
      "text/plain": [
       "<Figure size 432x288 with 1 Axes>"
      ]
     },
     "metadata": {
      "needs_background": "light"
     },
     "output_type": "display_data"
    },
    {
     "data": {
      "image/png": "[encoded data removed]",
      "text/plain": [
       "<Figure size 432x288 with 1 Axes>"
      ]
     },
     "metadata": {
      "needs_background": "light"
     },
     "output_type": "display_data"
    },
    {
     "data": {
      "image/png": "[encoded data removed]",
      "text/plain": [
       "<Figure size 432x288 with 1 Axes>"
      ]
     },
     "metadata": {
      "needs_background": "light"
     },
     "output_type": "display_data"
    },
    {
     "data": {
      "image/png": "[encoded data removed]",
      "text/plain": [
       "<Figure size 432x288 with 1 Axes>"
      ]
     },
     "metadata": {
      "needs_background": "light"
     },
     "output_type": "display_data"
    },
    {
     "data": {
      "image/png": "[encoded data removed]",
      "text/plain": [
       "<Figure size 432x288 with 1 Axes>"
      ]
     },
     "metadata": {
      "needs_background": "light"
     },
     "output_type": "display_data"
    },
    {
     "data": {
      "image/png": "[encoded data removed]",
      "text/plain": [
       "<Figure size 432x288 with 1 Axes>"
      ]
     },
     "metadata": {
      "needs_background": "light"
     },
     "output_type": "display_data"
    },
    {
     "data": {
      "image/png": "[encoded data removed]",
      "text/plain": [
       "<Figure size 432x288 with 1 Axes>"
      ]
     },
     "metadata": {
      "needs_background": "light"
     },
     "output_type": "display_data"
    },
    {
     "data": {
      "image/png": "[encoded data removed]",
      "text/plain": [
       "<Figure size 432x288 with 1 Axes>"
      ]
     },
     "metadata": {
      "needs_background": "light"
     },
     "output_type": "display_data"
    },
    {
     "data": {
      "image/png": "[encoded data removed]",
      "text/plain": [
       "<Figure size 432x288 with 1 Axes>"
      ]
     },
     "metadata": {
      "needs_background": "light"
     },
     "output_type": "display_data"
    },
    {
     "data": {
      "image/png": "[encoded data removed]",
      "text/plain": [
       "<Figure size 432x288 with 1 Axes>"
      ]
     },
     "metadata": {
      "needs_background": "light"
     },
     "output_type": "display_data"
    },
    {
     "data": {
      "image/png": "[encoded data removed]",
      "text/plain": [
       "<Figure size 432x288 with 1 Axes>"
      ]
     },
     "metadata": {
      "needs_background": "light"
     },
     "output_type": "display_data"
    },
    {
     "data": {
      "image/png": "[encoded data removed]",
      "text/plain": [
       "<Figure size 432x288 with 1 Axes>"
      ]
     },
     "metadata": {
      "needs_background": "light"
     },
     "output_type": "display_data"
    }
   ],
   "source": [
    "for i in cont:\n",
    "      train[i].hist()\n",
    "      plt.xlabel(i)\n",
    "      plt.show()"
   ]
  },
  {
   "cell_type": "markdown",
   "metadata": {
    "papermill": {
     "duration": 0.145915,
     "end_time": "2020-10-01T05:18:00.061537",
     "exception": false,
     "start_time": "2020-10-01T05:17:59.915622",
     "status": "completed"
    },
    "tags": []
   },
   "source": [
    "Now we will transform skewed data into Normal Distribution(using log (remember pick that feature which didn't contain zero))"
   ]
  },
  {
   "cell_type": "code",
   "execution_count": 76,
   "metadata": {
    "execution": {
     "iopub.execute_input": "2020-10-01T05:18:00.340740Z",
     "iopub.status.busy": "2020-10-01T05:18:00.339788Z",
     "iopub.status.idle": "2020-10-01T05:18:00.343755Z",
     "shell.execute_reply": "2020-10-01T05:18:00.344163Z"
    },
    "papermill": {
     "duration": 0.146479,
     "end_time": "2020-10-01T05:18:00.344299",
     "exception": false,
     "start_time": "2020-10-01T05:18:00.197820",
     "status": "completed"
    },
    "tags": []
   },
   "outputs": [],
   "source": [
    "sss=['LotFrontage','LotArea','1stFlrSF','GrLivArea']\n",
    "for f in sss:\n",
    "    train[f]=np.log(train[f])"
   ]
  },
  {
   "cell_type": "code",
   "execution_count": 77,
   "metadata": {
    "execution": {
     "iopub.execute_input": "2020-10-01T05:18:00.619769Z",
     "iopub.status.busy": "2020-10-01T05:18:00.618736Z",
     "iopub.status.idle": "2020-10-01T05:18:00.624881Z",
     "shell.execute_reply": "2020-10-01T05:18:00.624346Z"
    },
    "papermill": {
     "duration": 0.144957,
     "end_time": "2020-10-01T05:18:00.624984",
     "exception": false,
     "start_time": "2020-10-01T05:18:00.480027",
     "status": "completed"
    },
    "tags": []
   },
   "outputs": [
    {
     "data": {
      "text/plain": [
       "['MSSubClass',\n",
       " 'OverallQual',\n",
       " 'OverallCond',\n",
       " 'BsmtFullBath',\n",
       " 'BsmtHalfBath',\n",
       " 'FullBath',\n",
       " 'HalfBath',\n",
       " 'BedroomAbvGr',\n",
       " 'KitchenAbvGr',\n",
       " 'TotRmsAbvGrd',\n",
       " 'Fireplaces',\n",
       " 'GarageCars',\n",
       " '3SsnPorch',\n",
       " 'PoolArea',\n",
       " 'MoSold',\n",
       " 'YrSold']"
      ]
     },
     "execution_count": 77,
     "metadata": {},
     "output_type": "execute_result"
    }
   ],
   "source": [
    "disc"
   ]
  },
  {
   "cell_type": "code",
   "execution_count": 78,
   "metadata": {
    "execution": {
     "iopub.execute_input": "2020-10-01T05:18:00.903738Z",
     "iopub.status.busy": "2020-10-01T05:18:00.903141Z",
     "iopub.status.idle": "2020-10-01T05:18:00.907076Z",
     "shell.execute_reply": "2020-10-01T05:18:00.907508Z"
    },
    "papermill": {
     "duration": 0.146028,
     "end_time": "2020-10-01T05:18:00.907641",
     "exception": false,
     "start_time": "2020-10-01T05:18:00.761613",
     "status": "completed"
    },
    "tags": []
   },
   "outputs": [
    {
     "data": {
      "text/plain": [
       "['Id',\n",
       " 'LotFrontage',\n",
       " 'LotArea',\n",
       " 'YearBuilt',\n",
       " 'YearRemodAdd',\n",
       " 'MasVnrArea',\n",
       " 'BsmtFinSF1',\n",
       " 'BsmtFinSF2',\n",
       " 'BsmtUnfSF',\n",
       " 'TotalBsmtSF',\n",
       " '1stFlrSF',\n",
       " '2ndFlrSF',\n",
       " 'LowQualFinSF',\n",
       " 'GrLivArea',\n",
       " 'GarageYrBlt',\n",
       " 'GarageArea',\n",
       " 'WoodDeckSF',\n",
       " 'OpenPorchSF',\n",
       " 'EnclosedPorch',\n",
       " 'ScreenPorch',\n",
       " 'MiscVal',\n",
       " 'SalePrice']"
      ]
     },
     "execution_count": 78,
     "metadata": {},
     "output_type": "execute_result"
    }
   ],
   "source": [
    "cont"
   ]
  },
  {
   "cell_type": "code",
   "execution_count": 79,
   "metadata": {
    "execution": {
     "iopub.execute_input": "2020-10-01T05:18:01.192054Z",
     "iopub.status.busy": "2020-10-01T05:18:01.191479Z",
     "iopub.status.idle": "2020-10-01T05:18:01.331945Z",
     "shell.execute_reply": "2020-10-01T05:18:01.331384Z"
    },
    "papermill": {
     "duration": 0.282882,
     "end_time": "2020-10-01T05:18:01.332049",
     "exception": false,
     "start_time": "2020-10-01T05:18:01.049167",
     "status": "completed"
    },
    "tags": []
   },
   "outputs": [
    {
     "data": {
      "text/plain": [
       "<matplotlib.axes._subplots.AxesSubplot at 0x7fafbf35c410>"
      ]
     },
     "execution_count": 79,
     "metadata": {},
     "output_type": "execute_result"
    },
    {
     "data": {
      "image/png": "[encoded data removed]",
      "text/plain": [
       "<Figure size 432x288 with 1 Axes>"
      ]
     },
     "metadata": {
      "needs_background": "light"
     },
     "output_type": "display_data"
    }
   ],
   "source": [
    "train['LotFrontage'].hist()"
   ]
  },
  {
   "cell_type": "markdown",
   "metadata": {
    "papermill": {
     "duration": 0.139287,
     "end_time": "2020-10-01T05:18:01.609261",
     "exception": false,
     "start_time": "2020-10-01T05:18:01.469974",
     "status": "completed"
    },
    "tags": []
   },
   "source": [
    "Now we will repeat that for test dataset"
   ]
  },
  {
   "cell_type": "code",
   "execution_count": 80,
   "metadata": {
    "execution": {
     "iopub.execute_input": "2020-10-01T05:18:01.892169Z",
     "iopub.status.busy": "2020-10-01T05:18:01.891549Z",
     "iopub.status.idle": "2020-10-01T05:18:01.914264Z",
     "shell.execute_reply": "2020-10-01T05:18:01.914725Z"
    },
    "papermill": {
     "duration": 0.167741,
     "end_time": "2020-10-01T05:18:01.914870",
     "exception": false,
     "start_time": "2020-10-01T05:18:01.747129",
     "status": "completed"
    },
    "tags": []
   },
   "outputs": [],
   "source": [
    "num=[]\n",
    "cat=[]\n",
    "sep(test)\n",
    "cont=[]\n",
    "disc=[]\n",
    "numsep()"
   ]
  },
  {
   "cell_type": "code",
   "execution_count": 81,
   "metadata": {
    "execution": {
     "iopub.execute_input": "2020-10-01T05:18:02.202043Z",
     "iopub.status.busy": "2020-10-01T05:18:02.201399Z",
     "iopub.status.idle": "2020-10-01T05:18:05.158379Z",
     "shell.execute_reply": "2020-10-01T05:18:05.158780Z"
    },
    "papermill": {
     "duration": 3.104909,
     "end_time": "2020-10-01T05:18:05.158929",
     "exception": false,
     "start_time": "2020-10-01T05:18:02.054020",
     "status": "completed"
    },
    "tags": []
   },
   "outputs": [
    {
     "data": {
      "image/png": "[encoded data removed]",
      "text/plain": [
       "<Figure size 432x288 with 1 Axes>"
      ]
     },
     "metadata": {
      "needs_background": "light"
     },
     "output_type": "display_data"
    },
    {
     "data": {
      "image/png": "[encoded data removed]",
      "text/plain": [
       "<Figure size 432x288 with 1 Axes>"
      ]
     },
     "metadata": {
      "needs_background": "light"
     },
     "output_type": "display_data"
    },
    {
     "data": {
      "image/png": "[encoded data removed]",
      "text/plain": [
       "<Figure size 432x288 with 1 Axes>"
      ]
     },
     "metadata": {
      "needs_background": "light"
     },
     "output_type": "display_data"
    },
    {
     "data": {
      "image/png": "[encoded data removed]",
      "text/plain": [
       "<Figure size 432x288 with 1 Axes>"
      ]
     },
     "metadata": {
      "needs_background": "light"
     },
     "output_type": "display_data"
    },
    {
     "data": {
      "image/png": "[encoded data removed]",
      "text/plain": [
       "<Figure size 432x288 with 1 Axes>"
      ]
     },
     "metadata": {
      "needs_background": "light"
     },
     "output_type": "display_data"
    },
    {
     "data": {
      "image/png": "[encoded data removed]",
      "text/plain": [
       "<Figure size 432x288 with 1 Axes>"
      ]
     },
     "metadata": {
      "needs_background": "light"
     },
     "output_type": "display_data"
    },
    {
     "data": {
      "image/png": "[encoded data removed]",
      "text/plain": [
       "<Figure size 432x288 with 1 Axes>"
      ]
     },
     "metadata": {
      "needs_background": "light"
     },
     "output_type": "display_data"
    },
    {
     "data": {
      "image/png": "[encoded data removed]",
      "text/plain": [
       "<Figure size 432x288 with 1 Axes>"
      ]
     },
     "metadata": {
      "needs_background": "light"
     },
     "output_type": "display_data"
    },
    {
     "data": {
      "image/png": "[encoded data removed]",
      "text/plain": [
       "<Figure size 432x288 with 1 Axes>"
      ]
     },
     "metadata": {
      "needs_background": "light"
     },
     "output_type": "display_data"
    },
    {
     "data": {
      "image/png": "[encoded data removed]",
      "text/plain": [
       "<Figure size 432x288 with 1 Axes>"
      ]
     },
     "metadata": {
      "needs_background": "light"
     },
     "output_type": "display_data"
    },
    {
     "data": {
      "image/png": "[encoded data removed]",
      "text/plain": [
       "<Figure size 432x288 with 1 Axes>"
      ]
     },
     "metadata": {
      "needs_background": "light"
     },
     "output_type": "display_data"
    },
    {
     "data": {
      "image/png": "[encoded data removed]",
      "text/plain": [
       "<Figure size 432x288 with 1 Axes>"
      ]
     },
     "metadata": {
      "needs_background": "light"
     },
     "output_type": "display_data"
    },
    {
     "data": {
      "image/png": "[encoded data removed]",
      "text/plain": [
       "<Figure size 432x288 with 1 Axes>"
      ]
     },
     "metadata": {
      "needs_background": "light"
     },
     "output_type": "display_data"
    },
    {
     "data": {
      "image/png": "[encoded data removed]",
      "text/plain": [
       "<Figure size 432x288 with 1 Axes>"
      ]
     },
     "metadata": {
      "needs_background": "light"
     },
     "output_type": "display_data"
    },
    {
     "data": {
      "image/png": "[encoded data removed]",
      "text/plain": [
       "<Figure size 432x288 with 1 Axes>"
      ]
     },
     "metadata": {
      "needs_background": "light"
     },
     "output_type": "display_data"
    },
    {
     "data": {
      "image/png": "[encoded data removed]",
      "text/plain": [
       "<Figure size 432x288 with 1 Axes>"
      ]
     },
     "metadata": {
      "needs_background": "light"
     },
     "output_type": "display_data"
    },
    {
     "data": {
      "image/png": "[encoded data removed]",
      "text/plain": [
       "<Figure size 432x288 with 1 Axes>"
      ]
     },
     "metadata": {
      "needs_background": "light"
     },
     "output_type": "display_data"
    },
    {
     "data": {
      "image/png": "[encoded data removed]",
      "text/plain": [
       "<Figure size 432x288 with 1 Axes>"
      ]
     },
     "metadata": {
      "needs_background": "light"
     },
     "output_type": "display_data"
    },
    {
     "data": {
      "image/png": "[encoded data removed]",
      "text/plain": [
       "<Figure size 432x288 with 1 Axes>"
      ]
     },
     "metadata": {
      "needs_background": "light"
     },
     "output_type": "display_data"
    },
    {
     "data": {
      "image/png": "[encoded data removed]",
      "text/plain": [
       "<Figure size 432x288 with 1 Axes>"
      ]
     },
     "metadata": {
      "needs_background": "light"
     },
     "output_type": "display_data"
    },
    {
     "data": {
      "image/png": "[encoded data removed]",
      "text/plain": [
       "<Figure size 432x288 with 1 Axes>"
      ]
     },
     "metadata": {
      "needs_background": "light"
     },
     "output_type": "display_data"
    }
   ],
   "source": [
    "for i in cont:\n",
    "    test[i].hist()\n",
    "    plt.xlabel(i)\n",
    "    plt.show()"
   ]
  },
  {
   "cell_type": "code",
   "execution_count": 82,
   "metadata": {
    "execution": {
     "iopub.execute_input": "2020-10-01T05:18:05.463903Z",
     "iopub.status.busy": "2020-10-01T05:18:05.463095Z",
     "iopub.status.idle": "2020-10-01T05:18:05.468550Z",
     "shell.execute_reply": "2020-10-01T05:18:05.468009Z"
    },
    "papermill": {
     "duration": 0.159046,
     "end_time": "2020-10-01T05:18:05.468659",
     "exception": false,
     "start_time": "2020-10-01T05:18:05.309613",
     "status": "completed"
    },
    "tags": []
   },
   "outputs": [],
   "source": [
    "\n",
    "ss=['LotFrontage','LotArea','1stFlrSF','GrLivArea']\n",
    "for q in ss:\n",
    "    test[q]=np.log(test[q])"
   ]
  },
  {
   "cell_type": "markdown",
   "metadata": {
    "papermill": {
     "duration": 0.15137,
     "end_time": "2020-10-01T05:18:05.769289",
     "exception": false,
     "start_time": "2020-10-01T05:18:05.617919",
     "status": "completed"
    },
    "tags": []
   },
   "source": [
    "# Feature Selection/Data Preprocessing"
   ]
  },
  {
   "cell_type": "code",
   "execution_count": 83,
   "metadata": {
    "execution": {
     "iopub.execute_input": "2020-10-01T05:18:06.080502Z",
     "iopub.status.busy": "2020-10-01T05:18:06.079921Z",
     "iopub.status.idle": "2020-10-01T05:18:06.101489Z",
     "shell.execute_reply": "2020-10-01T05:18:06.102100Z"
    },
    "papermill": {
     "duration": 0.180954,
     "end_time": "2020-10-01T05:18:06.102292",
     "exception": false,
     "start_time": "2020-10-01T05:18:05.921338",
     "status": "completed"
    },
    "tags": []
   },
   "outputs": [
    {
     "name": "stdout",
     "output_type": "stream",
     "text": [
      "SalePrice 1.0\n",
      "****************************************\n",
      "OverallQual 0.7909816005838047\n",
      "****************************************\n",
      "GrLivArea 0.6951180682463286\n",
      "****************************************\n",
      "GarageCars 0.640409197258349\n",
      "****************************************\n",
      "GarageArea 0.6234314389183598\n",
      "****************************************\n",
      "TotalBsmtSF 0.6135805515591944\n",
      "****************************************\n",
      "1stFlrSF 0.5912644120820414\n",
      "****************************************\n",
      "FullBath 0.5606637627484452\n",
      "****************************************\n",
      "TotRmsAbvGrd 0.5337231555820238\n",
      "****************************************\n",
      "YearBuilt 0.5228973328794967\n",
      "****************************************\n",
      "YearRemodAdd 0.5071009671113867\n",
      "****************************************\n",
      "GarageYrBlt 0.5018468404018182\n",
      "****************************************\n",
      "BedroomAbvGr 0.1682131543007415\n",
      "****************************************\n",
      "ScreenPorch 0.11144657114291048\n",
      "****************************************\n",
      "PoolArea 0.09240354949187278\n",
      "****************************************\n",
      "MoSold 0.04643224522381936\n",
      "****************************************\n",
      "3SsnPorch 0.04458366533574792\n",
      "****************************************\n",
      "BsmtFinSF2 -0.011378121450215216\n",
      "****************************************\n",
      "BsmtHalfBath -0.016844154297359294\n",
      "****************************************\n",
      "MiscVal -0.02118957964030379\n",
      "****************************************\n",
      "Id -0.021916719443431112\n",
      "****************************************\n",
      "LowQualFinSF -0.02560613000068015\n",
      "****************************************\n",
      "YrSold -0.028922585168730426\n",
      "****************************************\n",
      "OverallCond -0.0778558940486776\n",
      "****************************************\n",
      "MSSubClass -0.08428413512659523\n",
      "****************************************\n",
      "EnclosedPorch -0.12857795792595636\n",
      "****************************************\n",
      "KitchenAbvGr -0.1359073708421417\n",
      "****************************************\n"
     ]
    }
   ],
   "source": [
    "pp=[]\n",
    "corr=train.corr()\n",
    "t=corr[\"SalePrice\"].sort_values(ascending=False)\n",
    "t=t.to_dict()\n",
    "for i,j in t.items():\n",
    "    if j>0.5 or (0.2>j and j>-0.2):\n",
    "        print(i,j)\n",
    "        print(\"*\"*40)\n",
    "        if 0.2>j and j>-0.2:\n",
    "            pp.append(i)\n"
   ]
  },
  {
   "cell_type": "code",
   "execution_count": 84,
   "metadata": {
    "execution": {
     "iopub.execute_input": "2020-10-01T05:18:06.407865Z",
     "iopub.status.busy": "2020-10-01T05:18:06.407324Z",
     "iopub.status.idle": "2020-10-01T05:18:06.409632Z",
     "shell.execute_reply": "2020-10-01T05:18:06.410053Z"
    },
    "papermill": {
     "duration": 0.157842,
     "end_time": "2020-10-01T05:18:06.410170",
     "exception": false,
     "start_time": "2020-10-01T05:18:06.252328",
     "status": "completed"
    },
    "tags": []
   },
   "outputs": [
    {
     "data": {
      "text/plain": [
       "['BedroomAbvGr',\n",
       " 'ScreenPorch',\n",
       " 'PoolArea',\n",
       " 'MoSold',\n",
       " '3SsnPorch',\n",
       " 'BsmtFinSF2',\n",
       " 'BsmtHalfBath',\n",
       " 'MiscVal',\n",
       " 'Id',\n",
       " 'LowQualFinSF',\n",
       " 'YrSold',\n",
       " 'OverallCond',\n",
       " 'MSSubClass',\n",
       " 'EnclosedPorch',\n",
       " 'KitchenAbvGr']"
      ]
     },
     "execution_count": 84,
     "metadata": {},
     "output_type": "execute_result"
    }
   ],
   "source": [
    "pp"
   ]
  },
  {
   "cell_type": "code",
   "execution_count": 85,
   "metadata": {
    "execution": {
     "iopub.execute_input": "2020-10-01T05:18:06.713325Z",
     "iopub.status.busy": "2020-10-01T05:18:06.712648Z",
     "iopub.status.idle": "2020-10-01T05:18:06.717110Z",
     "shell.execute_reply": "2020-10-01T05:18:06.717513Z"
    },
    "papermill": {
     "duration": 0.157563,
     "end_time": "2020-10-01T05:18:06.717660",
     "exception": false,
     "start_time": "2020-10-01T05:18:06.560097",
     "status": "completed"
    },
    "tags": []
   },
   "outputs": [],
   "source": [
    "num=[]\n",
    "sep(train)"
   ]
  },
  {
   "cell_type": "code",
   "execution_count": 86,
   "metadata": {
    "execution": {
     "iopub.execute_input": "2020-10-01T05:18:07.027453Z",
     "iopub.status.busy": "2020-10-01T05:18:07.026877Z",
     "iopub.status.idle": "2020-10-01T05:18:15.454414Z",
     "shell.execute_reply": "2020-10-01T05:18:15.453878Z"
    },
    "papermill": {
     "duration": 8.583693,
     "end_time": "2020-10-01T05:18:15.454517",
     "exception": false,
     "start_time": "2020-10-01T05:18:06.870824",
     "status": "completed"
    },
    "tags": []
   },
   "outputs": [
    {
     "name": "stdout",
     "output_type": "stream",
     "text": [
      "LotFrontage OverallQual\n",
      "0.6587635135699723\n",
      "****************************************\n",
      "LotFrontage SalePrice\n",
      "0.9824136331101884\n",
      "****************************************\n",
      "LotArea OverallQual\n",
      "0.6919101900164021\n",
      "****************************************\n",
      "LotArea SalePrice\n",
      "0.9914724566809693\n",
      "****************************************\n",
      "OverallQual SalePrice\n",
      "0.8415370160473352\n",
      "****************************************\n",
      "OverallCond OverallQual\n",
      "0.6260633254472999\n",
      "****************************************\n",
      "OverallCond SalePrice\n",
      "0.9190060207144689\n",
      "****************************************\n",
      "YearBuilt OverallQual\n",
      "0.7824552948812293\n",
      "****************************************\n",
      "YearBuilt TotalBsmtSF\n",
      "0.6023096967395778\n",
      "****************************************\n",
      "YearBuilt GarageCars\n",
      "0.6296731420901708\n",
      "****************************************\n",
      "YearBuilt GarageArea\n",
      "0.6119849298873006\n",
      "****************************************\n",
      "YearBuilt SalePrice\n",
      "0.9995387122941926\n",
      "****************************************\n",
      "YearRemodAdd OverallQual\n",
      "0.7857999972440552\n",
      "****************************************\n",
      "YearRemodAdd TotalBsmtSF\n",
      "0.6045505171486352\n",
      "****************************************\n",
      "YearRemodAdd GrLivArea\n",
      "0.6060670150339098\n",
      "****************************************\n",
      "YearRemodAdd GarageCars\n",
      "0.6324049232105994\n",
      "****************************************\n",
      "YearRemodAdd GarageArea\n",
      "0.6152369357324954\n",
      "****************************************\n",
      "YearRemodAdd SalePrice\n",
      "0.9998446640839397\n",
      "****************************************\n",
      "1stFlrSF OverallQual\n",
      "0.7137518564288554\n",
      "****************************************\n",
      "1stFlrSF TotalBsmtSF\n",
      "0.6031994643366594\n",
      "****************************************\n",
      "1stFlrSF SalePrice\n",
      "0.9955914346807545\n",
      "****************************************\n",
      "LowQualFinSF ScreenPorch\n",
      "0.8508750175306002\n",
      "****************************************\n",
      "GrLivArea OverallQual\n",
      "0.7198787384813793\n",
      "****************************************\n",
      "GrLivArea YrSold\n",
      "-0.6825901445995747\n",
      "****************************************\n",
      "GrLivArea SalePrice\n",
      "0.9969360244082694\n",
      "****************************************\n",
      "BsmtFullBath OverallQual\n",
      "0.7575114957907622\n",
      "****************************************\n",
      "BsmtFullBath TotalBsmtSF\n",
      "0.6569431815684289\n",
      "****************************************\n",
      "BsmtFullBath GarageCars\n",
      "0.6493230174335379\n",
      "****************************************\n",
      "BsmtFullBath GarageArea\n",
      "0.6119793475118875\n",
      "****************************************\n",
      "BsmtFullBath SalePrice\n",
      "0.9784684184583435\n",
      "****************************************\n",
      "BsmtHalfBath OverallQual\n",
      "0.687491046684043\n",
      "****************************************\n",
      "BsmtHalfBath MasVnrArea\n",
      "0.6402398963568635\n",
      "****************************************\n",
      "BsmtHalfBath TotalBsmtSF\n",
      "0.6088358493822852\n",
      "****************************************\n",
      "BsmtHalfBath SalePrice\n",
      "0.9881960796227555\n",
      "****************************************\n",
      "HalfBath OverallQual\n",
      "0.7238665391767711\n",
      "****************************************\n",
      "HalfBath TotRmsAbvGrd\n",
      "0.6020078367349051\n",
      "****************************************\n",
      "HalfBath GarageCars\n",
      "0.6667597020899265\n",
      "****************************************\n",
      "HalfBath GarageArea\n",
      "0.6389985236547184\n",
      "****************************************\n",
      "HalfBath SalePrice\n",
      "0.9909698844705048\n",
      "****************************************\n",
      "BedroomAbvGr SalePrice\n",
      "0.6806210615003142\n",
      "****************************************\n",
      "KitchenAbvGr OverallQual\n",
      "0.7466520436883936\n",
      "****************************************\n",
      "KitchenAbvGr TotalBsmtSF\n",
      "0.6342666229565748\n",
      "****************************************\n",
      "KitchenAbvGr FullBath\n",
      "0.6094879459984003\n",
      "****************************************\n",
      "KitchenAbvGr TotRmsAbvGrd\n",
      "0.6123779975959678\n",
      "****************************************\n",
      "KitchenAbvGr GarageCars\n",
      "0.6654125150026754\n",
      "****************************************\n",
      "KitchenAbvGr GarageArea\n",
      "0.6435306872073531\n",
      "****************************************\n",
      "KitchenAbvGr SalePrice\n",
      "0.9852900529701165\n",
      "****************************************\n",
      "TotRmsAbvGrd SalePrice\n",
      "0.775841463025888\n",
      "****************************************\n",
      "Fireplaces SalePrice\n",
      "0.8276415690776702\n",
      "****************************************\n",
      "GarageYrBlt OverallQual\n",
      "0.784515031471796\n",
      "****************************************\n",
      "GarageYrBlt TotalBsmtSF\n",
      "0.6038473367169737\n",
      "****************************************\n",
      "GarageYrBlt GarageCars\n",
      "0.6333134013327409\n",
      "****************************************\n",
      "GarageYrBlt GarageArea\n",
      "0.6168258150984023\n",
      "****************************************\n",
      "GarageYrBlt SalePrice\n",
      "0.9997062413053596\n",
      "****************************************\n",
      "PoolArea 2ndFlrSF\n",
      "0.6665049191280819\n",
      "****************************************\n",
      "PoolArea GarageCars\n",
      "0.6974461933974996\n",
      "****************************************\n",
      "PoolArea SalePrice\n",
      "0.987497272220899\n",
      "****************************************\n",
      "YrSold OverallQual\n",
      "0.7910069467413442\n",
      "****************************************\n",
      "YrSold TotalBsmtSF\n",
      "0.6136140635494449\n",
      "****************************************\n",
      "YrSold GrLivArea\n",
      "0.6951591238687183\n",
      "****************************************\n",
      "YrSold GarageCars\n",
      "0.6404089791153224\n",
      "****************************************\n",
      "YrSold GarageArea\n",
      "0.6234397115754151\n",
      "****************************************\n",
      "YrSold SalePrice\n",
      "0.9999986473802922\n",
      "****************************************\n",
      "SalePrice LotFrontage\n",
      "-0.7835111882696012\n",
      "****************************************\n",
      "SalePrice LotArea\n",
      "-0.7895868189586448\n",
      "****************************************\n",
      "SalePrice OverallQual\n",
      "-0.7070214918172626\n",
      "****************************************\n",
      "SalePrice OverallCond\n",
      "-0.7434525254059926\n",
      "****************************************\n",
      "SalePrice YearBuilt\n",
      "-0.7986425619420735\n",
      "****************************************\n",
      "SalePrice YearRemodAdd\n",
      "-0.7981870414018124\n",
      "****************************************\n",
      "SalePrice 1stFlrSF\n",
      "-0.8038444696629031\n",
      "****************************************\n",
      "SalePrice GrLivArea\n",
      "-0.80494268278236\n",
      "****************************************\n",
      "SalePrice BedroomAbvGr\n",
      "-0.6424398272306916\n",
      "****************************************\n",
      "SalePrice KitchenAbvGr\n",
      "-0.6924994626469931\n",
      "****************************************\n",
      "SalePrice TotRmsAbvGrd\n",
      "-0.6429665954056761\n",
      "****************************************\n",
      "SalePrice GarageYrBlt\n",
      "-0.7979065909064956\n",
      "****************************************\n",
      "SalePrice YrSold\n",
      "-0.7960226124569935\n",
      "****************************************\n"
     ]
    }
   ],
   "source": [
    "for i in num:\n",
    "    for j in num:\n",
    "        train[\"new\"]=train[j]/train[i]\n",
    "        corr=train.corr()\n",
    "        t=corr[\"new\"].sort_values(ascending=False)\n",
    "        t=t.to_dict()\n",
    "        for r,s in t.items():\n",
    "            if (s>0.6 or s<-0.6) and r=='SalePrice':\n",
    "                print(i,j)\n",
    "                print(s)\n",
    "                print(\"*\"*40)\n",
    "\n",
    "                \n",
    "       \n",
    "\n",
    "        \n"
   ]
  },
  {
   "cell_type": "code",
   "execution_count": 87,
   "metadata": {
    "execution": {
     "iopub.execute_input": "2020-10-01T05:18:15.813418Z",
     "iopub.status.busy": "2020-10-01T05:18:15.811610Z",
     "iopub.status.idle": "2020-10-01T05:18:15.816041Z",
     "shell.execute_reply": "2020-10-01T05:18:15.816439Z"
    },
    "papermill": {
     "duration": 0.167302,
     "end_time": "2020-10-01T05:18:15.816593",
     "exception": false,
     "start_time": "2020-10-01T05:18:15.649291",
     "status": "completed"
    },
    "tags": []
   },
   "outputs": [],
   "source": [
    "train.drop(['new'],axis=1,inplace=True)"
   ]
  },
  {
   "cell_type": "code",
   "execution_count": 88,
   "metadata": {
    "execution": {
     "iopub.execute_input": "2020-10-01T05:18:16.143390Z",
     "iopub.status.busy": "2020-10-01T05:18:16.142504Z",
     "iopub.status.idle": "2020-10-01T05:18:16.145449Z",
     "shell.execute_reply": "2020-10-01T05:18:16.144939Z"
    },
    "papermill": {
     "duration": 0.173091,
     "end_time": "2020-10-01T05:18:16.145560",
     "exception": false,
     "start_time": "2020-10-01T05:18:15.972469",
     "status": "completed"
    },
    "tags": []
   },
   "outputs": [],
   "source": [
    "def add(w):\n",
    "    w[\"LotFrontage OverallQual\"]=w[\"OverallQual\"]/w[\"LotFrontage\"]\n",
    "    w[\"LotArea OverallQual\"]=w[\"OverallQual\"]/w[\"LotArea\"]\n",
    "    w[\"OverallCond OverallQual\"]=w[\"OverallQual\"]/w[\"OverallCond\"]\n",
    "    w[\"YearBuilt OverallQual\"]=w[\"OverallQual\"]/w[\"YearBuilt\"]\n",
    "    w[\"YearBuilt TotalBsmtSF\"]=w[\"TotalBsmtSF\"]/w[\"YearBuilt\"]\n",
    "    w[\"YearBuilt GarageCars\"]=w[\"GarageCars\"]/w[\"YearBuilt\"]\n",
    "    w[\"YearBuilt GarageArea\"]=w[\"GarageArea\"]/w[\"YearBuilt\"]\n",
    "    w[\"YearRemodAdd OverallQual\"]=w[\"OverallQual\"]/w[\"YearRemodAdd\"]\n",
    "    w[\"YearRemodAdd TotalBsmtSF\"]=w[\"TotalBsmtSF\"]/w[\"YearRemodAdd\"]\n",
    "    w[\"YearRemodAdd GrLivArea\"]=w[\"GrLivArea\"]/w[\"YearRemodAdd\"]\n",
    "    w[\"YearRemodAdd GarageCars\"]=w[\"GarageCars\"]/w[\"YearRemodAdd\"]\n",
    "    w[\"YearRemodAdd GarageArea\"]=w[\"GarageArea\"]/w[\"YearRemodAdd\"]\n",
    "    w[\"1stFlrSF OverallQual\"]=w[\"OverallQual\"]/w[\"1stFlrSF\"]\n",
    "    w[\"1stFlrSF TotalBsmtSF\"]=w[\"TotalBsmtSF\"]/w[\"1stFlrSF\"]\n",
    "    w[\"LowQualFinSF ScreenPorch\"]=w[\"ScreenPorch\"]/w[\"LowQualFinSF\"]\n",
    "    w[\"GrLivArea OverallQual\"]=w[\"OverallQual\"]/w[\"GrLivArea\"]\n",
    "    w[\"GrLivArea YrSold\"]=w[\"YrSold\"]/w[\"GrLivArea\"]\n",
    "  \n",
    "  \n",
    "    w[\"GarageYrBlt OverallQual\"]=w[\"OverallQual\"]/w[\"GarageYrBlt\"]\n",
    "    w[\"GarageYrBlt TotalBsmtSF\"]=w[\"TotalBsmtSF\"]/w[\"GarageYrBlt\"]\n",
    "    w[\"GarageYrBlt GarageCars\"]=w[\"GarageCars\"]/w[\"GarageYrBlt\"]\n",
    "    w[\"GarageYrBlt GarageArea\"]=w[\"GarageArea\"]/w[\"GarageYrBlt\"]\n",
    "  \n",
    "    w[\"YrSold OverallQual\"]=w[\"OverallQual\"]/w[\"YrSold\"]\n",
    "    w[\"YrSold TotalBsmtSF\"]=w[\"TotalBsmtSF\"]/w[\"YrSold\"]\n",
    "    w[\"YrSold GrLivArea\"]=w[\"GrLivArea\"]/w[\"YrSold\"]\n",
    "    w[\"YrSold GarageArea\"]=w[\"GarageArea\"]/w[\"YrSold\"]\n",
    "    w[\"GarageYrBlt TotalBsmtSF\"]=w[\"TotalBsmtSF\"]/w[\"GarageYrBlt\"]\n",
    "    w[\"GarageYrBlt GarageCars\"]=w[\"GarageCars\"]/w[\"GarageYrBlt\"] \n",
    "    "
   ]
  },
  {
   "cell_type": "code",
   "execution_count": 89,
   "metadata": {
    "execution": {
     "iopub.execute_input": "2020-10-01T05:18:16.485958Z",
     "iopub.status.busy": "2020-10-01T05:18:16.485396Z",
     "iopub.status.idle": "2020-10-01T05:18:16.487975Z",
     "shell.execute_reply": "2020-10-01T05:18:16.487498Z"
    },
    "papermill": {
     "duration": 0.18675,
     "end_time": "2020-10-01T05:18:16.488084",
     "exception": false,
     "start_time": "2020-10-01T05:18:16.301334",
     "status": "completed"
    },
    "tags": []
   },
   "outputs": [],
   "source": [
    "add(train)"
   ]
  },
  {
   "cell_type": "code",
   "execution_count": 90,
   "metadata": {
    "execution": {
     "iopub.execute_input": "2020-10-01T05:18:16.805101Z",
     "iopub.status.busy": "2020-10-01T05:18:16.804483Z",
     "iopub.status.idle": "2020-10-01T05:18:16.808835Z",
     "shell.execute_reply": "2020-10-01T05:18:16.809288Z"
    },
    "papermill": {
     "duration": 0.165329,
     "end_time": "2020-10-01T05:18:16.809421",
     "exception": false,
     "start_time": "2020-10-01T05:18:16.644092",
     "status": "completed"
    },
    "tags": []
   },
   "outputs": [],
   "source": [
    "train.drop(pp,axis=1,inplace=True)"
   ]
  },
  {
   "cell_type": "code",
   "execution_count": 91,
   "metadata": {
    "execution": {
     "iopub.execute_input": "2020-10-01T05:18:17.123613Z",
     "iopub.status.busy": "2020-10-01T05:18:17.123118Z",
     "iopub.status.idle": "2020-10-01T05:18:17.142142Z",
     "shell.execute_reply": "2020-10-01T05:18:17.141648Z"
    },
    "papermill": {
     "duration": 0.175605,
     "end_time": "2020-10-01T05:18:17.142252",
     "exception": false,
     "start_time": "2020-10-01T05:18:16.966647",
     "status": "completed"
    },
    "tags": []
   },
   "outputs": [],
   "source": [
    "add(test)"
   ]
  },
  {
   "cell_type": "code",
   "execution_count": 92,
   "metadata": {
    "execution": {
     "iopub.execute_input": "2020-10-01T05:18:17.457026Z",
     "iopub.status.busy": "2020-10-01T05:18:17.456394Z",
     "iopub.status.idle": "2020-10-01T05:18:17.459191Z",
     "shell.execute_reply": "2020-10-01T05:18:17.459706Z"
    },
    "papermill": {
     "duration": 0.163023,
     "end_time": "2020-10-01T05:18:17.459844",
     "exception": false,
     "start_time": "2020-10-01T05:18:17.296821",
     "status": "completed"
    },
    "tags": []
   },
   "outputs": [
    {
     "data": {
      "text/plain": [
       "101"
      ]
     },
     "execution_count": 92,
     "metadata": {},
     "output_type": "execute_result"
    }
   ],
   "source": [
    "len(test.columns)"
   ]
  },
  {
   "cell_type": "code",
   "execution_count": 93,
   "metadata": {
    "execution": {
     "iopub.execute_input": "2020-10-01T05:18:17.775486Z",
     "iopub.status.busy": "2020-10-01T05:18:17.774768Z",
     "iopub.status.idle": "2020-10-01T05:18:17.780900Z",
     "shell.execute_reply": "2020-10-01T05:18:17.781321Z"
    },
    "papermill": {
     "duration": 0.165923,
     "end_time": "2020-10-01T05:18:17.781449",
     "exception": false,
     "start_time": "2020-10-01T05:18:17.615526",
     "status": "completed"
    },
    "tags": []
   },
   "outputs": [],
   "source": [
    "test.drop(pp,axis=1,inplace=True)"
   ]
  },
  {
   "cell_type": "code",
   "execution_count": 94,
   "metadata": {
    "execution": {
     "iopub.execute_input": "2020-10-01T05:18:18.094289Z",
     "iopub.status.busy": "2020-10-01T05:18:18.093759Z",
     "iopub.status.idle": "2020-10-01T05:18:18.098422Z",
     "shell.execute_reply": "2020-10-01T05:18:18.098840Z"
    },
    "papermill": {
     "duration": 0.162852,
     "end_time": "2020-10-01T05:18:18.098978",
     "exception": false,
     "start_time": "2020-10-01T05:18:17.936126",
     "status": "completed"
    },
    "tags": []
   },
   "outputs": [
    {
     "data": {
      "text/plain": [
       "86"
      ]
     },
     "execution_count": 94,
     "metadata": {},
     "output_type": "execute_result"
    }
   ],
   "source": [
    "len(test.columns)"
   ]
  },
  {
   "cell_type": "code",
   "execution_count": 95,
   "metadata": {
    "execution": {
     "iopub.execute_input": "2020-10-01T05:18:18.419462Z",
     "iopub.status.busy": "2020-10-01T05:18:18.418908Z",
     "iopub.status.idle": "2020-10-01T05:18:18.423032Z",
     "shell.execute_reply": "2020-10-01T05:18:18.423577Z"
    },
    "papermill": {
     "duration": 0.165828,
     "end_time": "2020-10-01T05:18:18.423748",
     "exception": false,
     "start_time": "2020-10-01T05:18:18.257920",
     "status": "completed"
    },
    "tags": []
   },
   "outputs": [
    {
     "data": {
      "text/plain": [
       "87"
      ]
     },
     "execution_count": 95,
     "metadata": {},
     "output_type": "execute_result"
    }
   ],
   "source": [
    "len(train.columns)"
   ]
  },
  {
   "cell_type": "code",
   "execution_count": 96,
   "metadata": {
    "execution": {
     "iopub.execute_input": "2020-10-01T05:18:18.803392Z",
     "iopub.status.busy": "2020-10-01T05:18:18.802761Z",
     "iopub.status.idle": "2020-10-01T05:18:18.808808Z",
     "shell.execute_reply": "2020-10-01T05:18:18.809289Z"
    },
    "papermill": {
     "duration": 0.168284,
     "end_time": "2020-10-01T05:18:18.809432",
     "exception": false,
     "start_time": "2020-10-01T05:18:18.641148",
     "status": "completed"
    },
    "tags": []
   },
   "outputs": [
    {
     "data": {
      "text/plain": [
       "array([208500, 181500, 223500, ..., 266500, 142125, 147500])"
      ]
     },
     "execution_count": 96,
     "metadata": {},
     "output_type": "execute_result"
    }
   ],
   "source": [
    "label=train[\"SalePrice\"].values\n",
    "label"
   ]
  },
  {
   "cell_type": "code",
   "execution_count": 97,
   "metadata": {
    "execution": {
     "iopub.execute_input": "2020-10-01T05:18:19.127663Z",
     "iopub.status.busy": "2020-10-01T05:18:19.127158Z",
     "iopub.status.idle": "2020-10-01T05:18:19.132390Z",
     "shell.execute_reply": "2020-10-01T05:18:19.132814Z"
    },
    "papermill": {
     "duration": 0.164472,
     "end_time": "2020-10-01T05:18:19.132945",
     "exception": false,
     "start_time": "2020-10-01T05:18:18.968473",
     "status": "completed"
    },
    "tags": []
   },
   "outputs": [],
   "source": [
    "train.drop([\"SalePrice\"],axis=1,inplace=True)"
   ]
  },
  {
   "cell_type": "code",
   "execution_count": 98,
   "metadata": {
    "execution": {
     "iopub.execute_input": "2020-10-01T05:18:19.447834Z",
     "iopub.status.busy": "2020-10-01T05:18:19.447268Z",
     "iopub.status.idle": "2020-10-01T05:18:19.452637Z",
     "shell.execute_reply": "2020-10-01T05:18:19.453150Z"
    },
    "papermill": {
     "duration": 0.164426,
     "end_time": "2020-10-01T05:18:19.453285",
     "exception": false,
     "start_time": "2020-10-01T05:18:19.288859",
     "status": "completed"
    },
    "tags": []
   },
   "outputs": [],
   "source": [
    "trtr=[\"LowQualFinSF ScreenPorch\"]\n",
    "train.drop(trtr,axis=1,inplace=True)"
   ]
  },
  {
   "cell_type": "code",
   "execution_count": 99,
   "metadata": {
    "execution": {
     "iopub.execute_input": "2020-10-01T05:18:19.793821Z",
     "iopub.status.busy": "2020-10-01T05:18:19.793150Z",
     "iopub.status.idle": "2020-10-01T05:18:19.794747Z",
     "shell.execute_reply": "2020-10-01T05:18:19.794282Z"
    },
    "papermill": {
     "duration": 0.17828,
     "end_time": "2020-10-01T05:18:19.794845",
     "exception": false,
     "start_time": "2020-10-01T05:18:19.616565",
     "status": "completed"
    },
    "tags": []
   },
   "outputs": [],
   "source": [
    "num=[]\n",
    "cat=[]\n",
    "sep(train)"
   ]
  },
  {
   "cell_type": "code",
   "execution_count": 100,
   "metadata": {
    "execution": {
     "iopub.execute_input": "2020-10-01T05:18:20.117387Z",
     "iopub.status.busy": "2020-10-01T05:18:20.116466Z",
     "iopub.status.idle": "2020-10-01T05:18:20.119505Z",
     "shell.execute_reply": "2020-10-01T05:18:20.118961Z"
    },
    "papermill": {
     "duration": 0.165716,
     "end_time": "2020-10-01T05:18:20.119605",
     "exception": false,
     "start_time": "2020-10-01T05:18:19.953889",
     "status": "completed"
    },
    "tags": []
   },
   "outputs": [],
   "source": [
    "def split(a):\n",
    "    num=a.select_dtypes(include=[np.number]) \n",
    "    cat=a.select_dtypes(exclude=[np.number])\n",
    "    cat=pd.get_dummies(cat)\n",
    "    return num,cat"
   ]
  },
  {
   "cell_type": "code",
   "execution_count": 101,
   "metadata": {
    "execution": {
     "iopub.execute_input": "2020-10-01T05:18:20.447016Z",
     "iopub.status.busy": "2020-10-01T05:18:20.446101Z",
     "iopub.status.idle": "2020-10-01T05:18:20.480991Z",
     "shell.execute_reply": "2020-10-01T05:18:20.480495Z"
    },
    "papermill": {
     "duration": 0.20311,
     "end_time": "2020-10-01T05:18:20.481098",
     "exception": false,
     "start_time": "2020-10-01T05:18:20.277988",
     "status": "completed"
    },
    "tags": []
   },
   "outputs": [],
   "source": [
    "x,y=split(train)"
   ]
  },
  {
   "cell_type": "code",
   "execution_count": 102,
   "metadata": {
    "execution": {
     "iopub.execute_input": "2020-10-01T05:18:20.816794Z",
     "iopub.status.busy": "2020-10-01T05:18:20.813345Z",
     "iopub.status.idle": "2020-10-01T05:18:20.820010Z",
     "shell.execute_reply": "2020-10-01T05:18:20.819454Z"
    },
    "papermill": {
     "duration": 0.17849,
     "end_time": "2020-10-01T05:18:20.820130",
     "exception": false,
     "start_time": "2020-10-01T05:18:20.641640",
     "status": "completed"
    },
    "tags": []
   },
   "outputs": [],
   "source": [
    "scaler=StandardScaler()\n",
    "def scaling(x,y):\n",
    "     features_scaled=scaler.fit_transform(x.values)\n",
    "     q=y.values\n",
    "     vk=np.concatenate((q,features_scaled),axis=1)\n",
    "     return vk"
   ]
  },
  {
   "cell_type": "code",
   "execution_count": 103,
   "metadata": {
    "execution": {
     "iopub.execute_input": "2020-10-01T05:18:21.149077Z",
     "iopub.status.busy": "2020-10-01T05:18:21.148473Z",
     "iopub.status.idle": "2020-10-01T05:18:21.156578Z",
     "shell.execute_reply": "2020-10-01T05:18:21.156030Z"
    },
    "papermill": {
     "duration": 0.170627,
     "end_time": "2020-10-01T05:18:21.156694",
     "exception": false,
     "start_time": "2020-10-01T05:18:20.986067",
     "status": "completed"
    },
    "tags": []
   },
   "outputs": [],
   "source": [
    "features=scaling(x,y)"
   ]
  },
  {
   "cell_type": "code",
   "execution_count": 104,
   "metadata": {
    "execution": {
     "iopub.execute_input": "2020-10-01T05:18:21.483316Z",
     "iopub.status.busy": "2020-10-01T05:18:21.482797Z",
     "iopub.status.idle": "2020-10-01T05:18:21.490504Z",
     "shell.execute_reply": "2020-10-01T05:18:21.490946Z"
    },
    "papermill": {
     "duration": 0.170783,
     "end_time": "2020-10-01T05:18:21.491078",
     "exception": false,
     "start_time": "2020-10-01T05:18:21.320295",
     "status": "completed"
    },
    "tags": []
   },
   "outputs": [],
   "source": [
    "np.random.seed(1234)\n",
    "(x_train,x_test,y_train,y_test) = train_test_split(features,label, train_size=0.75, random_state=42)"
   ]
  },
  {
   "cell_type": "code",
   "execution_count": 105,
   "metadata": {
    "execution": {
     "iopub.execute_input": "2020-10-01T05:18:21.855233Z",
     "iopub.status.busy": "2020-10-01T05:18:21.854666Z",
     "iopub.status.idle": "2020-10-01T05:18:21.920669Z",
     "shell.execute_reply": "2020-10-01T05:18:21.920024Z"
    },
    "papermill": {
     "duration": 0.269386,
     "end_time": "2020-10-01T05:18:21.920824",
     "exception": false,
     "start_time": "2020-10-01T05:18:21.651438",
     "status": "completed"
    },
    "tags": []
   },
   "outputs": [
    {
     "data": {
      "text/plain": [
       "LinearRegression()"
      ]
     },
     "execution_count": 105,
     "metadata": {},
     "output_type": "execute_result"
    }
   ],
   "source": [
    "from sklearn.linear_model import LinearRegression\n",
    "\n",
    "lin_reg = LinearRegression()\n",
    "lin_reg.fit(x_train, y_train)"
   ]
  },
  {
   "cell_type": "code",
   "execution_count": 106,
   "metadata": {
    "execution": {
     "iopub.execute_input": "2020-10-01T05:18:22.270813Z",
     "iopub.status.busy": "2020-10-01T05:18:22.269802Z",
     "iopub.status.idle": "2020-10-01T05:18:22.380654Z",
     "shell.execute_reply": "2020-10-01T05:18:22.381088Z"
    },
    "papermill": {
     "duration": 0.279437,
     "end_time": "2020-10-01T05:18:22.381225",
     "exception": false,
     "start_time": "2020-10-01T05:18:22.101788",
     "status": "completed"
    },
    "tags": []
   },
   "outputs": [
    {
     "data": {
      "text/plain": [
       "46428.51929774599"
      ]
     },
     "execution_count": 106,
     "metadata": {},
     "output_type": "execute_result"
    }
   ],
   "source": [
    "scores = cross_val_score(lin_reg, x_test,y_test,\n",
    "                         scoring=\"neg_mean_squared_error\", cv=10)\n",
    "tree_rmse_scores = np.sqrt(-scores)\n",
    "tree_rmse_scores.mean()"
   ]
  },
  {
   "cell_type": "code",
   "execution_count": 107,
   "metadata": {
    "execution": {
     "iopub.execute_input": "2020-10-01T05:18:22.715241Z",
     "iopub.status.busy": "2020-10-01T05:18:22.714335Z",
     "iopub.status.idle": "2020-10-01T05:18:22.780064Z",
     "shell.execute_reply": "2020-10-01T05:18:22.779611Z"
    },
    "papermill": {
     "duration": 0.235012,
     "end_time": "2020-10-01T05:18:22.780169",
     "exception": false,
     "start_time": "2020-10-01T05:18:22.545157",
     "status": "completed"
    },
    "tags": []
   },
   "outputs": [
    {
     "data": {
      "text/plain": [
       "DecisionTreeRegressor(random_state=42)"
      ]
     },
     "execution_count": 107,
     "metadata": {},
     "output_type": "execute_result"
    }
   ],
   "source": [
    "from sklearn.tree import DecisionTreeRegressor\n",
    "tree_reg = DecisionTreeRegressor(random_state=42)\n",
    "tree_reg.fit(x_train,y_train)"
   ]
  },
  {
   "cell_type": "code",
   "execution_count": 108,
   "metadata": {
    "execution": {
     "iopub.execute_input": "2020-10-01T05:18:23.105082Z",
     "iopub.status.busy": "2020-10-01T05:18:23.104224Z",
     "iopub.status.idle": "2020-10-01T05:18:23.108738Z",
     "shell.execute_reply": "2020-10-01T05:18:23.109286Z"
    },
    "papermill": {
     "duration": 0.171181,
     "end_time": "2020-10-01T05:18:23.109417",
     "exception": false,
     "start_time": "2020-10-01T05:18:22.938236",
     "status": "completed"
    },
    "tags": []
   },
   "outputs": [
    {
     "data": {
      "text/plain": [
       "37458.72450256287"
      ]
     },
     "execution_count": 108,
     "metadata": {},
     "output_type": "execute_result"
    }
   ],
   "source": [
    "y_pred = tree_reg.predict(x_test)\n",
    "lin_mse = mean_squared_error(y_test,y_pred)\n",
    "lin_rmse = np.sqrt(lin_mse)\n",
    "lin_rmse"
   ]
  },
  {
   "cell_type": "code",
   "execution_count": 109,
   "metadata": {
    "execution": {
     "iopub.execute_input": "2020-10-01T05:18:23.434398Z",
     "iopub.status.busy": "2020-10-01T05:18:23.433849Z",
     "iopub.status.idle": "2020-10-01T05:18:23.605871Z",
     "shell.execute_reply": "2020-10-01T05:18:23.606337Z"
    },
    "papermill": {
     "duration": 0.336485,
     "end_time": "2020-10-01T05:18:23.606466",
     "exception": false,
     "start_time": "2020-10-01T05:18:23.269981",
     "status": "completed"
    },
    "tags": []
   },
   "outputs": [],
   "source": [
    "scores = cross_val_score(tree_reg, x_test,y_test,\n",
    "                         scoring=\"neg_mean_squared_error\", cv=10)\n",
    "tree_rmse_scores = np.sqrt(-scores)"
   ]
  },
  {
   "cell_type": "code",
   "execution_count": 110,
   "metadata": {
    "execution": {
     "iopub.execute_input": "2020-10-01T05:18:23.968574Z",
     "iopub.status.busy": "2020-10-01T05:18:23.967946Z",
     "iopub.status.idle": "2020-10-01T05:18:23.971896Z",
     "shell.execute_reply": "2020-10-01T05:18:23.971393Z"
    },
    "papermill": {
     "duration": 0.174757,
     "end_time": "2020-10-01T05:18:23.972015",
     "exception": false,
     "start_time": "2020-10-01T05:18:23.797258",
     "status": "completed"
    },
    "tags": []
   },
   "outputs": [
    {
     "data": {
      "text/plain": [
       "49778.55743562282"
      ]
     },
     "execution_count": 110,
     "metadata": {},
     "output_type": "execute_result"
    }
   ],
   "source": [
    "tree_rmse_scores.mean()"
   ]
  },
  {
   "cell_type": "code",
   "execution_count": 111,
   "metadata": {
    "execution": {
     "iopub.execute_input": "2020-10-01T05:18:24.318257Z",
     "iopub.status.busy": "2020-10-01T05:18:24.317631Z",
     "iopub.status.idle": "2020-10-01T05:18:27.857393Z",
     "shell.execute_reply": "2020-10-01T05:18:27.856901Z"
    },
    "papermill": {
     "duration": 3.708955,
     "end_time": "2020-10-01T05:18:27.857497",
     "exception": false,
     "start_time": "2020-10-01T05:18:24.148542",
     "status": "completed"
    },
    "tags": []
   },
   "outputs": [
    {
     "data": {
      "text/plain": [
       "RandomForestRegressor(random_state=42)"
      ]
     },
     "execution_count": 111,
     "metadata": {},
     "output_type": "execute_result"
    }
   ],
   "source": [
    "from sklearn.ensemble import RandomForestRegressor\n",
    "forest_reg = RandomForestRegressor(n_estimators=100, random_state=42)\n",
    "forest_reg.fit(x_train,y_train)"
   ]
  },
  {
   "cell_type": "code",
   "execution_count": 112,
   "metadata": {
    "execution": {
     "iopub.execute_input": "2020-10-01T05:18:28.190576Z",
     "iopub.status.busy": "2020-10-01T05:18:28.189627Z",
     "iopub.status.idle": "2020-10-01T05:18:28.209400Z",
     "shell.execute_reply": "2020-10-01T05:18:28.208917Z"
    },
    "papermill": {
     "duration": 0.187046,
     "end_time": "2020-10-01T05:18:28.209498",
     "exception": false,
     "start_time": "2020-10-01T05:18:28.022452",
     "status": "completed"
    },
    "tags": []
   },
   "outputs": [
    {
     "data": {
      "text/plain": [
       "28586.047186609867"
      ]
     },
     "execution_count": 112,
     "metadata": {},
     "output_type": "execute_result"
    }
   ],
   "source": [
    "y_pred = forest_reg.predict(x_test)\n",
    "lin_mse = mean_squared_error(y_test,y_pred)\n",
    "lin_rmse = np.sqrt(lin_mse)\n",
    "lin_rmse"
   ]
  },
  {
   "cell_type": "code",
   "execution_count": 113,
   "metadata": {
    "execution": {
     "iopub.execute_input": "2020-10-01T05:18:28.543321Z",
     "iopub.status.busy": "2020-10-01T05:18:28.542241Z",
     "iopub.status.idle": "2020-10-01T05:18:29.192002Z",
     "shell.execute_reply": "2020-10-01T05:18:29.192375Z"
    },
    "papermill": {
     "duration": 0.816837,
     "end_time": "2020-10-01T05:18:29.192510",
     "exception": false,
     "start_time": "2020-10-01T05:18:28.375673",
     "status": "completed"
    },
    "tags": []
   },
   "outputs": [
    {
     "data": {
      "text/plain": [
       "70531.5333360733"
      ]
     },
     "execution_count": 113,
     "metadata": {},
     "output_type": "execute_result"
    }
   ],
   "source": [
    "from sklearn.svm import SVR\n",
    "svm_reg = SVR(kernel=\"linear\")\n",
    "svm_reg.fit(x_train, y_train)\n",
    "y_pred = svm_reg.predict(x_test)\n",
    "svm_mse = mean_squared_error(y_test,y_pred)\n",
    "svm_rmse = np.sqrt(svm_mse)\n",
    "svm_rmse"
   ]
  },
  {
   "cell_type": "code",
   "execution_count": 114,
   "metadata": {
    "execution": {
     "iopub.execute_input": "2020-10-01T05:18:29.515727Z",
     "iopub.status.busy": "2020-10-01T05:18:29.514889Z",
     "iopub.status.idle": "2020-10-01T05:18:32.646735Z",
     "shell.execute_reply": "2020-10-01T05:18:32.647146Z"
    },
    "papermill": {
     "duration": 3.295653,
     "end_time": "2020-10-01T05:18:32.647287",
     "exception": false,
     "start_time": "2020-10-01T05:18:29.351634",
     "status": "completed"
    },
    "tags": []
   },
   "outputs": [
    {
     "data": {
      "text/plain": [
       "GridSearchCV(cv=5, estimator=RandomForestRegressor(random_state=42),\n",
       "             param_grid=[{'max_features': [2, 4, 6, 8],\n",
       "                          'n_estimators': [3, 10, 30]},\n",
       "                         {'bootstrap': [False], 'max_features': [2, 3, 4],\n",
       "                          'n_estimators': [3, 10]}],\n",
       "             return_train_score=True, scoring='neg_mean_squared_error')"
      ]
     },
     "execution_count": 114,
     "metadata": {},
     "output_type": "execute_result"
    }
   ],
   "source": [
    "from sklearn.model_selection import GridSearchCV\n",
    "\n",
    "param_grid = [\n",
    "    # try 12 (3×4) combinations of hyperparameters\n",
    "    {'n_estimators': [3, 10, 30], 'max_features': [2, 4, 6, 8]},\n",
    "    # then try 6 (2×3) combinations with bootstrap set as False\n",
    "    {'bootstrap': [False], 'n_estimators': [3, 10], 'max_features': [2, 3, 4]},\n",
    "  ]\n",
    "\n",
    "forest_reg = RandomForestRegressor(random_state=42)\n",
    "# train across 5 folds, that's a total of (12+6)*5=90 rounds of training \n",
    "grid_search = GridSearchCV(forest_reg, param_grid, cv=5,\n",
    "                           scoring='neg_mean_squared_error',\n",
    "                           return_train_score=True)\n",
    "grid_search.fit(x_train,y_train)"
   ]
  },
  {
   "cell_type": "code",
   "execution_count": 115,
   "metadata": {
    "execution": {
     "iopub.execute_input": "2020-10-01T05:18:33.018452Z",
     "iopub.status.busy": "2020-10-01T05:18:33.017880Z",
     "iopub.status.idle": "2020-10-01T05:18:33.021052Z",
     "shell.execute_reply": "2020-10-01T05:18:33.020447Z"
    },
    "papermill": {
     "duration": 0.198249,
     "end_time": "2020-10-01T05:18:33.021171",
     "exception": false,
     "start_time": "2020-10-01T05:18:32.822922",
     "status": "completed"
    },
    "tags": []
   },
   "outputs": [],
   "source": [
    "yt=grid_search.best_estimator_"
   ]
  },
  {
   "cell_type": "code",
   "execution_count": 116,
   "metadata": {
    "execution": {
     "iopub.execute_input": "2020-10-01T05:18:33.351056Z",
     "iopub.status.busy": "2020-10-01T05:18:33.350211Z",
     "iopub.status.idle": "2020-10-01T05:18:33.353568Z",
     "shell.execute_reply": "2020-10-01T05:18:33.354064Z"
    },
    "papermill": {
     "duration": 0.170892,
     "end_time": "2020-10-01T05:18:33.354251",
     "exception": false,
     "start_time": "2020-10-01T05:18:33.183359",
     "status": "completed"
    },
    "tags": []
   },
   "outputs": [
    {
     "data": {
      "text/plain": [
       "RandomForestRegressor(max_features=8, n_estimators=30, random_state=42)"
      ]
     },
     "execution_count": 116,
     "metadata": {},
     "output_type": "execute_result"
    }
   ],
   "source": [
    "yt"
   ]
  },
  {
   "cell_type": "code",
   "execution_count": 117,
   "metadata": {
    "execution": {
     "iopub.execute_input": "2020-10-01T05:18:33.682734Z",
     "iopub.status.busy": "2020-10-01T05:18:33.681812Z",
     "iopub.status.idle": "2020-10-01T05:18:33.691041Z",
     "shell.execute_reply": "2020-10-01T05:18:33.691417Z"
    },
    "papermill": {
     "duration": 0.175277,
     "end_time": "2020-10-01T05:18:33.691553",
     "exception": false,
     "start_time": "2020-10-01T05:18:33.516276",
     "status": "completed"
    },
    "tags": []
   },
   "outputs": [
    {
     "data": {
      "text/plain": [
       "30267.112828856465"
      ]
     },
     "execution_count": 117,
     "metadata": {},
     "output_type": "execute_result"
    }
   ],
   "source": [
    "y_pred = yt.predict(x_test)\n",
    "lin_mse = mean_squared_error(y_test,y_pred)\n",
    "lin_rmse = np.sqrt(lin_mse)\n",
    "lin_rmse"
   ]
  },
  {
   "cell_type": "code",
   "execution_count": 118,
   "metadata": {
    "execution": {
     "iopub.execute_input": "2020-10-01T05:18:34.063707Z",
     "iopub.status.busy": "2020-10-01T05:18:34.063157Z",
     "iopub.status.idle": "2020-10-01T05:18:37.932506Z",
     "shell.execute_reply": "2020-10-01T05:18:37.932926Z"
    },
    "papermill": {
     "duration": 4.074617,
     "end_time": "2020-10-01T05:18:37.933068",
     "exception": false,
     "start_time": "2020-10-01T05:18:33.858451",
     "status": "completed"
    },
    "tags": []
   },
   "outputs": [
    {
     "name": "stdout",
     "output_type": "stream",
     "text": [
      "70531.5333360733 1\n",
      "****************************************\n",
      "70531.5333360733 2\n",
      "****************************************\n",
      "70531.5333360733 3\n",
      "****************************************\n",
      "70531.5333360733 4\n",
      "****************************************\n",
      "70531.5333360733 5\n",
      "****************************************\n",
      "70531.5333360733 100\n",
      "****************************************\n"
     ]
    }
   ],
   "source": [
    "k=[1,2,3,4,5,100]\n",
    "for i in k:\n",
    "    svm=SVR(kernel=\"linear\",epsilon=i)\n",
    "    svm.fit(x_train,y_train)\n",
    "    y_pred = svm_reg.predict(x_test)\n",
    "    svm_mse = mean_squared_error(y_test,y_pred)\n",
    "    svm_rmse = np.sqrt(svm_mse)\n",
    "    print(svm_rmse,i)\n",
    "    print(\"*\"*40)"
   ]
  },
  {
   "cell_type": "code",
   "execution_count": 119,
   "metadata": {
    "execution": {
     "iopub.execute_input": "2020-10-01T05:18:38.265791Z",
     "iopub.status.busy": "2020-10-01T05:18:38.265183Z",
     "iopub.status.idle": "2020-10-01T05:19:11.965872Z",
     "shell.execute_reply": "2020-10-01T05:19:11.966283Z"
    },
    "papermill": {
     "duration": 33.870499,
     "end_time": "2020-10-01T05:19:11.966425",
     "exception": false,
     "start_time": "2020-10-01T05:18:38.095926",
     "status": "completed"
    },
    "tags": []
   },
   "outputs": [
    {
     "name": "stdout",
     "output_type": "stream",
     "text": [
      "83802.67941738803 2 1\n",
      "83753.61110447123 2 3\n",
      "83584.4792818213 2 10\n",
      "83462.2299964407 2 15\n",
      "83343.60426316432 2 20\n",
      "81699.26951372721 2 100\n",
      "83802.67941738803 3 1\n",
      "83753.61110447123 3 3\n",
      "83584.4792818213 3 10\n",
      "83462.2299964407 3 15\n",
      "83343.60426316432 3 20\n",
      "81699.26951372721 3 100\n",
      "83802.67941738803 4 1\n",
      "83753.61110447123 4 3\n",
      "83584.4792818213 4 10\n",
      "83462.2299964407 4 15\n",
      "83343.60426316432 4 20\n",
      "81699.26951372721 4 100\n",
      "83802.67941738803 5 1\n",
      "83753.61110447123 5 3\n",
      "83584.4792818213 5 10\n",
      "83462.2299964407 5 15\n",
      "83343.60426316432 5 20\n",
      "81699.26951372721 5 100\n",
      "83802.67941738803 6 1\n",
      "83753.61110447123 6 3\n",
      "83584.4792818213 6 10\n",
      "83462.2299964407 6 15\n",
      "83343.60426316432 6 20\n",
      "81699.26951372721 6 100\n"
     ]
    }
   ],
   "source": [
    "\n",
    "deg=[2,3,4,5,6]\n",
    "c=[1,3,10,15,20,100]\n",
    "\n",
    "for j in deg:\n",
    "    for ci in c:\n",
    "            svm=SVR(kernel=\"rbf\",degree=j,C=ci,gamma=\"scale\")\n",
    "            svm.fit(x_train,y_train)\n",
    "            scores = cross_val_score(svm, x_test,y_test,\n",
    "                         scoring=\"neg_mean_squared_error\", cv=10)\n",
    "            rmse_scores = np.sqrt(-scores)\n",
    "            print(rmse_scores.mean(),j,ci)"
   ]
  },
  {
   "cell_type": "code",
   "execution_count": 120,
   "metadata": {
    "execution": {
     "iopub.execute_input": "2020-10-01T05:19:12.371340Z",
     "iopub.status.busy": "2020-10-01T05:19:12.370582Z",
     "iopub.status.idle": "2020-10-01T05:20:53.510326Z",
     "shell.execute_reply": "2020-10-01T05:20:53.510801Z"
    },
    "papermill": {
     "duration": 101.329763,
     "end_time": "2020-10-01T05:20:53.510957",
     "exception": false,
     "start_time": "2020-10-01T05:19:12.181194",
     "status": "completed"
    },
    "tags": []
   },
   "outputs": [
    {
     "name": "stdout",
     "output_type": "stream",
     "text": [
      "83802.68444562046 2 1 1.5\n",
      "83802.68856292093 2 1 2\n",
      "83802.69679858569 2 1 3\n",
      "83753.61110447123 2 3 1.5\n",
      "83753.6111024993 2 3 2\n",
      "83753.63237125725 2 3 3\n",
      "83584.4792818213 2 10 1.5\n",
      "83584.4792818213 2 10 2\n",
      "83584.4792818213 2 10 3\n",
      "83462.2299964407 2 15 1.5\n",
      "83462.2299964407 2 15 2\n",
      "83462.2299964407 2 15 3\n",
      "83343.62447218664 2 20 1.5\n",
      "83343.63169180043 2 20 2\n",
      "83343.64613435292 2 20 3\n",
      "81699.26951372721 2 100 1.5\n",
      "81699.26951372721 2 100 2\n",
      "81699.26951372721 2 100 3\n",
      "83802.68444562046 3 1 1.5\n",
      "83802.68856292093 3 1 2\n",
      "83802.69679858569 3 1 3\n",
      "83753.61110447123 3 3 1.5\n",
      "83753.6111024993 3 3 2\n",
      "83753.63237125725 3 3 3\n",
      "83584.4792818213 3 10 1.5\n",
      "83584.4792818213 3 10 2\n",
      "83584.4792818213 3 10 3\n",
      "83462.2299964407 3 15 1.5\n",
      "83462.2299964407 3 15 2\n",
      "83462.2299964407 3 15 3\n",
      "83343.62447218664 3 20 1.5\n",
      "83343.63169180043 3 20 2\n",
      "83343.64613435292 3 20 3\n",
      "81699.26951372721 3 100 1.5\n",
      "81699.26951372721 3 100 2\n",
      "81699.26951372721 3 100 3\n",
      "83802.68444562046 4 1 1.5\n",
      "83802.68856292093 4 1 2\n",
      "83802.69679858569 4 1 3\n",
      "83753.61110447123 4 3 1.5\n",
      "83753.6111024993 4 3 2\n",
      "83753.63237125725 4 3 3\n",
      "83584.4792818213 4 10 1.5\n",
      "83584.4792818213 4 10 2\n",
      "83584.4792818213 4 10 3\n",
      "83462.2299964407 4 15 1.5\n",
      "83462.2299964407 4 15 2\n",
      "83462.2299964407 4 15 3\n",
      "83343.62447218664 4 20 1.5\n",
      "83343.63169180043 4 20 2\n",
      "83343.64613435292 4 20 3\n",
      "81699.26951372721 4 100 1.5\n",
      "81699.26951372721 4 100 2\n",
      "81699.26951372721 4 100 3\n",
      "83802.68444562046 5 1 1.5\n",
      "83802.68856292093 5 1 2\n",
      "83802.69679858569 5 1 3\n",
      "83753.61110447123 5 3 1.5\n",
      "83753.6111024993 5 3 2\n",
      "83753.63237125725 5 3 3\n",
      "83584.4792818213 5 10 1.5\n",
      "83584.4792818213 5 10 2\n",
      "83584.4792818213 5 10 3\n",
      "83462.2299964407 5 15 1.5\n",
      "83462.2299964407 5 15 2\n",
      "83462.2299964407 5 15 3\n",
      "83343.62447218664 5 20 1.5\n",
      "83343.63169180043 5 20 2\n",
      "83343.64613435292 5 20 3\n",
      "81699.26951372721 5 100 1.5\n",
      "81699.26951372721 5 100 2\n",
      "81699.26951372721 5 100 3\n",
      "83802.68444562046 6 1 1.5\n",
      "83802.68856292093 6 1 2\n",
      "83802.69679858569 6 1 3\n",
      "83753.61110447123 6 3 1.5\n",
      "83753.6111024993 6 3 2\n",
      "83753.63237125725 6 3 3\n",
      "83584.4792818213 6 10 1.5\n",
      "83584.4792818213 6 10 2\n",
      "83584.4792818213 6 10 3\n",
      "83462.2299964407 6 15 1.5\n",
      "83462.2299964407 6 15 2\n",
      "83462.2299964407 6 15 3\n",
      "83343.62447218664 6 20 1.5\n",
      "83343.63169180043 6 20 2\n",
      "83343.64613435292 6 20 3\n",
      "81699.26951372721 6 100 1.5\n",
      "81699.26951372721 6 100 2\n",
      "81699.26951372721 6 100 3\n"
     ]
    }
   ],
   "source": [
    "deg=[2,3,4,5,6]\n",
    "c=[1,3,10,15,20,100]\n",
    "epsilon=[1.5,2,3]\n",
    "for j in deg:\n",
    "    for ci in c:\n",
    "        for e in epsilon:\n",
    "                svm=SVR(kernel=\"rbf\",degree=j,C=ci,epsilon=e,gamma=\"scale\")\n",
    "                svm.fit(x_train,y_train)\n",
    "                scores = cross_val_score(svm, x_test,y_test,\n",
    "                             scoring=\"neg_mean_squared_error\", cv=10)\n",
    "                rmse_scores = np.sqrt(-scores)\n",
    "                print(rmse_scores.mean(),j,ci,e)"
   ]
  },
  {
   "cell_type": "code",
   "execution_count": 121,
   "metadata": {
    "execution": {
     "iopub.execute_input": "2020-10-01T05:20:53.902624Z",
     "iopub.status.busy": "2020-10-01T05:20:53.902048Z",
     "iopub.status.idle": "2020-10-01T05:21:27.693915Z",
     "shell.execute_reply": "2020-10-01T05:21:27.694313Z"
    },
    "papermill": {
     "duration": 33.988546,
     "end_time": "2020-10-01T05:21:27.694454",
     "exception": false,
     "start_time": "2020-10-01T05:20:53.705908",
     "status": "completed"
    },
    "tags": []
   },
   "outputs": [
    {
     "name": "stdout",
     "output_type": "stream",
     "text": [
      "83802.67941738803 2 1\n",
      "83753.61110447123 2 3\n",
      "83584.4792818213 2 10\n",
      "83462.2299964407 2 15\n",
      "83343.60426316432 2 20\n",
      "81699.26951372721 2 100\n",
      "83802.67941738803 3 1\n",
      "83753.61110447123 3 3\n",
      "83584.4792818213 3 10\n",
      "83462.2299964407 3 15\n",
      "83343.60426316432 3 20\n",
      "81699.26951372721 3 100\n",
      "83802.67941738803 4 1\n",
      "83753.61110447123 4 3\n",
      "83584.4792818213 4 10\n",
      "83462.2299964407 4 15\n",
      "83343.60426316432 4 20\n",
      "81699.26951372721 4 100\n",
      "83802.67941738803 5 1\n",
      "83753.61110447123 5 3\n",
      "83584.4792818213 5 10\n",
      "83462.2299964407 5 15\n",
      "83343.60426316432 5 20\n",
      "81699.26951372721 5 100\n",
      "83802.67941738803 6 1\n",
      "83753.61110447123 6 3\n",
      "83584.4792818213 6 10\n",
      "83462.2299964407 6 15\n",
      "83343.60426316432 6 20\n",
      "81699.26951372721 6 100\n"
     ]
    }
   ],
   "source": [
    "deg=[2,3,4,5,6]\n",
    "c=[1,3,10,15,20,100]\n",
    "for j in deg:\n",
    "    for ci in c:\n",
    "                svm=SVR(kernel=\"rbf\",degree=j,C=ci,epsilon=0.1,gamma=\"scale\")\n",
    "                svm.fit(x_train,y_train)\n",
    "                scores = cross_val_score(svm, x_test,y_test,\n",
    "                             scoring=\"neg_mean_squared_error\", cv=10)\n",
    "                rmse_scores = np.sqrt(-scores)\n",
    "                print(rmse_scores.mean(),j,ci)"
   ]
  },
  {
   "cell_type": "code",
   "execution_count": 122,
   "metadata": {
    "execution": {
     "iopub.execute_input": "2020-10-01T05:21:28.120360Z",
     "iopub.status.busy": "2020-10-01T05:21:28.119468Z",
     "iopub.status.idle": "2020-10-01T05:23:08.684430Z",
     "shell.execute_reply": "2020-10-01T05:23:08.683946Z"
    },
    "papermill": {
     "duration": 100.789859,
     "end_time": "2020-10-01T05:23:08.684589",
     "exception": false,
     "start_time": "2020-10-01T05:21:27.894730",
     "status": "completed"
    },
    "tags": []
   },
   "outputs": [
    {
     "name": "stdout",
     "output_type": "stream",
     "text": [
      "83801.00068041091 2 1 0.01\n",
      "83816.00139303147 2 1 0.03\n",
      "83826.53683241292 2 1 0.1\n",
      "83748.57462115299 2 3 0.01\n",
      "83793.56374483393 2 3 0.03\n",
      "83825.1553712037 2 3 0.1\n",
      "83567.82432341078 2 10 0.01\n",
      "83715.89342294652 2 10 0.03\n",
      "83820.32130488683 2 10 0.1\n",
      "83437.23466508623 2 15 0.01\n",
      "83660.7359175969 2 15 0.03\n",
      "83816.86965484719 2 15 0.1\n",
      "83310.43401669401 2 20 0.01\n",
      "83605.3479252276 2 20 0.03\n",
      "83813.41934695932 2 20 0.1\n",
      "81532.32938910674 2 100 0.01\n",
      "82874.53700855792 2 100 0.03\n",
      "83759.01005916372 2 100 0.1\n",
      "83801.00068041091 3 1 0.01\n",
      "83816.00139303147 3 1 0.03\n",
      "83826.53683241292 3 1 0.1\n",
      "83748.57462115299 3 3 0.01\n",
      "83793.56374483393 3 3 0.03\n",
      "83825.1553712037 3 3 0.1\n",
      "83567.82432341078 3 10 0.01\n",
      "83715.89342294652 3 10 0.03\n",
      "83820.32130488683 3 10 0.1\n",
      "83437.23466508623 3 15 0.01\n",
      "83660.7359175969 3 15 0.03\n",
      "83816.86965484719 3 15 0.1\n",
      "83310.43401669401 3 20 0.01\n",
      "83605.3479252276 3 20 0.03\n",
      "83813.41934695932 3 20 0.1\n",
      "81532.32938910674 3 100 0.01\n",
      "82874.53700855792 3 100 0.03\n",
      "83759.01005916372 3 100 0.1\n",
      "83801.00068041091 4 1 0.01\n",
      "83816.00139303147 4 1 0.03\n",
      "83826.53683241292 4 1 0.1\n",
      "83748.57462115299 4 3 0.01\n",
      "83793.56374483393 4 3 0.03\n",
      "83825.1553712037 4 3 0.1\n",
      "83567.82432341078 4 10 0.01\n",
      "83715.89342294652 4 10 0.03\n",
      "83820.32130488683 4 10 0.1\n",
      "83437.23466508623 4 15 0.01\n",
      "83660.7359175969 4 15 0.03\n",
      "83816.86965484719 4 15 0.1\n",
      "83310.43401669401 4 20 0.01\n",
      "83605.3479252276 4 20 0.03\n",
      "83813.41934695932 4 20 0.1\n",
      "81532.32938910674 4 100 0.01\n",
      "82874.53700855792 4 100 0.03\n",
      "83759.01005916372 4 100 0.1\n",
      "83801.00068041091 5 1 0.01\n",
      "83816.00139303147 5 1 0.03\n",
      "83826.53683241292 5 1 0.1\n",
      "83748.57462115299 5 3 0.01\n",
      "83793.56374483393 5 3 0.03\n",
      "83825.1553712037 5 3 0.1\n",
      "83567.82432341078 5 10 0.01\n",
      "83715.89342294652 5 10 0.03\n",
      "83820.32130488683 5 10 0.1\n",
      "83437.23466508623 5 15 0.01\n",
      "83660.7359175969 5 15 0.03\n",
      "83816.86965484719 5 15 0.1\n",
      "83310.43401669401 5 20 0.01\n",
      "83605.3479252276 5 20 0.03\n",
      "83813.41934695932 5 20 0.1\n",
      "81532.32938910674 5 100 0.01\n",
      "82874.53700855792 5 100 0.03\n",
      "83759.01005916372 5 100 0.1\n",
      "83801.00068041091 6 1 0.01\n",
      "83816.00139303147 6 1 0.03\n",
      "83826.53683241292 6 1 0.1\n",
      "83748.57462115299 6 3 0.01\n",
      "83793.56374483393 6 3 0.03\n",
      "83825.1553712037 6 3 0.1\n",
      "83567.82432341078 6 10 0.01\n",
      "83715.89342294652 6 10 0.03\n",
      "83820.32130488683 6 10 0.1\n",
      "83437.23466508623 6 15 0.01\n",
      "83660.7359175969 6 15 0.03\n",
      "83816.86965484719 6 15 0.1\n",
      "83310.43401669401 6 20 0.01\n",
      "83605.3479252276 6 20 0.03\n",
      "83813.41934695932 6 20 0.1\n",
      "81532.32938910674 6 100 0.01\n",
      "82874.53700855792 6 100 0.03\n",
      "83759.01005916372 6 100 0.1\n"
     ]
    }
   ],
   "source": [
    "deg=[2,3,4,5,6]\n",
    "c=[1,3,10,15,20,100]\n",
    "gamma=[0.01, 0.03, 0.1]\n",
    "for j in deg:\n",
    "    for ci in c:\n",
    "        for k in gamma:\n",
    "                svm=SVR(kernel=\"rbf\",degree=j,C=ci,gamma=k)\n",
    "                svm.fit(x_train,y_train)\n",
    "                scores = cross_val_score(svm, x_test,y_test,\n",
    "                             scoring=\"neg_mean_squared_error\", cv=10)\n",
    "                rmse_scores = np.sqrt(-scores)\n",
    "                print(rmse_scores.mean(),j,ci,k)"
   ]
  },
  {
   "cell_type": "code",
   "execution_count": 123,
   "metadata": {
    "execution": {
     "iopub.execute_input": "2020-10-01T05:23:09.146884Z",
     "iopub.status.busy": "2020-10-01T05:23:09.146275Z",
     "iopub.status.idle": "2020-10-01T05:24:40.956748Z",
     "shell.execute_reply": "2020-10-01T05:24:40.957194Z"
    },
    "papermill": {
     "duration": 92.050312,
     "end_time": "2020-10-01T05:24:40.957349",
     "exception": false,
     "start_time": "2020-10-01T05:23:08.907037",
     "status": "completed"
    },
    "tags": []
   },
   "outputs": [
    {
     "name": "stdout",
     "output_type": "stream",
     "text": [
      "78620.04693538604 2 1 0.01\n",
      "78620.04693538604 2 1 0.03\n",
      "78620.04693538604 2 1 0.1\n",
      "68796.43304462498 2 3 0.01\n",
      "68796.43304462498 2 3 0.03\n",
      "68796.43304462498 2 3 0.1\n",
      "50980.842533275805 2 10 0.01\n",
      "50980.842533275805 2 10 0.03\n",
      "50980.842533275805 2 10 0.1\n",
      "46510.3511910702 2 15 0.01\n",
      "46510.3511910702 2 15 0.03\n",
      "46510.3511910702 2 15 0.1\n",
      "43787.82023625421 2 20 0.01\n",
      "43787.82023625421 2 20 0.03\n",
      "43787.82023625421 2 20 0.1\n",
      "35676.33292708567 2 100 0.01\n",
      "35676.33292708567 2 100 0.03\n",
      "35676.33292708567 2 100 0.1\n",
      "78620.04693538604 3 1 0.01\n",
      "78620.04693538604 3 1 0.03\n",
      "78620.04693538604 3 1 0.1\n",
      "68796.43304462498 3 3 0.01\n",
      "68796.43304462498 3 3 0.03\n",
      "68796.43304462498 3 3 0.1\n",
      "50980.842533275805 3 10 0.01\n",
      "50980.842533275805 3 10 0.03\n",
      "50980.842533275805 3 10 0.1\n",
      "46510.3511910702 3 15 0.01\n",
      "46510.3511910702 3 15 0.03\n",
      "46510.3511910702 3 15 0.1\n",
      "43787.82023625421 3 20 0.01\n",
      "43787.82023625421 3 20 0.03\n",
      "43787.82023625421 3 20 0.1\n",
      "35676.33292708567 3 100 0.01\n",
      "35676.33292708567 3 100 0.03\n",
      "35676.33292708567 3 100 0.1\n",
      "78620.04693538604 4 1 0.01\n",
      "78620.04693538604 4 1 0.03\n",
      "78620.04693538604 4 1 0.1\n",
      "68796.43304462498 4 3 0.01\n",
      "68796.43304462498 4 3 0.03\n",
      "68796.43304462498 4 3 0.1\n",
      "50980.842533275805 4 10 0.01\n",
      "50980.842533275805 4 10 0.03\n",
      "50980.842533275805 4 10 0.1\n",
      "46510.3511910702 4 15 0.01\n",
      "46510.3511910702 4 15 0.03\n",
      "46510.3511910702 4 15 0.1\n",
      "43787.82023625421 4 20 0.01\n",
      "43787.82023625421 4 20 0.03\n",
      "43787.82023625421 4 20 0.1\n",
      "35676.33292708567 4 100 0.01\n",
      "35676.33292708567 4 100 0.03\n",
      "35676.33292708567 4 100 0.1\n",
      "78620.04693538604 5 1 0.01\n",
      "78620.04693538604 5 1 0.03\n",
      "78620.04693538604 5 1 0.1\n",
      "68796.43304462498 5 3 0.01\n",
      "68796.43304462498 5 3 0.03\n",
      "68796.43304462498 5 3 0.1\n",
      "50980.842533275805 5 10 0.01\n",
      "50980.842533275805 5 10 0.03\n",
      "50980.842533275805 5 10 0.1\n",
      "46510.3511910702 5 15 0.01\n",
      "46510.3511910702 5 15 0.03\n",
      "46510.3511910702 5 15 0.1\n",
      "43787.82023625421 5 20 0.01\n",
      "43787.82023625421 5 20 0.03\n",
      "43787.82023625421 5 20 0.1\n",
      "35676.33292708567 5 100 0.01\n",
      "35676.33292708567 5 100 0.03\n",
      "35676.33292708567 5 100 0.1\n",
      "78620.04693538604 6 1 0.01\n",
      "78620.04693538604 6 1 0.03\n",
      "78620.04693538604 6 1 0.1\n",
      "68796.43304462498 6 3 0.01\n",
      "68796.43304462498 6 3 0.03\n",
      "68796.43304462498 6 3 0.1\n",
      "50980.842533275805 6 10 0.01\n",
      "50980.842533275805 6 10 0.03\n",
      "50980.842533275805 6 10 0.1\n",
      "46510.3511910702 6 15 0.01\n",
      "46510.3511910702 6 15 0.03\n",
      "46510.3511910702 6 15 0.1\n",
      "43787.82023625421 6 20 0.01\n",
      "43787.82023625421 6 20 0.03\n",
      "43787.82023625421 6 20 0.1\n",
      "35676.33292708567 6 100 0.01\n",
      "35676.33292708567 6 100 0.03\n",
      "35676.33292708567 6 100 0.1\n"
     ]
    }
   ],
   "source": [
    "deg=[2,3,4,5,6]\n",
    "c=[1,3,10,15,20,100]\n",
    "gamma=[0.01, 0.03, 0.1]\n",
    "for j in deg:\n",
    "    for ci in c:\n",
    "        for k in gamma:\n",
    "                svm=SVR(kernel=\"linear\",degree=j,C=ci,gamma=k)\n",
    "                svm.fit(x_train,y_train)\n",
    "                scores = cross_val_score(svm, x_test,y_test,\n",
    "                             scoring=\"neg_mean_squared_error\", cv=10)\n",
    "                rmse_scores = np.sqrt(-scores)\n",
    "                print(rmse_scores.mean(),j,ci,k)"
   ]
  },
  {
   "cell_type": "markdown",
   "metadata": {
    "papermill": {
     "duration": 0.240383,
     "end_time": "2020-10-01T05:24:41.434986",
     "exception": false,
     "start_time": "2020-10-01T05:24:41.194603",
     "status": "completed"
    },
    "tags": []
   },
   "source": [
    "SVM Linear CLASSIFIER IS PERFORMING A LOT BETTER THAN RBF"
   ]
  },
  {
   "cell_type": "code",
   "execution_count": 124,
   "metadata": {
    "execution": {
     "iopub.execute_input": "2020-10-01T05:24:41.924286Z",
     "iopub.status.busy": "2020-10-01T05:24:41.923735Z",
     "iopub.status.idle": "2020-10-01T05:24:42.995665Z",
     "shell.execute_reply": "2020-10-01T05:24:42.995186Z"
    },
    "papermill": {
     "duration": 1.320527,
     "end_time": "2020-10-01T05:24:42.995798",
     "exception": false,
     "start_time": "2020-10-01T05:24:41.675271",
     "status": "completed"
    },
    "tags": []
   },
   "outputs": [
    {
     "name": "stdout",
     "output_type": "stream",
     "text": [
      "35676.33292708567 6 100 0.1\n"
     ]
    }
   ],
   "source": [
    "svm=SVR(kernel=\"linear\",C=100)\n",
    "svm.fit(x_train,y_train)\n",
    "scores = cross_val_score(svm, x_test,y_test,\n",
    "                             scoring=\"neg_mean_squared_error\", cv=10)\n",
    "rmse_scores = np.sqrt(-scores)\n",
    "print(rmse_scores.mean(),j,ci,k)"
   ]
  },
  {
   "cell_type": "markdown",
   "metadata": {
    "papermill": {
     "duration": 0.236914,
     "end_time": "2020-10-01T05:24:43.470254",
     "exception": false,
     "start_time": "2020-10-01T05:24:43.233340",
     "status": "completed"
    },
    "tags": []
   },
   "source": [
    "lets try some more values of c"
   ]
  },
  {
   "cell_type": "code",
   "execution_count": 125,
   "metadata": {
    "execution": {
     "iopub.execute_input": "2020-10-01T05:24:43.949203Z",
     "iopub.status.busy": "2020-10-01T05:24:43.948472Z",
     "iopub.status.idle": "2020-10-01T05:25:31.592673Z",
     "shell.execute_reply": "2020-10-01T05:25:31.593213Z"
    },
    "papermill": {
     "duration": 47.886159,
     "end_time": "2020-10-01T05:25:31.593361",
     "exception": false,
     "start_time": "2020-10-01T05:24:43.707202",
     "status": "completed"
    },
    "tags": []
   },
   "outputs": [
    {
     "name": "stdout",
     "output_type": "stream",
     "text": [
      "35676.33292708567 100\n",
      "33156.55484660443 200\n",
      "31402.991970215342 300\n",
      "30395.961905167547 400\n",
      "29891.612070499443 500\n",
      "29504.122519029945 600\n",
      "29256.392153892288 700\n",
      "29020.835558025145 800\n",
      "28800.49842755637 900\n",
      "28581.59075925399 1000\n",
      "27496.03777179913 2000\n",
      "27304.133197084484 3000\n",
      "27122.2336433862 4000\n",
      "26964.37244710946 5000\n",
      "26947.25572132141 5500\n",
      "26949.97743924155 5550\n"
     ]
    }
   ],
   "source": [
    "c=[100,200,300,400,500,600,700,800,900,1000,2000,3000,4000,5000,5500,5550]\n",
    "for i in c:\n",
    "    svm=SVR(kernel=\"linear\",C=i)\n",
    "    svm.fit(x_train,y_train)\n",
    "    scores = cross_val_score(svm, x_test,y_test,\n",
    "                                 scoring=\"neg_mean_squared_error\", cv=10)\n",
    "    rmse_scores = np.sqrt(-scores)\n",
    "    print(rmse_scores.mean(),i)"
   ]
  },
  {
   "cell_type": "markdown",
   "metadata": {
    "papermill": {
     "duration": 0.255333,
     "end_time": "2020-10-01T05:25:32.092036",
     "exception": false,
     "start_time": "2020-10-01T05:25:31.836703",
     "status": "completed"
    },
    "tags": []
   },
   "source": [
    "with increasing c accuracy getting better(C=5500 is best value further increase in c will result in decrease in accuracy)"
   ]
  },
  {
   "cell_type": "code",
   "execution_count": 126,
   "metadata": {
    "execution": {
     "iopub.execute_input": "2020-10-01T05:25:32.577004Z",
     "iopub.status.busy": "2020-10-01T05:25:32.576140Z",
     "iopub.status.idle": "2020-10-01T05:25:32.635896Z",
     "shell.execute_reply": "2020-10-01T05:25:32.635440Z"
    },
    "papermill": {
     "duration": 0.303969,
     "end_time": "2020-10-01T05:25:32.635999",
     "exception": false,
     "start_time": "2020-10-01T05:25:32.332030",
     "status": "completed"
    },
    "tags": []
   },
   "outputs": [
    {
     "name": "stdout",
     "output_type": "stream",
     "text": [
      "57914.877959185615\n"
     ]
    }
   ],
   "source": [
    "tree_reg = DecisionTreeRegressor(max_depth=2,random_state=42)\n",
    "tree_reg.fit(x_train,y_train)\n",
    "scores = cross_val_score(tree_reg, x_test,y_test,\n",
    "                                 scoring=\"neg_mean_squared_error\", cv=10)\n",
    "rmse_scores = np.sqrt(-scores)\n",
    "print(rmse_scores.mean())"
   ]
  },
  {
   "cell_type": "code",
   "execution_count": 127,
   "metadata": {
    "execution": {
     "iopub.execute_input": "2020-10-01T05:25:33.123165Z",
     "iopub.status.busy": "2020-10-01T05:25:33.122585Z",
     "iopub.status.idle": "2020-10-01T05:25:35.181318Z",
     "shell.execute_reply": "2020-10-01T05:25:35.180607Z"
    },
    "papermill": {
     "duration": 2.30374,
     "end_time": "2020-10-01T05:25:35.181463",
     "exception": false,
     "start_time": "2020-10-01T05:25:32.877723",
     "status": "completed"
    },
    "tags": []
   },
   "outputs": [
    {
     "name": "stdout",
     "output_type": "stream",
     "text": [
      "63869.53166181375 1\n",
      "57914.877959185615 2\n",
      "53671.02873257363 3\n",
      "50600.758364072746 4\n",
      "52507.173062752365 5\n",
      "48050.85331525168 6\n",
      "50943.96457250185 7\n",
      "50540.42112686696 8\n",
      "48843.27674263755 9\n",
      "49778.55743562282 100\n",
      "49778.55743562282 150\n",
      "49778.55743562282 200\n",
      "49778.55743562282 250\n",
      "49778.55743562282 300\n"
     ]
    }
   ],
   "source": [
    "m=[1,2,3,4,5,6,7,8,9,100,150,200,250,300]\n",
    "\n",
    "for i in m:\n",
    "    tree_reg = DecisionTreeRegressor(max_depth=i,random_state=42)\n",
    "    tree_reg.fit(x_train,y_train)\n",
    "    scores = cross_val_score(tree_reg, x_test,y_test,\n",
    "                                 scoring=\"neg_mean_squared_error\", cv=10)\n",
    "    rmse_scores = np.sqrt(-scores)\n",
    "    print(rmse_scores.mean(),i)"
   ]
  },
  {
   "cell_type": "code",
   "execution_count": 128,
   "metadata": {
    "execution": {
     "iopub.execute_input": "2020-10-01T05:25:35.719649Z",
     "iopub.status.busy": "2020-10-01T05:25:35.718442Z",
     "iopub.status.idle": "2020-10-01T05:25:41.641978Z",
     "shell.execute_reply": "2020-10-01T05:25:41.642415Z"
    },
    "papermill": {
     "duration": 6.217415,
     "end_time": "2020-10-01T05:25:41.642545",
     "exception": false,
     "start_time": "2020-10-01T05:25:35.425130",
     "status": "completed"
    },
    "tags": []
   },
   "outputs": [
    {
     "name": "stdout",
     "output_type": "stream",
     "text": [
      "63869.53166181375 1 2\n",
      "63869.53166181375 1 3\n",
      "63869.53166181375 1 4\n",
      "57914.877959185615 2 2\n",
      "57914.877959185615 2 3\n",
      "57914.877959185615 2 4\n",
      "53671.02873257363 3 2\n",
      "54562.82216214986 3 3\n",
      "54562.82216214986 3 4\n",
      "50600.758364072746 4 2\n",
      "51477.628244469684 4 3\n",
      "51477.628244469684 4 4\n",
      "52507.173062752365 5 2\n",
      "49447.119219993045 5 3\n",
      "48442.942532780035 5 4\n",
      "48050.85331525168 6 2\n",
      "48347.75031947505 6 3\n",
      "48626.61501609203 6 4\n",
      "50943.96457250185 7 2\n",
      "51920.04263428082 7 3\n",
      "53527.83120546542 7 4\n",
      "50540.42112686696 8 2\n",
      "50994.250381374615 8 3\n",
      "47634.46986747986 8 4\n",
      "48843.27674263755 9 2\n",
      "54296.63518294457 9 3\n",
      "54827.10151190524 9 4\n",
      "49778.55743562282 100 2\n",
      "50408.47738882517 100 3\n",
      "51942.514251183005 100 4\n",
      "49778.55743562282 150 2\n",
      "50408.47738882517 150 3\n",
      "51942.514251183005 150 4\n",
      "49778.55743562282 200 2\n",
      "50408.47738882517 200 3\n",
      "51942.514251183005 200 4\n",
      "49778.55743562282 250 2\n",
      "50408.47738882517 250 3\n",
      "51942.514251183005 250 4\n",
      "49778.55743562282 300 2\n",
      "50408.47738882517 300 3\n",
      "51942.514251183005 300 4\n"
     ]
    }
   ],
   "source": [
    "m=[1,2,3,4,5,6,7,8,9,100,150,200,250,300]\n",
    "mi=[2,3,4]\n",
    "for i in m:\n",
    "    for j in mi:\n",
    "        tree_reg = DecisionTreeRegressor(max_depth=i,min_samples_split=j,random_state=42)\n",
    "        tree_reg.fit(x_train,y_train)\n",
    "        scores = cross_val_score(tree_reg, x_test,y_test,\n",
    "                                     scoring=\"neg_mean_squared_error\", cv=10)\n",
    "        rmse_scores = np.sqrt(-scores)\n",
    "        print(rmse_scores.mean(),i,j)"
   ]
  },
  {
   "cell_type": "code",
   "execution_count": 129,
   "metadata": {
    "execution": {
     "iopub.execute_input": "2020-10-01T05:25:42.145647Z",
     "iopub.status.busy": "2020-10-01T05:25:42.144737Z",
     "iopub.status.idle": "2020-10-01T05:26:25.977471Z",
     "shell.execute_reply": "2020-10-01T05:26:25.976977Z"
    },
    "papermill": {
     "duration": 44.088218,
     "end_time": "2020-10-01T05:26:25.977574",
     "exception": false,
     "start_time": "2020-10-01T05:25:41.889356",
     "status": "completed"
    },
    "tags": []
   },
   "outputs": [
    {
     "name": "stdout",
     "output_type": "stream",
     "text": [
      "63869.53166181375 2 2\n",
      "63054.84016557733 2 3\n",
      "57358.458832998374 2 4\n",
      "58238.19876472147 2 5\n",
      "56462.5671670966 2 6\n",
      "55307.37318519298 2 7\n",
      "53940.35195872135 2 8\n",
      "53725.90804116566 2 9\n",
      "53296.73770262052 2 10\n",
      "52896.238791591066 2 11\n",
      "50872.028024627805 2 12\n",
      "50667.11066582067 2 13\n",
      "50939.18134031597 2 14\n",
      "50333.084806956474 2 15\n",
      "49793.17687401131 2 16\n",
      "50027.64032170372 2 17\n",
      "49820.212755686625 2 18\n",
      "50295.59198021728 2 19\n",
      "50092.03181309429 2 20\n",
      "50498.1034098243 2 21\n",
      "50165.02311794883 2 22\n",
      "50247.046069986376 2 23\n",
      "50104.619689868145 2 24\n",
      "50007.273971102375 2 25\n",
      "49980.744721854695 2 26\n",
      "50000.82336513761 2 27\n",
      "50101.108062102976 2 28\n",
      "50204.93952253182 2 29\n",
      "50176.03334813302 2 30\n",
      "50388.108748567574 2 31\n",
      "50277.798526928644 2 32\n",
      "50418.42818346266 2 33\n",
      "50220.14877798735 2 34\n",
      "50242.967886405364 2 35\n",
      "50134.040443865335 2 36\n",
      "50097.46672463102 2 37\n",
      "50180.088743674976 2 38\n",
      "49888.96772349535 2 39\n",
      "49836.2233539028 2 40\n",
      "49731.630558786375 2 41\n",
      "49665.036049753886 2 42\n",
      "50062.63984262367 2 43\n",
      "50030.67585729227 2 44\n",
      "50223.0974135418 2 45\n",
      "50447.329387583006 2 46\n",
      "50565.31240386553 2 47\n",
      "50572.242317177865 2 48\n",
      "50571.61873620919 2 49\n",
      "50558.23339921017 2 50\n",
      "50489.954136819564 2 51\n",
      "50566.58982914295 2 52\n",
      "50537.89917557748 2 53\n",
      "50559.47850820293 2 54\n",
      "50194.886243747904 2 55\n",
      "50336.76252575809 2 56\n",
      "50332.71253061696 2 57\n",
      "50350.766642312985 2 58\n",
      "50187.67858717977 2 59\n",
      "49987.49750342913 2 60\n",
      "50188.010546746445 2 61\n",
      "50295.863172020814 2 62\n",
      "50280.07585742699 2 63\n",
      "50325.19406372795 2 64\n",
      "50319.53871314363 2 65\n",
      "50444.419920241664 2 66\n",
      "50680.795656772985 2 67\n",
      "50749.29029969448 2 68\n",
      "50820.044366977076 2 69\n",
      "50802.68421141403 2 70\n",
      "50760.44972466511 2 71\n",
      "50769.78582671809 2 72\n",
      "50910.03183845125 2 73\n",
      "50968.81766341862 2 74\n",
      "50984.04687305204 2 75\n",
      "50976.42896243748 2 76\n",
      "51039.68792624711 2 77\n",
      "51007.89626383828 2 78\n",
      "51343.63796959807 2 79\n",
      "51354.014140163345 2 80\n",
      "51337.85551642501 2 81\n",
      "51374.7190198329 2 82\n",
      "51391.504011230376 2 83\n",
      "51435.080463201244 2 84\n",
      "51465.60587787804 2 85\n",
      "51408.16507512112 2 86\n",
      "51384.47880217963 2 87\n",
      "51349.19041450218 2 88\n",
      "51354.1851898256 2 89\n",
      "51381.45379788098 2 90\n",
      "51407.05035200635 2 91\n",
      "51392.89660952416 2 92\n",
      "51398.432853548446 2 93\n",
      "51426.1185911112 2 94\n",
      "51431.75220659699 2 95\n",
      "51445.505522377156 2 96\n",
      "51492.04479339221 2 97\n",
      "51381.178057604884 2 98\n",
      "51388.50977414485 2 99\n",
      "63869.53166181375 3 2\n",
      "63054.84016557733 3 3\n",
      "57358.458832998374 3 4\n",
      "58238.19876472147 3 5\n",
      "56462.5671670966 3 6\n",
      "55307.37318519298 3 7\n",
      "53940.35195872135 3 8\n",
      "53725.90804116566 3 9\n",
      "53286.76302675202 3 10\n",
      "52885.9770613004 3 11\n",
      "50860.29531234998 3 12\n",
      "50655.42676710132 3 13\n",
      "50149.05311224124 3 14\n",
      "49450.67222110329 3 15\n",
      "48735.2040601634 3 16\n",
      "48718.26059387785 3 17\n",
      "48447.95096220636 3 18\n",
      "47926.894176818736 3 19\n",
      "47690.75140804489 3 20\n",
      "48054.733917513084 3 21\n",
      "48047.727280769104 3 22\n",
      "47897.99013163081 3 23\n",
      "47628.37801501162 3 24\n",
      "47452.560671264066 3 25\n",
      "47540.22415447971 3 26\n",
      "47989.45031477079 3 27\n",
      "47935.71326218083 3 28\n",
      "47916.42004095523 3 29\n",
      "47987.544504508085 3 30\n",
      "47915.30520867828 3 31\n",
      "47463.751913326625 3 32\n",
      "47340.64976288347 3 33\n",
      "47349.415936442754 3 34\n",
      "47279.12497537666 3 35\n",
      "47136.4081844633 3 36\n",
      "47490.94952408467 3 37\n",
      "47131.971161135145 3 38\n",
      "46995.0298806465 3 39\n",
      "46827.487212016174 3 40\n",
      "46707.77515651634 3 41\n",
      "47160.29917563823 3 42\n",
      "47094.67119727201 3 43\n",
      "47200.17080557738 3 44\n",
      "47197.40257109894 3 45\n",
      "47304.03127765293 3 46\n",
      "47327.79984252764 3 47\n",
      "47338.01955407012 3 48\n",
      "47307.061655617596 3 49\n",
      "47246.04203903774 3 50\n",
      "47199.63367359657 3 51\n",
      "47163.3353444287 3 52\n",
      "47137.43919048222 3 53\n",
      "47069.03946637982 3 54\n",
      "47176.819971715304 3 55\n",
      "47446.18484675872 3 56\n",
      "47477.99066178078 3 57\n",
      "47525.88798741996 3 58\n",
      "47585.10127337595 3 59\n",
      "47628.20816862671 3 60\n",
      "47653.87113195487 3 61\n",
      "47762.527226965045 3 62\n",
      "47803.857923139134 3 63\n",
      "47829.93223267014 3 64\n",
      "47891.323832662965 3 65\n",
      "47778.457997201374 3 66\n",
      "47875.45682961698 3 67\n",
      "47875.85205065485 3 68\n",
      "47871.44308694841 3 69\n",
      "47798.82387220855 3 70\n",
      "47840.1119074966 3 71\n",
      "47989.28183138599 3 72\n",
      "48000.57119169868 3 73\n",
      "48011.795683424374 3 74\n",
      "47928.98068915213 3 75\n",
      "47953.213130480086 3 76\n",
      "48225.62992880885 3 77\n",
      "48375.498056372264 3 78\n",
      "48358.04210226659 3 79\n",
      "48417.31970070039 3 80\n",
      "48427.57844733556 3 81\n",
      "48402.3175495559 3 82\n",
      "48461.64006248928 3 83\n",
      "48404.15750239489 3 84\n",
      "48381.543392162166 3 85\n",
      "48360.0659769863 3 86\n",
      "48346.480786587344 3 87\n",
      "48361.96616203155 3 88\n",
      "48333.92277511935 3 89\n",
      "48386.02000019684 3 90\n",
      "48412.5994782557 3 91\n",
      "48465.887297234476 3 92\n",
      "48483.331405633435 3 93\n",
      "48361.50929696179 3 94\n",
      "48379.51314005816 3 95\n",
      "48411.94063875838 3 96\n",
      "48404.19508073968 3 97\n",
      "48454.382127951234 3 98\n",
      "48394.089560656015 3 99\n",
      "63869.53166181375 4 2\n",
      "63054.84016557733 4 3\n",
      "57358.458832998374 4 4\n",
      "58238.19876472147 4 5\n",
      "56462.5671670966 4 6\n",
      "55307.37318519298 4 7\n",
      "53940.35195872135 4 8\n",
      "53725.90804116566 4 9\n",
      "53286.76302675202 4 10\n",
      "52885.9770613004 4 11\n",
      "50860.29531234998 4 12\n",
      "50655.42676710132 4 13\n",
      "50149.05311224124 4 14\n",
      "49450.67222110329 4 15\n",
      "48772.40124193996 4 16\n",
      "48756.29857395381 4 17\n",
      "48486.256069453564 4 18\n",
      "47966.7419232312 4 19\n",
      "47731.04147366529 4 20\n",
      "47614.814561501276 4 21\n",
      "47477.12337846886 4 22\n",
      "47264.72031663775 4 23\n",
      "47019.09719837604 4 24\n",
      "46888.88889137337 4 25\n",
      "47312.61126315845 4 26\n",
      "47381.093783555305 4 27\n",
      "47372.883153656934 4 28\n",
      "47322.88770823981 4 29\n",
      "47623.90153596226 4 30\n",
      "47669.14149634771 4 31\n",
      "47077.83170522525 4 32\n",
      "46940.95167393033 4 33\n",
      "46961.6008130515 4 34\n",
      "46813.98844630211 4 35\n",
      "46941.17547576887 4 36\n",
      "47012.402891401056 4 37\n",
      "46711.18971060306 4 38\n",
      "46716.48113796075 4 39\n",
      "46820.76429345784 4 40\n",
      "46537.18443295955 4 41\n",
      "46536.15036175553 4 42\n",
      "46613.05334019195 4 43\n",
      "46642.31324042492 4 44\n",
      "46696.092126767544 4 45\n",
      "46736.613755441555 4 46\n",
      "46762.59982655723 4 47\n",
      "46682.89999040471 4 48\n",
      "46745.93866618794 4 49\n",
      "46735.251284939135 4 50\n",
      "46732.37327044785 4 51\n",
      "46722.85951478047 4 52\n",
      "46753.63670221107 4 53\n",
      "46794.92745225468 4 54\n",
      "47042.878101975264 4 55\n",
      "47035.49789141357 4 56\n",
      "47153.56331815026 4 57\n",
      "47139.4628629525 4 58\n",
      "47177.572471706124 4 59\n",
      "47213.67439609543 4 60\n",
      "47131.4512267427 4 61\n",
      "47156.96806427908 4 62\n",
      "47314.64341790185 4 63\n",
      "47546.46092943339 4 64\n",
      "47579.42463256808 4 65\n",
      "47574.63733087866 4 66\n",
      "47558.38766148838 4 67\n",
      "47665.91061288759 4 68\n",
      "47745.07279560592 4 69\n",
      "47730.56935817392 4 70\n",
      "47791.81922118614 4 71\n",
      "47763.43183540589 4 72\n",
      "48057.24056698859 4 73\n",
      "48078.91280463324 4 74\n",
      "48086.91472408396 4 75\n",
      "48166.711854585476 4 76\n",
      "48155.59498880578 4 77\n",
      "48227.83571311708 4 78\n",
      "48214.6731236152 4 79\n",
      "48173.55152493833 4 80\n",
      "48060.514045197386 4 81\n",
      "48173.50162562105 4 82\n",
      "48039.567003443604 4 83\n",
      "48026.18743359637 4 84\n",
      "48034.82149135762 4 85\n",
      "48052.992542595224 4 86\n",
      "48046.602621371945 4 87\n",
      "48095.13952872111 4 88\n",
      "48163.754382967745 4 89\n",
      "48134.97768998428 4 90\n",
      "48216.96798808907 4 91\n",
      "48226.35619186658 4 92\n",
      "48226.59266336727 4 93\n",
      "48214.005577064214 4 94\n",
      "48191.16742015731 4 95\n",
      "48228.113154325576 4 96\n",
      "48224.20477962876 4 97\n",
      "48238.59030542086 4 98\n",
      "48224.44190290433 4 99\n"
     ]
    }
   ],
   "source": [
    "mi=[2,3,4]\n",
    "for j in mi:\n",
    "    for k in range(2,100):\n",
    "            tree_reg = DecisionTreeRegressor(min_samples_split=j,max_leaf_nodes=k,random_state=42)\n",
    "            tree_reg.fit(x_train,y_train)\n",
    "            scores = cross_val_score(tree_reg, x_test,y_test,\n",
    "                                         scoring=\"neg_mean_squared_error\", cv=10)\n",
    "            rmse_scores = np.sqrt(-scores)\n",
    "            print(rmse_scores.mean(),j,k)"
   ]
  },
  {
   "cell_type": "code",
   "execution_count": 130,
   "metadata": {
    "execution": {
     "iopub.execute_input": "2020-10-01T05:26:26.563001Z",
     "iopub.status.busy": "2020-10-01T05:26:26.562336Z",
     "iopub.status.idle": "2020-10-01T05:27:03.558259Z",
     "shell.execute_reply": "2020-10-01T05:27:03.557636Z"
    },
    "papermill": {
     "duration": 37.290294,
     "end_time": "2020-10-01T05:27:03.558368",
     "exception": false,
     "start_time": "2020-10-01T05:26:26.268074",
     "status": "completed"
    },
    "tags": []
   },
   "outputs": [
    {
     "name": "stdout",
     "output_type": "stream",
     "text": [
      "63869.53166181375 2 10\n",
      "63869.53166181375 2 11\n",
      "63869.53166181375 2 12\n",
      "63869.53166181375 2 13\n",
      "63869.53166181375 2 14\n",
      "63869.53166181375 2 15\n",
      "63869.53166181375 2 16\n",
      "63869.53166181375 2 17\n",
      "63869.53166181375 2 18\n",
      "63869.53166181375 2 19\n",
      "63869.53166181375 3 10\n",
      "63869.53166181375 3 11\n",
      "63869.53166181375 3 12\n",
      "63869.53166181375 3 13\n",
      "63869.53166181375 3 14\n",
      "63869.53166181375 3 15\n",
      "63869.53166181375 3 16\n",
      "63869.53166181375 3 17\n",
      "63869.53166181375 3 18\n",
      "63869.53166181375 3 19\n",
      "63869.53166181375 4 10\n",
      "63869.53166181375 4 11\n",
      "63869.53166181375 4 12\n",
      "63869.53166181375 4 13\n",
      "63869.53166181375 4 14\n",
      "63869.53166181375 4 15\n",
      "63869.53166181375 4 16\n",
      "63869.53166181375 4 17\n",
      "63869.53166181375 4 18\n",
      "63869.53166181375 4 19\n",
      "57914.877959185615 2 10\n",
      "57914.877959185615 2 11\n",
      "57914.877959185615 2 12\n",
      "57914.877959185615 2 13\n",
      "57914.877959185615 2 14\n",
      "57914.877959185615 2 15\n",
      "57914.877959185615 2 16\n",
      "57914.877959185615 2 17\n",
      "57914.877959185615 2 18\n",
      "57914.877959185615 2 19\n",
      "57914.877959185615 3 10\n",
      "57914.877959185615 3 11\n",
      "57914.877959185615 3 12\n",
      "57914.877959185615 3 13\n",
      "57914.877959185615 3 14\n",
      "57914.877959185615 3 15\n",
      "57914.877959185615 3 16\n",
      "57914.877959185615 3 17\n",
      "57914.877959185615 3 18\n",
      "57914.877959185615 3 19\n",
      "57914.877959185615 4 10\n",
      "57914.877959185615 4 11\n",
      "57914.877959185615 4 12\n",
      "57914.877959185615 4 13\n",
      "57914.877959185615 4 14\n",
      "57914.877959185615 4 15\n",
      "57914.877959185615 4 16\n",
      "57914.877959185615 4 17\n",
      "57914.877959185615 4 18\n",
      "57914.877959185615 4 19\n",
      "55522.50143082814 2 10\n",
      "55522.50143082814 2 11\n",
      "55522.50143082814 2 12\n",
      "55522.50143082814 2 13\n",
      "55522.50143082814 2 14\n",
      "55522.50143082814 2 15\n",
      "55522.50143082814 2 16\n",
      "55522.50143082814 2 17\n",
      "55522.50143082814 2 18\n",
      "55522.50143082814 2 19\n",
      "54566.249598170085 3 10\n",
      "54566.249598170085 3 11\n",
      "54566.249598170085 3 12\n",
      "54566.249598170085 3 13\n",
      "54566.249598170085 3 14\n",
      "54566.249598170085 3 15\n",
      "54566.249598170085 3 16\n",
      "54566.249598170085 3 17\n",
      "54566.249598170085 3 18\n",
      "54566.249598170085 3 19\n",
      "54566.249598170085 4 10\n",
      "54566.249598170085 4 11\n",
      "54566.249598170085 4 12\n",
      "54566.249598170085 4 13\n",
      "54566.249598170085 4 14\n",
      "54566.249598170085 4 15\n",
      "54566.249598170085 4 16\n",
      "54566.249598170085 4 17\n",
      "54566.249598170085 4 18\n",
      "54566.249598170085 4 19\n",
      "53226.76544416767 2 10\n",
      "51921.979907924295 2 11\n",
      "50863.607697074745 2 12\n",
      "51540.43550520093 2 13\n",
      "51510.8525251897 2 14\n",
      "51597.633185954655 2 15\n",
      "51533.48639637635 2 16\n",
      "51533.48639637635 2 17\n",
      "51533.48639637635 2 18\n",
      "51533.48639637635 2 19\n",
      "53216.79076829917 3 10\n",
      "51911.71817763363 3 11\n",
      "50753.7100576938 3 12\n",
      "50585.31468893189 3 13\n",
      "50537.68300511147 3 14\n",
      "50674.09690289666 3 15\n",
      "50578.28698788896 3 16\n",
      "50578.28698788896 3 17\n",
      "50578.28698788896 3 18\n",
      "50578.28698788896 3 19\n",
      "53216.79076829917 4 10\n",
      "51911.71817763363 4 11\n",
      "50753.7100576938 4 12\n",
      "50585.31468893189 4 13\n",
      "50537.68300511147 4 14\n",
      "50674.09690289666 4 15\n",
      "50578.28698788896 4 16\n",
      "50578.28698788896 4 17\n",
      "50578.28698788896 4 18\n",
      "50578.28698788896 4 19\n",
      "53296.73770262052 2 10\n",
      "52896.238791591066 2 11\n",
      "50872.028024627805 2 12\n",
      "51836.49680872224 2 13\n",
      "52389.32993970101 2 14\n",
      "51824.14076068281 2 15\n",
      "50981.352095844886 2 16\n",
      "51279.73326705907 2 17\n",
      "51904.88748230868 2 18\n",
      "51665.37237193455 2 19\n",
      "53286.76302675202 3 10\n",
      "52885.9770613004 3 11\n",
      "50860.29531234998 3 12\n",
      "50395.267855221595 3 13\n",
      "50157.18494140638 3 14\n",
      "49272.59935045297 3 15\n",
      "48743.34985109228 3 16\n",
      "48369.739549131584 3 17\n",
      "48271.32536379035 3 18\n",
      "47792.86182371168 3 19\n",
      "53286.76302675202 4 10\n",
      "52885.9770613004 4 11\n",
      "50860.29531234998 4 12\n",
      "50395.267855221595 4 13\n",
      "50157.18494140638 4 14\n",
      "49272.59935045297 4 15\n",
      "48780.54703286883 4 16\n",
      "48407.77752920755 4 17\n",
      "48309.630471037555 4 18\n",
      "47832.70957012415 4 19\n",
      "53296.73770262052 2 10\n",
      "52896.238791591066 2 11\n",
      "50872.028024627805 2 12\n",
      "50667.11066582067 2 13\n",
      "50939.18134031597 2 14\n",
      "50333.084806956474 2 15\n",
      "49793.17687401131 2 16\n",
      "50027.64032170372 2 17\n",
      "49820.212755686625 2 18\n",
      "50295.59198021728 2 19\n",
      "53286.76302675202 3 10\n",
      "52885.9770613004 3 11\n",
      "50860.29531234998 3 12\n",
      "50655.42676710132 3 13\n",
      "50149.05311224124 3 14\n",
      "49450.67222110329 3 15\n",
      "48735.2040601634 3 16\n",
      "48718.26059387785 3 17\n",
      "48447.95096220636 3 18\n",
      "47926.894176818736 3 19\n",
      "53286.76302675202 4 10\n",
      "52885.9770613004 4 11\n",
      "50860.29531234998 4 12\n",
      "50655.42676710132 4 13\n",
      "50149.05311224124 4 14\n",
      "49450.67222110329 4 15\n",
      "48772.40124193996 4 16\n",
      "48756.29857395381 4 17\n",
      "48486.256069453564 4 18\n",
      "47966.7419232312 4 19\n",
      "53296.73770262052 2 10\n",
      "52896.238791591066 2 11\n",
      "50872.028024627805 2 12\n",
      "50667.11066582067 2 13\n",
      "50939.18134031597 2 14\n",
      "50333.084806956474 2 15\n",
      "49793.17687401131 2 16\n",
      "50027.64032170372 2 17\n",
      "49820.212755686625 2 18\n",
      "50295.59198021728 2 19\n",
      "53286.76302675202 3 10\n",
      "52885.9770613004 3 11\n",
      "50860.29531234998 3 12\n",
      "50655.42676710132 3 13\n",
      "50149.05311224124 3 14\n",
      "49450.67222110329 3 15\n",
      "48735.2040601634 3 16\n",
      "48718.26059387785 3 17\n",
      "48447.95096220636 3 18\n",
      "47926.894176818736 3 19\n",
      "53286.76302675202 4 10\n",
      "52885.9770613004 4 11\n",
      "50860.29531234998 4 12\n",
      "50655.42676710132 4 13\n",
      "50149.05311224124 4 14\n",
      "49450.67222110329 4 15\n",
      "48772.40124193996 4 16\n",
      "48756.29857395381 4 17\n",
      "48486.256069453564 4 18\n",
      "47966.7419232312 4 19\n",
      "53296.73770262052 2 10\n",
      "52896.238791591066 2 11\n",
      "50872.028024627805 2 12\n",
      "50667.11066582067 2 13\n",
      "50939.18134031597 2 14\n",
      "50333.084806956474 2 15\n",
      "49793.17687401131 2 16\n",
      "50027.64032170372 2 17\n",
      "49820.212755686625 2 18\n",
      "50295.59198021728 2 19\n",
      "53286.76302675202 3 10\n",
      "52885.9770613004 3 11\n",
      "50860.29531234998 3 12\n",
      "50655.42676710132 3 13\n",
      "50149.05311224124 3 14\n",
      "49450.67222110329 3 15\n",
      "48735.2040601634 3 16\n",
      "48718.26059387785 3 17\n",
      "48447.95096220636 3 18\n",
      "47926.894176818736 3 19\n",
      "53286.76302675202 4 10\n",
      "52885.9770613004 4 11\n",
      "50860.29531234998 4 12\n",
      "50655.42676710132 4 13\n",
      "50149.05311224124 4 14\n",
      "49450.67222110329 4 15\n",
      "48772.40124193996 4 16\n",
      "48756.29857395381 4 17\n",
      "48486.256069453564 4 18\n",
      "47966.7419232312 4 19\n",
      "53296.73770262052 2 10\n",
      "52896.238791591066 2 11\n",
      "50872.028024627805 2 12\n",
      "50667.11066582067 2 13\n",
      "50939.18134031597 2 14\n",
      "50333.084806956474 2 15\n",
      "49793.17687401131 2 16\n",
      "50027.64032170372 2 17\n",
      "49820.212755686625 2 18\n",
      "50295.59198021728 2 19\n",
      "53286.76302675202 3 10\n",
      "52885.9770613004 3 11\n",
      "50860.29531234998 3 12\n",
      "50655.42676710132 3 13\n",
      "50149.05311224124 3 14\n",
      "49450.67222110329 3 15\n",
      "48735.2040601634 3 16\n",
      "48718.26059387785 3 17\n",
      "48447.95096220636 3 18\n",
      "47926.894176818736 3 19\n",
      "53286.76302675202 4 10\n",
      "52885.9770613004 4 11\n",
      "50860.29531234998 4 12\n",
      "50655.42676710132 4 13\n",
      "50149.05311224124 4 14\n",
      "49450.67222110329 4 15\n",
      "48772.40124193996 4 16\n",
      "48756.29857395381 4 17\n",
      "48486.256069453564 4 18\n",
      "47966.7419232312 4 19\n",
      "53296.73770262052 2 10\n",
      "52896.238791591066 2 11\n",
      "50872.028024627805 2 12\n",
      "50667.11066582067 2 13\n",
      "50939.18134031597 2 14\n",
      "50333.084806956474 2 15\n",
      "49793.17687401131 2 16\n",
      "50027.64032170372 2 17\n",
      "49820.212755686625 2 18\n",
      "50295.59198021728 2 19\n",
      "53286.76302675202 3 10\n",
      "52885.9770613004 3 11\n",
      "50860.29531234998 3 12\n",
      "50655.42676710132 3 13\n",
      "50149.05311224124 3 14\n",
      "49450.67222110329 3 15\n",
      "48735.2040601634 3 16\n",
      "48718.26059387785 3 17\n",
      "48447.95096220636 3 18\n",
      "47926.894176818736 3 19\n",
      "53286.76302675202 4 10\n",
      "52885.9770613004 4 11\n",
      "50860.29531234998 4 12\n",
      "50655.42676710132 4 13\n",
      "50149.05311224124 4 14\n",
      "49450.67222110329 4 15\n",
      "48772.40124193996 4 16\n",
      "48756.29857395381 4 17\n",
      "48486.256069453564 4 18\n",
      "47966.7419232312 4 19\n",
      "53296.73770262052 2 10\n",
      "52896.238791591066 2 11\n",
      "50872.028024627805 2 12\n",
      "50667.11066582067 2 13\n",
      "50939.18134031597 2 14\n",
      "50333.084806956474 2 15\n",
      "49793.17687401131 2 16\n",
      "50027.64032170372 2 17\n",
      "49820.212755686625 2 18\n",
      "50295.59198021728 2 19\n",
      "53286.76302675202 3 10\n",
      "52885.9770613004 3 11\n",
      "50860.29531234998 3 12\n",
      "50655.42676710132 3 13\n",
      "50149.05311224124 3 14\n",
      "49450.67222110329 3 15\n",
      "48735.2040601634 3 16\n",
      "48718.26059387785 3 17\n",
      "48447.95096220636 3 18\n",
      "47926.894176818736 3 19\n",
      "53286.76302675202 4 10\n",
      "52885.9770613004 4 11\n",
      "50860.29531234998 4 12\n",
      "50655.42676710132 4 13\n",
      "50149.05311224124 4 14\n",
      "49450.67222110329 4 15\n",
      "48772.40124193996 4 16\n",
      "48756.29857395381 4 17\n",
      "48486.256069453564 4 18\n",
      "47966.7419232312 4 19\n",
      "53296.73770262052 2 10\n",
      "52896.238791591066 2 11\n",
      "50872.028024627805 2 12\n",
      "50667.11066582067 2 13\n",
      "50939.18134031597 2 14\n",
      "50333.084806956474 2 15\n",
      "49793.17687401131 2 16\n",
      "50027.64032170372 2 17\n",
      "49820.212755686625 2 18\n",
      "50295.59198021728 2 19\n",
      "53286.76302675202 3 10\n",
      "52885.9770613004 3 11\n",
      "50860.29531234998 3 12\n",
      "50655.42676710132 3 13\n",
      "50149.05311224124 3 14\n",
      "49450.67222110329 3 15\n",
      "48735.2040601634 3 16\n",
      "48718.26059387785 3 17\n",
      "48447.95096220636 3 18\n",
      "47926.894176818736 3 19\n",
      "53286.76302675202 4 10\n",
      "52885.9770613004 4 11\n",
      "50860.29531234998 4 12\n",
      "50655.42676710132 4 13\n",
      "50149.05311224124 4 14\n",
      "49450.67222110329 4 15\n",
      "48772.40124193996 4 16\n",
      "48756.29857395381 4 17\n",
      "48486.256069453564 4 18\n",
      "47966.7419232312 4 19\n",
      "53296.73770262052 2 10\n",
      "52896.238791591066 2 11\n",
      "50872.028024627805 2 12\n",
      "50667.11066582067 2 13\n",
      "50939.18134031597 2 14\n",
      "50333.084806956474 2 15\n",
      "49793.17687401131 2 16\n",
      "50027.64032170372 2 17\n",
      "49820.212755686625 2 18\n",
      "50295.59198021728 2 19\n",
      "53286.76302675202 3 10\n",
      "52885.9770613004 3 11\n",
      "50860.29531234998 3 12\n",
      "50655.42676710132 3 13\n",
      "50149.05311224124 3 14\n",
      "49450.67222110329 3 15\n",
      "48735.2040601634 3 16\n",
      "48718.26059387785 3 17\n",
      "48447.95096220636 3 18\n",
      "47926.894176818736 3 19\n",
      "53286.76302675202 4 10\n",
      "52885.9770613004 4 11\n",
      "50860.29531234998 4 12\n",
      "50655.42676710132 4 13\n",
      "50149.05311224124 4 14\n",
      "49450.67222110329 4 15\n",
      "48772.40124193996 4 16\n",
      "48756.29857395381 4 17\n",
      "48486.256069453564 4 18\n",
      "47966.7419232312 4 19\n"
     ]
    }
   ],
   "source": [
    "mi=[2,3,4]\n",
    "max=[1,2,3,4,5,6,7,8,9,10,11,12,13]\n",
    "for m in max:\n",
    "    for j in mi:\n",
    "        for k in range(10,20):\n",
    "                tree_reg = DecisionTreeRegressor(min_samples_split=j,max_leaf_nodes=k,max_depth=m,random_state=42)\n",
    "                tree_reg.fit(x_train,y_train)\n",
    "                scores = cross_val_score(tree_reg, x_test,y_test,\n",
    "                                             scoring=\"neg_mean_squared_error\", cv=10)\n",
    "                rmse_scores = np.sqrt(-scores)\n",
    "                print(rmse_scores.mean(),j,k)"
   ]
  },
  {
   "cell_type": "markdown",
   "metadata": {
    "papermill": {
     "duration": 0.318104,
     "end_time": "2020-10-01T05:27:04.190801",
     "exception": false,
     "start_time": "2020-10-01T05:27:03.872697",
     "status": "completed"
    },
    "tags": []
   },
   "source": [
    "Decision tree is acting like a dumbed"
   ]
  },
  {
   "cell_type": "code",
   "execution_count": 131,
   "metadata": {
    "execution": {
     "iopub.execute_input": "2020-10-01T05:27:04.835642Z",
     "iopub.status.busy": "2020-10-01T05:27:04.835045Z",
     "iopub.status.idle": "2020-10-01T05:27:08.054366Z",
     "shell.execute_reply": "2020-10-01T05:27:08.053356Z"
    },
    "papermill": {
     "duration": 3.551234,
     "end_time": "2020-10-01T05:27:08.054488",
     "exception": false,
     "start_time": "2020-10-01T05:27:04.503254",
     "status": "completed"
    },
    "tags": []
   },
   "outputs": [
    {
     "data": {
      "text/plain": [
       "RandomForestRegressor(max_leaf_nodes=16, n_estimators=500, n_jobs=-1,\n",
       "                      random_state=42)"
      ]
     },
     "execution_count": 131,
     "metadata": {},
     "output_type": "execute_result"
    }
   ],
   "source": [
    "rnd_clf = RandomForestRegressor(n_estimators=500, max_leaf_nodes=16, n_jobs=-1,random_state=42)\n",
    "rnd_clf.fit(x_train, y_train)\n"
   ]
  },
  {
   "cell_type": "code",
   "execution_count": 132,
   "metadata": {
    "execution": {
     "iopub.execute_input": "2020-10-01T05:27:08.696339Z",
     "iopub.status.busy": "2020-10-01T05:27:08.695705Z",
     "iopub.status.idle": "2020-10-01T05:27:25.680649Z",
     "shell.execute_reply": "2020-10-01T05:27:25.681062Z"
    },
    "papermill": {
     "duration": 17.313628,
     "end_time": "2020-10-01T05:27:25.681209",
     "exception": false,
     "start_time": "2020-10-01T05:27:08.367581",
     "status": "completed"
    },
    "tags": []
   },
   "outputs": [
    {
     "name": "stdout",
     "output_type": "stream",
     "text": [
      "35869.230288283354\n"
     ]
    }
   ],
   "source": [
    "scores = cross_val_score(rnd_clf, x_test,y_test,scoring=\"neg_mean_squared_error\", cv=10)\n",
    "rmse_scores = np.sqrt(-scores)\n",
    "print(rmse_scores.mean())"
   ]
  },
  {
   "cell_type": "code",
   "execution_count": 133,
   "metadata": {
    "execution": {
     "iopub.execute_input": "2020-10-01T05:27:26.327264Z",
     "iopub.status.busy": "2020-10-01T05:27:26.326716Z",
     "iopub.status.idle": "2020-10-01T05:27:55.717909Z",
     "shell.execute_reply": "2020-10-01T05:27:55.717253Z"
    },
    "papermill": {
     "duration": 29.716259,
     "end_time": "2020-10-01T05:27:55.718055",
     "exception": false,
     "start_time": "2020-10-01T05:27:26.001796",
     "status": "completed"
    },
    "tags": []
   },
   "outputs": [
    {
     "name": "stdout",
     "output_type": "stream",
     "text": [
      "33546.019408615284\n"
     ]
    }
   ],
   "source": [
    "rnd_clf = RandomForestRegressor(n_estimators=500, n_jobs=-1,random_state=42)\n",
    "rnd_clf.fit(x_train, y_train)\n",
    "scores = cross_val_score(rnd_clf, x_test,y_test,scoring=\"neg_mean_squared_error\", cv=10)\n",
    "rmse_scores = np.sqrt(-scores)\n",
    "print(rmse_scores.mean())"
   ]
  },
  {
   "cell_type": "code",
   "execution_count": 134,
   "metadata": {
    "execution": {
     "iopub.execute_input": "2020-10-01T05:27:56.358015Z",
     "iopub.status.busy": "2020-10-01T05:27:56.357448Z",
     "iopub.status.idle": "2020-10-01T05:28:09.531432Z",
     "shell.execute_reply": "2020-10-01T05:28:09.532181Z"
    },
    "papermill": {
     "duration": 13.496478,
     "end_time": "2020-10-01T05:28:09.532375",
     "exception": false,
     "start_time": "2020-10-01T05:27:56.035897",
     "status": "completed"
    },
    "tags": []
   },
   "outputs": [
    {
     "name": "stdout",
     "output_type": "stream",
     "text": [
      "34045.922673186345\n",
      "33872.106776431676\n",
      "33744.94793898791\n",
      "33565.505830838214\n"
     ]
    }
   ],
   "source": [
    "n_estimators=[10,20,30,40]\n",
    "for i in n_estimators:\n",
    "    rnd_clf = RandomForestRegressor(n_estimators=i,random_state=42)\n",
    "    rnd_clf.fit(x_train, y_train)\n",
    "    scores = cross_val_score(rnd_clf, x_test,y_test,scoring=\"neg_mean_squared_error\", cv=10)\n",
    "    rmse_scores = np.sqrt(-scores)\n",
    "    print(rmse_scores.mean())"
   ]
  },
  {
   "cell_type": "code",
   "execution_count": 135,
   "metadata": {
    "execution": {
     "iopub.execute_input": "2020-10-01T05:28:10.181938Z",
     "iopub.status.busy": "2020-10-01T05:28:10.181352Z",
     "iopub.status.idle": "2020-10-01T05:28:56.597739Z",
     "shell.execute_reply": "2020-10-01T05:28:56.596856Z"
    },
    "papermill": {
     "duration": 46.742197,
     "end_time": "2020-10-01T05:28:56.598073",
     "exception": false,
     "start_time": "2020-10-01T05:28:09.855876",
     "status": "completed"
    },
    "tags": []
   },
   "outputs": [
    {
     "name": "stdout",
     "output_type": "stream",
     "text": [
      "32042.916847772274\n",
      "32682.386556983914\n",
      "32030.673260699852\n",
      "32099.81870446157\n",
      "32397.641629558173\n",
      "31994.941808007985\n",
      "32723.86090087785\n",
      "32098.968897837487\n",
      "31780.654667775285\n",
      "32320.868980593998\n",
      "31989.77192932544\n",
      "32307.72421924599\n",
      "32147.23624939465\n",
      "31599.010075387865\n",
      "32201.166574776707\n",
      "32028.69043273926\n",
      "32544.915572021844\n",
      "32380.837592497213\n",
      "31651.34392669701\n",
      "31972.092043476023\n",
      "32135.649457470096\n",
      "32227.771777051035\n",
      "32285.52911785402\n",
      "31730.91879694606\n",
      "31831.04405744046\n",
      "32102.27063854451\n",
      "32038.21254323093\n",
      "32241.323097058787\n",
      "31690.90222530521\n",
      "31769.584697783874\n"
     ]
    }
   ],
   "source": [
    "n_estimators=[50,60,70,80,90,100]\n",
    "max=[8,9,10,11,12]\n",
    "for i in n_estimators:\n",
    "    for j in max:\n",
    "        rnd_clf = RandomForestRegressor(n_estimators=i,random_state=42,max_features=j)\n",
    "        rnd_clf.fit(x_train, y_train)\n",
    "        scores = cross_val_score(rnd_clf, x_test,y_test,scoring=\"neg_mean_squared_error\", cv=10)\n",
    "        rmse_scores = np.sqrt(-scores)\n",
    "        print(rmse_scores.mean())"
   ]
  },
  {
   "cell_type": "code",
   "execution_count": 136,
   "metadata": {
    "execution": {
     "iopub.execute_input": "2020-10-01T05:28:57.249728Z",
     "iopub.status.busy": "2020-10-01T05:28:57.249153Z",
     "iopub.status.idle": "2020-10-01T05:28:57.967142Z",
     "shell.execute_reply": "2020-10-01T05:28:57.967558Z"
    },
    "papermill": {
     "duration": 1.043846,
     "end_time": "2020-10-01T05:28:57.967734",
     "exception": false,
     "start_time": "2020-10-01T05:28:56.923888",
     "status": "completed"
    },
    "tags": []
   },
   "outputs": [],
   "source": [
    "import xgboost"
   ]
  },
  {
   "cell_type": "code",
   "execution_count": 137,
   "metadata": {
    "execution": {
     "iopub.execute_input": "2020-10-01T05:28:58.617845Z",
     "iopub.status.busy": "2020-10-01T05:28:58.617294Z",
     "iopub.status.idle": "2020-10-01T05:28:59.337805Z",
     "shell.execute_reply": "2020-10-01T05:28:59.338751Z"
    },
    "papermill": {
     "duration": 1.047012,
     "end_time": "2020-10-01T05:28:59.338926",
     "exception": false,
     "start_time": "2020-10-01T05:28:58.291914",
     "status": "completed"
    },
    "tags": []
   },
   "outputs": [
    {
     "data": {
      "text/plain": [
       "XGBRegressor(base_score=0.5, booster='gbtree', colsample_bylevel=1,\n",
       "             colsample_bynode=1, colsample_bytree=1, gamma=0, gpu_id=-1,\n",
       "             importance_type='gain', interaction_constraints='',\n",
       "             learning_rate=0.300000012, max_delta_step=0, max_depth=6,\n",
       "             min_child_weight=1, missing=nan, monotone_constraints='()',\n",
       "             n_estimators=100, n_jobs=0, num_parallel_tree=1, random_state=42,\n",
       "             reg_alpha=0, reg_lambda=1, scale_pos_weight=1, subsample=1,\n",
       "             tree_method='exact', validate_parameters=1, verbosity=None)"
      ]
     },
     "execution_count": 137,
     "metadata": {},
     "output_type": "execute_result"
    }
   ],
   "source": [
    "xgb_reg = xgboost.XGBRegressor(random_state=42)\n",
    "xgb_reg.fit(x_train, y_train)"
   ]
  },
  {
   "cell_type": "code",
   "execution_count": 138,
   "metadata": {
    "execution": {
     "iopub.execute_input": "2020-10-01T05:29:00.171892Z",
     "iopub.status.busy": "2020-10-01T05:29:00.171269Z",
     "iopub.status.idle": "2020-10-01T05:29:02.763731Z",
     "shell.execute_reply": "2020-10-01T05:29:02.764384Z"
    },
    "papermill": {
     "duration": 2.94146,
     "end_time": "2020-10-01T05:29:02.764565",
     "exception": false,
     "start_time": "2020-10-01T05:28:59.823105",
     "status": "completed"
    },
    "tags": []
   },
   "outputs": [
    {
     "name": "stdout",
     "output_type": "stream",
     "text": [
      "37559.39312393231\n"
     ]
    }
   ],
   "source": [
    "scores = cross_val_score(xgb_reg, x_test,y_test,scoring=\"neg_mean_squared_error\", cv=10)\n",
    "rmse_scores = np.sqrt(-scores)\n",
    "print(rmse_scores.mean())"
   ]
  },
  {
   "cell_type": "code",
   "execution_count": 139,
   "metadata": {
    "execution": {
     "iopub.execute_input": "2020-10-01T05:29:03.486033Z",
     "iopub.status.busy": "2020-10-01T05:29:03.485394Z",
     "iopub.status.idle": "2020-10-01T05:29:03.488080Z",
     "shell.execute_reply": "2020-10-01T05:29:03.488546Z"
    },
    "papermill": {
     "duration": 0.333469,
     "end_time": "2020-10-01T05:29:03.488675",
     "exception": false,
     "start_time": "2020-10-01T05:29:03.155206",
     "status": "completed"
    },
    "tags": []
   },
   "outputs": [],
   "source": [
    "params={\n",
    "    \"learning_rate\":[0.05,0.10,0.15,0.20,0.30],\n",
    "    \"max_depth\":[3,4,5,6,7,8,9,10,12,15,20,30,40,50],\n",
    "    \"min_child_weight\":[1,3,5,7,9,11,12,13,14,16,19,25,30],\n",
    "    \"gamma\":[0.0,0.1,0.2,0.3,0.4,0.5,0.6,0.7,0.8,1],\n",
    "    \"colsample_bytree\":[0.3,0.4,0.5,0.6,0.7,0.8],\n",
    "}"
   ]
  },
  {
   "cell_type": "code",
   "execution_count": 140,
   "metadata": {
    "execution": {
     "iopub.execute_input": "2020-10-01T05:29:04.145479Z",
     "iopub.status.busy": "2020-10-01T05:29:04.144637Z",
     "iopub.status.idle": "2020-10-01T05:29:04.147459Z",
     "shell.execute_reply": "2020-10-01T05:29:04.147052Z"
    },
    "papermill": {
     "duration": 0.332636,
     "end_time": "2020-10-01T05:29:04.147578",
     "exception": false,
     "start_time": "2020-10-01T05:29:03.814942",
     "status": "completed"
    },
    "tags": []
   },
   "outputs": [],
   "source": [
    "rs=RandomizedSearchCV(xgb_reg,param_distributions=params,n_iter=10,scoring='neg_mean_squared_error',cv=5)"
   ]
  },
  {
   "cell_type": "code",
   "execution_count": 141,
   "metadata": {
    "execution": {
     "iopub.execute_input": "2020-10-01T05:29:04.802433Z",
     "iopub.status.busy": "2020-10-01T05:29:04.801609Z",
     "iopub.status.idle": "2020-10-01T05:29:36.227756Z",
     "shell.execute_reply": "2020-10-01T05:29:36.228197Z"
    },
    "papermill": {
     "duration": 31.757335,
     "end_time": "2020-10-01T05:29:36.228337",
     "exception": false,
     "start_time": "2020-10-01T05:29:04.471002",
     "status": "completed"
    },
    "tags": []
   },
   "outputs": [
    {
     "data": {
      "text/plain": [
       "RandomizedSearchCV(cv=5,\n",
       "                   estimator=XGBRegressor(base_score=0.5, booster='gbtree',\n",
       "                                          colsample_bylevel=1,\n",
       "                                          colsample_bynode=1,\n",
       "                                          colsample_bytree=1, gamma=0,\n",
       "                                          gpu_id=-1, importance_type='gain',\n",
       "                                          interaction_constraints='',\n",
       "                                          learning_rate=0.300000012,\n",
       "                                          max_delta_step=0, max_depth=6,\n",
       "                                          min_child_weight=1, missing=nan,\n",
       "                                          monotone_constraints='()',\n",
       "                                          n_estimators=100, n_jobs=0,\n",
       "                                          num_par...\n",
       "                                          tree_method='exact',\n",
       "                                          validate_parameters=1,\n",
       "                                          verbosity=None),\n",
       "                   param_distributions={'colsample_bytree': [0.3, 0.4, 0.5, 0.6,\n",
       "                                                             0.7, 0.8],\n",
       "                                        'gamma': [0.0, 0.1, 0.2, 0.3, 0.4, 0.5,\n",
       "                                                  0.6, 0.7, 0.8, 1],\n",
       "                                        'learning_rate': [0.05, 0.1, 0.15, 0.2,\n",
       "                                                          0.3],\n",
       "                                        'max_depth': [3, 4, 5, 6, 7, 8, 9, 10,\n",
       "                                                      12, 15, 20, 30, 40, 50],\n",
       "                                        'min_child_weight': [1, 3, 5, 7, 9, 11,\n",
       "                                                             12, 13, 14, 16, 19,\n",
       "                                                             25, 30]},\n",
       "                   scoring='neg_mean_squared_error')"
      ]
     },
     "execution_count": 141,
     "metadata": {},
     "output_type": "execute_result"
    }
   ],
   "source": [
    "rs.fit(x_train,y_train)"
   ]
  },
  {
   "cell_type": "code",
   "execution_count": 142,
   "metadata": {
    "execution": {
     "iopub.execute_input": "2020-10-01T05:29:36.906278Z",
     "iopub.status.busy": "2020-10-01T05:29:36.905594Z",
     "iopub.status.idle": "2020-10-01T05:29:36.909741Z",
     "shell.execute_reply": "2020-10-01T05:29:36.909101Z"
    },
    "papermill": {
     "duration": 0.345785,
     "end_time": "2020-10-01T05:29:36.909864",
     "exception": false,
     "start_time": "2020-10-01T05:29:36.564079",
     "status": "completed"
    },
    "tags": []
   },
   "outputs": [
    {
     "data": {
      "text/plain": [
       "{'min_child_weight': 30,\n",
       " 'max_depth': 7,\n",
       " 'learning_rate': 0.1,\n",
       " 'gamma': 0.5,\n",
       " 'colsample_bytree': 0.6}"
      ]
     },
     "execution_count": 142,
     "metadata": {},
     "output_type": "execute_result"
    }
   ],
   "source": [
    "rs.best_params_"
   ]
  },
  {
   "cell_type": "code",
   "execution_count": 143,
   "metadata": {
    "execution": {
     "iopub.execute_input": "2020-10-01T05:29:37.566537Z",
     "iopub.status.busy": "2020-10-01T05:29:37.566024Z",
     "iopub.status.idle": "2020-10-01T05:29:37.572072Z",
     "shell.execute_reply": "2020-10-01T05:29:37.572604Z"
    },
    "papermill": {
     "duration": 0.333512,
     "end_time": "2020-10-01T05:29:37.572750",
     "exception": false,
     "start_time": "2020-10-01T05:29:37.239238",
     "status": "completed"
    },
    "tags": []
   },
   "outputs": [
    {
     "data": {
      "text/plain": [
       "XGBRegressor(base_score=0.5, booster='gbtree', colsample_bylevel=1,\n",
       "             colsample_bynode=1, colsample_bytree=0.6, gamma=0.5, gpu_id=-1,\n",
       "             importance_type='gain', interaction_constraints='',\n",
       "             learning_rate=0.1, max_delta_step=0, max_depth=7,\n",
       "             min_child_weight=30, missing=nan, monotone_constraints='()',\n",
       "             n_estimators=100, n_jobs=0, num_parallel_tree=1, random_state=42,\n",
       "             reg_alpha=0, reg_lambda=1, scale_pos_weight=1, subsample=1,\n",
       "             tree_method='exact', validate_parameters=1, verbosity=None)"
      ]
     },
     "execution_count": 143,
     "metadata": {},
     "output_type": "execute_result"
    }
   ],
   "source": [
    "rs.best_estimator_"
   ]
  },
  {
   "cell_type": "code",
   "execution_count": 144,
   "metadata": {
    "execution": {
     "iopub.execute_input": "2020-10-01T05:29:38.233197Z",
     "iopub.status.busy": "2020-10-01T05:29:38.232341Z",
     "iopub.status.idle": "2020-10-01T05:29:38.239085Z",
     "shell.execute_reply": "2020-10-01T05:29:38.238513Z"
    },
    "papermill": {
     "duration": 0.33838,
     "end_time": "2020-10-01T05:29:38.239190",
     "exception": false,
     "start_time": "2020-10-01T05:29:37.900810",
     "status": "completed"
    },
    "tags": []
   },
   "outputs": [],
   "source": [
    "xgb=xgboost.XGBRegressor(base_score=0.5, booster='gbtree', colsample_bylevel=1,\n",
    "             colsample_bynode=1, colsample_bytree=0.4, gamma=0.1, gpu_id=-1,\n",
    "             importance_type='gain', interaction_constraints='',\n",
    "             learning_rate=0.2, max_delta_step=0, max_depth=12,\n",
    "             min_child_weight=30, monotone_constraints='()',\n",
    "             n_estimators=100, n_jobs=0, num_parallel_tree=1, random_state=42,\n",
    "             reg_alpha=0, reg_lambda=1, scale_pos_weight=1, subsample=1,\n",
    "             tree_method='exact', validate_parameters=1, verbosity=None)"
   ]
  },
  {
   "cell_type": "code",
   "execution_count": 145,
   "metadata": {
    "execution": {
     "iopub.execute_input": "2020-10-01T05:29:38.897528Z",
     "iopub.status.busy": "2020-10-01T05:29:38.896838Z",
     "iopub.status.idle": "2020-10-01T05:29:40.338395Z",
     "shell.execute_reply": "2020-10-01T05:29:40.339290Z"
    },
    "papermill": {
     "duration": 1.774717,
     "end_time": "2020-10-01T05:29:40.339462",
     "exception": false,
     "start_time": "2020-10-01T05:29:38.564745",
     "status": "completed"
    },
    "tags": []
   },
   "outputs": [
    {
     "name": "stdout",
     "output_type": "stream",
     "text": [
      "32365.659809517627\n"
     ]
    }
   ],
   "source": [
    "scores = cross_val_score(xgb, x_test,y_test,scoring=\"neg_mean_squared_error\", cv=10)\n",
    "rmse_scores = np.sqrt(-scores)\n",
    "print(rmse_scores.mean())"
   ]
  },
  {
   "cell_type": "markdown",
   "metadata": {
    "papermill": {
     "duration": 0.327926,
     "end_time": "2020-10-01T05:29:41.055910",
     "exception": false,
     "start_time": "2020-10-01T05:29:40.727984",
     "status": "completed"
    },
    "tags": []
   },
   "source": [
    "From all analysis we came to conclusion that our svm model is the best"
   ]
  },
  {
   "cell_type": "code",
   "execution_count": 146,
   "metadata": {
    "execution": {
     "iopub.execute_input": "2020-10-01T05:29:41.722413Z",
     "iopub.status.busy": "2020-10-01T05:29:41.720932Z",
     "iopub.status.idle": "2020-10-01T05:29:41.725551Z",
     "shell.execute_reply": "2020-10-01T05:29:41.724965Z"
    },
    "papermill": {
     "duration": 0.340121,
     "end_time": "2020-10-01T05:29:41.725658",
     "exception": false,
     "start_time": "2020-10-01T05:29:41.385537",
     "status": "completed"
    },
    "tags": []
   },
   "outputs": [],
   "source": [
    "test.drop(trtr,axis=1,inplace=True)"
   ]
  },
  {
   "cell_type": "code",
   "execution_count": 147,
   "metadata": {
    "execution": {
     "iopub.execute_input": "2020-10-01T05:29:42.464052Z",
     "iopub.status.busy": "2020-10-01T05:29:42.463487Z",
     "iopub.status.idle": "2020-10-01T05:29:42.499488Z",
     "shell.execute_reply": "2020-10-01T05:29:42.498993Z"
    },
    "papermill": {
     "duration": 0.405705,
     "end_time": "2020-10-01T05:29:42.499593",
     "exception": false,
     "start_time": "2020-10-01T05:29:42.093888",
     "status": "completed"
    },
    "tags": []
   },
   "outputs": [],
   "source": [
    "num=[]\n",
    "cat=[]\n",
    "sep(test)\n",
    "x1,y1=split(test)\n"
   ]
  },
  {
   "cell_type": "code",
   "execution_count": 148,
   "metadata": {
    "execution": {
     "iopub.execute_input": "2020-10-01T05:29:43.168183Z",
     "iopub.status.busy": "2020-10-01T05:29:43.167599Z",
     "iopub.status.idle": "2020-10-01T05:29:43.199495Z",
     "shell.execute_reply": "2020-10-01T05:29:43.199996Z"
    },
    "papermill": {
     "duration": 0.371247,
     "end_time": "2020-10-01T05:29:43.200141",
     "exception": false,
     "start_time": "2020-10-01T05:29:42.828894",
     "status": "completed"
    },
    "tags": []
   },
   "outputs": [],
   "source": [
    "num=[]\n",
    "cat=[]\n",
    "sep(test)\n",
    "x,y=split(train)\n"
   ]
  },
  {
   "cell_type": "code",
   "execution_count": 149,
   "metadata": {
    "execution": {
     "iopub.execute_input": "2020-10-01T05:29:43.922016Z",
     "iopub.status.busy": "2020-10-01T05:29:43.921436Z",
     "iopub.status.idle": "2020-10-01T05:29:43.924254Z",
     "shell.execute_reply": "2020-10-01T05:29:43.923771Z"
    },
    "papermill": {
     "duration": 0.399179,
     "end_time": "2020-10-01T05:29:43.924361",
     "exception": false,
     "start_time": "2020-10-01T05:29:43.525182",
     "status": "completed"
    },
    "tags": []
   },
   "outputs": [],
   "source": [
    "a=[]\n",
    "for i in y.columns:\n",
    "    n=-1\n",
    "    for j in y1.columns:\n",
    "        n=n+1\n",
    "        if i==j:\n",
    "            break\n",
    "        elif n==222:\n",
    "            a.append(i)"
   ]
  },
  {
   "cell_type": "code",
   "execution_count": 150,
   "metadata": {
    "execution": {
     "iopub.execute_input": "2020-10-01T05:29:44.581543Z",
     "iopub.status.busy": "2020-10-01T05:29:44.580950Z",
     "iopub.status.idle": "2020-10-01T05:29:44.595483Z",
     "shell.execute_reply": "2020-10-01T05:29:44.595938Z"
    },
    "papermill": {
     "duration": 0.340294,
     "end_time": "2020-10-01T05:29:44.596066",
     "exception": false,
     "start_time": "2020-10-01T05:29:44.255772",
     "status": "completed"
    },
    "tags": []
   },
   "outputs": [],
   "source": [
    "for i in a:\n",
    "    y1[i]=y[i]"
   ]
  },
  {
   "cell_type": "code",
   "execution_count": 151,
   "metadata": {
    "execution": {
     "iopub.execute_input": "2020-10-01T05:29:45.258140Z",
     "iopub.status.busy": "2020-10-01T05:29:45.257579Z",
     "iopub.status.idle": "2020-10-01T05:29:45.261646Z",
     "shell.execute_reply": "2020-10-01T05:29:45.262052Z"
    },
    "papermill": {
     "duration": 0.339286,
     "end_time": "2020-10-01T05:29:45.262185",
     "exception": false,
     "start_time": "2020-10-01T05:29:44.922899",
     "status": "completed"
    },
    "tags": []
   },
   "outputs": [
    {
     "data": {
      "text/plain": [
       "239"
      ]
     },
     "execution_count": 151,
     "metadata": {},
     "output_type": "execute_result"
    }
   ],
   "source": [
    "len(y1.columns)"
   ]
  },
  {
   "cell_type": "code",
   "execution_count": 152,
   "metadata": {
    "execution": {
     "iopub.execute_input": "2020-10-01T05:29:45.925346Z",
     "iopub.status.busy": "2020-10-01T05:29:45.924364Z",
     "iopub.status.idle": "2020-10-01T05:29:45.931368Z",
     "shell.execute_reply": "2020-10-01T05:29:45.930785Z"
    },
    "papermill": {
     "duration": 0.344128,
     "end_time": "2020-10-01T05:29:45.931485",
     "exception": false,
     "start_time": "2020-10-01T05:29:45.587357",
     "status": "completed"
    },
    "tags": []
   },
   "outputs": [],
   "source": [
    "features1=scaling(x1,y1)"
   ]
  },
  {
   "cell_type": "code",
   "execution_count": 153,
   "metadata": {
    "execution": {
     "iopub.execute_input": "2020-10-01T05:29:46.592942Z",
     "iopub.status.busy": "2020-10-01T05:29:46.592356Z",
     "iopub.status.idle": "2020-10-01T05:29:47.172764Z",
     "shell.execute_reply": "2020-10-01T05:29:47.173394Z"
    },
    "papermill": {
     "duration": 0.91329,
     "end_time": "2020-10-01T05:29:47.173556",
     "exception": false,
     "start_time": "2020-10-01T05:29:46.260266",
     "status": "completed"
    },
    "tags": []
   },
   "outputs": [
    {
     "data": {
      "text/plain": [
       "XGBRegressor(base_score=0.5, booster='gbtree', colsample_bylevel=1,\n",
       "             colsample_bynode=1, colsample_bytree=0.4, gamma=0.1, gpu_id=-1,\n",
       "             importance_type='gain', interaction_constraints='',\n",
       "             learning_rate=0.2, max_delta_step=0, max_depth=12,\n",
       "             min_child_weight=30, missing=nan, monotone_constraints='()',\n",
       "             n_estimators=100, n_jobs=0, num_parallel_tree=1, random_state=42,\n",
       "             reg_alpha=0, reg_lambda=1, scale_pos_weight=1, subsample=1,\n",
       "             tree_method='exact', validate_parameters=1, verbosity=None)"
      ]
     },
     "execution_count": 153,
     "metadata": {},
     "output_type": "execute_result"
    }
   ],
   "source": [
    "xgb.fit(x_train,y_train)"
   ]
  },
  {
   "cell_type": "code",
   "execution_count": 154,
   "metadata": {
    "execution": {
     "iopub.execute_input": "2020-10-01T05:29:47.896884Z",
     "iopub.status.busy": "2020-10-01T05:29:47.895915Z",
     "iopub.status.idle": "2020-10-01T05:29:47.917340Z",
     "shell.execute_reply": "2020-10-01T05:29:47.917905Z"
    },
    "papermill": {
     "duration": 0.355376,
     "end_time": "2020-10-01T05:29:47.918098",
     "exception": false,
     "start_time": "2020-10-01T05:29:47.562722",
     "status": "completed"
    },
    "tags": []
   },
   "outputs": [],
   "source": [
    "y_pred=xgb.predict(features1)"
   ]
  },
  {
   "cell_type": "code",
   "execution_count": 155,
   "metadata": {
    "execution": {
     "iopub.execute_input": "2020-10-01T05:29:48.653271Z",
     "iopub.status.busy": "2020-10-01T05:29:48.652495Z",
     "iopub.status.idle": "2020-10-01T05:29:48.655451Z",
     "shell.execute_reply": "2020-10-01T05:29:48.655837Z"
    },
    "papermill": {
     "duration": 0.34544,
     "end_time": "2020-10-01T05:29:48.655980",
     "exception": false,
     "start_time": "2020-10-01T05:29:48.310540",
     "status": "completed"
    },
    "tags": []
   },
   "outputs": [
    {
     "data": {
      "text/html": [
       "<div>\n",
       "<style scoped>\n",
       "    .dataframe tbody tr th:only-of-type {\n",
       "        vertical-align: middle;\n",
       "    }\n",
       "\n",
       "    .dataframe tbody tr th {\n",
       "        vertical-align: top;\n",
       "    }\n",
       "\n",
       "    .dataframe thead th {\n",
       "        text-align: right;\n",
       "    }\n",
       "</style>\n",
       "<table border=\"1\" class=\"dataframe\">\n",
       "  <thead>\n",
       "    <tr style=\"text-align: right;\">\n",
       "      <th></th>\n",
       "      <th>Id</th>\n",
       "      <th>SalePrice</th>\n",
       "    </tr>\n",
       "  </thead>\n",
       "  <tbody>\n",
       "    <tr>\n",
       "      <th>0</th>\n",
       "      <td>1461</td>\n",
       "      <td>169277.052498</td>\n",
       "    </tr>\n",
       "    <tr>\n",
       "      <th>1</th>\n",
       "      <td>1462</td>\n",
       "      <td>187758.393989</td>\n",
       "    </tr>\n",
       "    <tr>\n",
       "      <th>2</th>\n",
       "      <td>1463</td>\n",
       "      <td>183583.683570</td>\n",
       "    </tr>\n",
       "    <tr>\n",
       "      <th>3</th>\n",
       "      <td>1464</td>\n",
       "      <td>179317.477511</td>\n",
       "    </tr>\n",
       "    <tr>\n",
       "      <th>4</th>\n",
       "      <td>1465</td>\n",
       "      <td>150730.079977</td>\n",
       "    </tr>\n",
       "  </tbody>\n",
       "</table>\n",
       "</div>"
      ],
      "text/plain": [
       "     Id      SalePrice\n",
       "0  1461  169277.052498\n",
       "1  1462  187758.393989\n",
       "2  1463  183583.683570\n",
       "3  1464  179317.477511\n",
       "4  1465  150730.079977"
      ]
     },
     "execution_count": 155,
     "metadata": {},
     "output_type": "execute_result"
    }
   ],
   "source": [
    "fffff.head()"
   ]
  },
  {
   "cell_type": "code",
   "execution_count": 156,
   "metadata": {
    "execution": {
     "iopub.execute_input": "2020-10-01T05:29:49.351164Z",
     "iopub.status.busy": "2020-10-01T05:29:49.350628Z",
     "iopub.status.idle": "2020-10-01T05:29:49.354599Z",
     "shell.execute_reply": "2020-10-01T05:29:49.355100Z"
    },
    "papermill": {
     "duration": 0.370032,
     "end_time": "2020-10-01T05:29:49.355230",
     "exception": false,
     "start_time": "2020-10-01T05:29:48.985198",
     "status": "completed"
    },
    "tags": []
   },
   "outputs": [],
   "source": [
    "r = pd.Series(y_pred,name=\"SalePrice\")"
   ]
  },
  {
   "cell_type": "code",
   "execution_count": 157,
   "metadata": {
    "execution": {
     "iopub.execute_input": "2020-10-01T05:29:50.012492Z",
     "iopub.status.busy": "2020-10-01T05:29:50.011979Z",
     "iopub.status.idle": "2020-10-01T05:29:50.019833Z",
     "shell.execute_reply": "2020-10-01T05:29:50.019412Z"
    },
    "papermill": {
     "duration": 0.338736,
     "end_time": "2020-10-01T05:29:50.019948",
     "exception": false,
     "start_time": "2020-10-01T05:29:49.681212",
     "status": "completed"
    },
    "tags": []
   },
   "outputs": [
    {
     "data": {
      "text/plain": [
       "<bound method NDFrame.tail of         Id      SalePrice\n",
       "0     1461  169277.052498\n",
       "1     1462  187758.393989\n",
       "2     1463  183583.683570\n",
       "3     1464  179317.477511\n",
       "4     1465  150730.079977\n",
       "...    ...            ...\n",
       "1454  2915  167081.220949\n",
       "1455  2916  164788.778231\n",
       "1456  2917  219222.423400\n",
       "1457  2918  184924.279659\n",
       "1458  2919  187741.866657\n",
       "\n",
       "[1459 rows x 2 columns]>"
      ]
     },
     "execution_count": 157,
     "metadata": {},
     "output_type": "execute_result"
    }
   ],
   "source": [
    "fffff.tail"
   ]
  },
  {
   "cell_type": "code",
   "execution_count": 158,
   "metadata": {
    "execution": {
     "iopub.execute_input": "2020-10-01T05:29:50.674729Z",
     "iopub.status.busy": "2020-10-01T05:29:50.674171Z",
     "iopub.status.idle": "2020-10-01T05:29:50.676644Z",
     "shell.execute_reply": "2020-10-01T05:29:50.677108Z"
    },
    "papermill": {
     "duration": 0.333648,
     "end_time": "2020-10-01T05:29:50.677240",
     "exception": false,
     "start_time": "2020-10-01T05:29:50.343592",
     "status": "completed"
    },
    "tags": []
   },
   "outputs": [
    {
     "data": {
      "text/plain": [
       "0       131275.406250\n",
       "1       139226.484375\n",
       "2       184361.828125\n",
       "3       173928.515625\n",
       "4       193718.968750\n",
       "            ...      \n",
       "1454     92271.187500\n",
       "1455    101729.359375\n",
       "1456    175113.812500\n",
       "1457    117328.453125\n",
       "1458    214645.531250\n",
       "Name: SalePrice, Length: 1459, dtype: float32"
      ]
     },
     "execution_count": 158,
     "metadata": {},
     "output_type": "execute_result"
    }
   ],
   "source": [
    "r"
   ]
  },
  {
   "cell_type": "code",
   "execution_count": 159,
   "metadata": {
    "execution": {
     "iopub.execute_input": "2020-10-01T05:29:51.338649Z",
     "iopub.status.busy": "2020-10-01T05:29:51.338103Z",
     "iopub.status.idle": "2020-10-01T05:29:51.343893Z",
     "shell.execute_reply": "2020-10-01T05:29:51.344318Z"
    },
    "papermill": {
     "duration": 0.339604,
     "end_time": "2020-10-01T05:29:51.344449",
     "exception": false,
     "start_time": "2020-10-01T05:29:51.004845",
     "status": "completed"
    },
    "tags": []
   },
   "outputs": [],
   "source": [
    "submission = pd.concat([pd.Series(range(1461,2920),name = \"Id\"),r],axis = 1)"
   ]
  },
  {
   "cell_type": "code",
   "execution_count": 160,
   "metadata": {
    "execution": {
     "iopub.execute_input": "2020-10-01T05:29:52.011658Z",
     "iopub.status.busy": "2020-10-01T05:29:52.011096Z",
     "iopub.status.idle": "2020-10-01T05:29:52.020454Z",
     "shell.execute_reply": "2020-10-01T05:29:52.020886Z"
    },
    "papermill": {
     "duration": 0.350777,
     "end_time": "2020-10-01T05:29:52.021024",
     "exception": false,
     "start_time": "2020-10-01T05:29:51.670247",
     "status": "completed"
    },
    "tags": []
   },
   "outputs": [
    {
     "data": {
      "text/html": [
       "<div>\n",
       "<style scoped>\n",
       "    .dataframe tbody tr th:only-of-type {\n",
       "        vertical-align: middle;\n",
       "    }\n",
       "\n",
       "    .dataframe tbody tr th {\n",
       "        vertical-align: top;\n",
       "    }\n",
       "\n",
       "    .dataframe thead th {\n",
       "        text-align: right;\n",
       "    }\n",
       "</style>\n",
       "<table border=\"1\" class=\"dataframe\">\n",
       "  <thead>\n",
       "    <tr style=\"text-align: right;\">\n",
       "      <th></th>\n",
       "      <th>Id</th>\n",
       "      <th>SalePrice</th>\n",
       "    </tr>\n",
       "  </thead>\n",
       "  <tbody>\n",
       "    <tr>\n",
       "      <th>0</th>\n",
       "      <td>1461</td>\n",
       "      <td>131275.406250</td>\n",
       "    </tr>\n",
       "    <tr>\n",
       "      <th>1</th>\n",
       "      <td>1462</td>\n",
       "      <td>139226.484375</td>\n",
       "    </tr>\n",
       "    <tr>\n",
       "      <th>2</th>\n",
       "      <td>1463</td>\n",
       "      <td>184361.828125</td>\n",
       "    </tr>\n",
       "    <tr>\n",
       "      <th>3</th>\n",
       "      <td>1464</td>\n",
       "      <td>173928.515625</td>\n",
       "    </tr>\n",
       "    <tr>\n",
       "      <th>4</th>\n",
       "      <td>1465</td>\n",
       "      <td>193718.968750</td>\n",
       "    </tr>\n",
       "    <tr>\n",
       "      <th>...</th>\n",
       "      <td>...</td>\n",
       "      <td>...</td>\n",
       "    </tr>\n",
       "    <tr>\n",
       "      <th>1454</th>\n",
       "      <td>2915</td>\n",
       "      <td>92271.187500</td>\n",
       "    </tr>\n",
       "    <tr>\n",
       "      <th>1455</th>\n",
       "      <td>2916</td>\n",
       "      <td>101729.359375</td>\n",
       "    </tr>\n",
       "    <tr>\n",
       "      <th>1456</th>\n",
       "      <td>2917</td>\n",
       "      <td>175113.812500</td>\n",
       "    </tr>\n",
       "    <tr>\n",
       "      <th>1457</th>\n",
       "      <td>2918</td>\n",
       "      <td>117328.453125</td>\n",
       "    </tr>\n",
       "    <tr>\n",
       "      <th>1458</th>\n",
       "      <td>2919</td>\n",
       "      <td>214645.531250</td>\n",
       "    </tr>\n",
       "  </tbody>\n",
       "</table>\n",
       "<p>1459 rows × 2 columns</p>\n",
       "</div>"
      ],
      "text/plain": [
       "        Id      SalePrice\n",
       "0     1461  131275.406250\n",
       "1     1462  139226.484375\n",
       "2     1463  184361.828125\n",
       "3     1464  173928.515625\n",
       "4     1465  193718.968750\n",
       "...    ...            ...\n",
       "1454  2915   92271.187500\n",
       "1455  2916  101729.359375\n",
       "1456  2917  175113.812500\n",
       "1457  2918  117328.453125\n",
       "1458  2919  214645.531250\n",
       "\n",
       "[1459 rows x 2 columns]"
      ]
     },
     "execution_count": 160,
     "metadata": {},
     "output_type": "execute_result"
    }
   ],
   "source": [
    "submission"
   ]
  },
  {
   "cell_type": "code",
   "execution_count": 161,
   "metadata": {
    "execution": {
     "iopub.execute_input": "2020-10-01T05:29:52.677043Z",
     "iopub.status.busy": "2020-10-01T05:29:52.676453Z",
     "iopub.status.idle": "2020-10-01T05:29:52.988390Z",
     "shell.execute_reply": "2020-10-01T05:29:52.987863Z"
    },
    "papermill": {
     "duration": 0.64075,
     "end_time": "2020-10-01T05:29:52.988496",
     "exception": false,
     "start_time": "2020-10-01T05:29:52.347746",
     "status": "completed"
    },
    "tags": []
   },
   "outputs": [],
   "source": [
    "submission.to_csv(\"regression.csv\",index=False)"
   ]
  },
  {
   "cell_type": "code",
   "execution_count": null,
   "metadata": {
    "papermill": {
     "duration": 0.33394,
     "end_time": "2020-10-01T05:29:53.650664",
     "exception": false,
     "start_time": "2020-10-01T05:29:53.316724",
     "status": "completed"
    },
    "tags": []
   },
   "outputs": [],
   "source": []
  }
 ],
 "metadata": {
  "kernelspec": {
   "display_name": "Python 3",
   "language": "python",
   "name": "python3"
  },
  "language_info": {
   "codemirror_mode": {
    "name": "ipython",
    "version": 3
   },
   "file_extension": ".py",
   "mimetype": "text/x-python",
   "name": "python",
   "nbconvert_exporter": "python",
   "pygments_lexer": "ipython3",
   "version": "3.7.6"
  },
  "papermill": {
   "duration": 789.819603,
   "end_time": "2020-10-01T05:29:54.097310",
   "environment_variables": {},
   "exception": null,
   "input_path": "__notebook__.ipynb",
   "output_path": "__notebook__.ipynb",
   "parameters": {},
   "start_time": "2020-10-01T05:16:44.277707",
   "version": "2.1.0"
  }
 },
 "nbformat": 4,
 "nbformat_minor": 4
}
